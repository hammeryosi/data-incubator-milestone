{
 "cells": [
  {
   "cell_type": "code",
   "execution_count": 8,
   "metadata": {
    "collapsed": false
   },
   "outputs": [
    {
     "data": {
      "text/html": [
       "\n",
       "    <div class=\"bk-root\">\n",
       "        <a href=\"http://bokeh.pydata.org\" target=\"_blank\" class=\"bk-logo bk-logo-small bk-logo-notebook\"></a>\n",
       "        <span id=\"9b36fa20-9e3f-4bed-b891-af445b5cdf48\">Loading BokehJS ...</span>\n",
       "    </div>"
      ]
     },
     "metadata": {},
     "output_type": "display_data"
    },
    {
     "data": {
      "application/javascript": [
       "\n",
       "(function(global) {\n",
       "  function now() {\n",
       "    return new Date();\n",
       "  }\n",
       "\n",
       "  var force = true;\n",
       "\n",
       "  if (typeof (window._bokeh_onload_callbacks) === \"undefined\" || force === true) {\n",
       "    window._bokeh_onload_callbacks = [];\n",
       "    window._bokeh_is_loading = undefined;\n",
       "  }\n",
       "\n",
       "\n",
       "  \n",
       "  if (typeof (window._bokeh_timeout) === \"undefined\" || force === true) {\n",
       "    window._bokeh_timeout = Date.now() + 5000;\n",
       "    window._bokeh_failed_load = false;\n",
       "  }\n",
       "\n",
       "  var NB_LOAD_WARNING = {'data': {'text/html':\n",
       "     \"<div style='background-color: #fdd'>\\n\"+\n",
       "     \"<p>\\n\"+\n",
       "     \"BokehJS does not appear to have successfully loaded. If loading BokehJS from CDN, this \\n\"+\n",
       "     \"may be due to a slow or bad network connection. Possible fixes:\\n\"+\n",
       "     \"</p>\\n\"+\n",
       "     \"<ul>\\n\"+\n",
       "     \"<li>re-rerun `output_notebook()` to attempt to load from CDN again, or</li>\\n\"+\n",
       "     \"<li>use INLINE resources instead, as so:</li>\\n\"+\n",
       "     \"</ul>\\n\"+\n",
       "     \"<code>\\n\"+\n",
       "     \"from bokeh.resources import INLINE\\n\"+\n",
       "     \"output_notebook(resources=INLINE)\\n\"+\n",
       "     \"</code>\\n\"+\n",
       "     \"</div>\"}};\n",
       "\n",
       "  function display_loaded() {\n",
       "    if (window.Bokeh !== undefined) {\n",
       "      document.getElementById(\"9b36fa20-9e3f-4bed-b891-af445b5cdf48\").textContent = \"BokehJS successfully loaded.\";\n",
       "    } else if (Date.now() < window._bokeh_timeout) {\n",
       "      setTimeout(display_loaded, 100)\n",
       "    }\n",
       "  }\n",
       "\n",
       "  function run_callbacks() {\n",
       "    window._bokeh_onload_callbacks.forEach(function(callback) { callback() });\n",
       "    delete window._bokeh_onload_callbacks\n",
       "    console.info(\"Bokeh: all callbacks have finished\");\n",
       "  }\n",
       "\n",
       "  function load_libs(js_urls, callback) {\n",
       "    window._bokeh_onload_callbacks.push(callback);\n",
       "    if (window._bokeh_is_loading > 0) {\n",
       "      console.log(\"Bokeh: BokehJS is being loaded, scheduling callback at\", now());\n",
       "      return null;\n",
       "    }\n",
       "    if (js_urls == null || js_urls.length === 0) {\n",
       "      run_callbacks();\n",
       "      return null;\n",
       "    }\n",
       "    console.log(\"Bokeh: BokehJS not loaded, scheduling load and callback at\", now());\n",
       "    window._bokeh_is_loading = js_urls.length;\n",
       "    for (var i = 0; i < js_urls.length; i++) {\n",
       "      var url = js_urls[i];\n",
       "      var s = document.createElement('script');\n",
       "      s.src = url;\n",
       "      s.async = false;\n",
       "      s.onreadystatechange = s.onload = function() {\n",
       "        window._bokeh_is_loading--;\n",
       "        if (window._bokeh_is_loading === 0) {\n",
       "          console.log(\"Bokeh: all BokehJS libraries loaded\");\n",
       "          run_callbacks()\n",
       "        }\n",
       "      };\n",
       "      s.onerror = function() {\n",
       "        console.warn(\"failed to load library \" + url);\n",
       "      };\n",
       "      console.log(\"Bokeh: injecting script tag for BokehJS library: \", url);\n",
       "      document.getElementsByTagName(\"head\")[0].appendChild(s);\n",
       "    }\n",
       "  };var element = document.getElementById(\"9b36fa20-9e3f-4bed-b891-af445b5cdf48\");\n",
       "  if (element == null) {\n",
       "    console.log(\"Bokeh: ERROR: autoload.js configured with elementid '9b36fa20-9e3f-4bed-b891-af445b5cdf48' but no matching script tag was found. \")\n",
       "    return false;\n",
       "  }\n",
       "\n",
       "  var js_urls = [\"https://cdn.pydata.org/bokeh/release/bokeh-0.12.4.min.js\", \"https://cdn.pydata.org/bokeh/release/bokeh-widgets-0.12.4.min.js\"];\n",
       "\n",
       "  var inline_js = [\n",
       "    function(Bokeh) {\n",
       "      Bokeh.set_log_level(\"info\");\n",
       "    },\n",
       "    \n",
       "    function(Bokeh) {\n",
       "      \n",
       "      document.getElementById(\"9b36fa20-9e3f-4bed-b891-af445b5cdf48\").textContent = \"BokehJS is loading...\";\n",
       "    },\n",
       "    function(Bokeh) {\n",
       "      console.log(\"Bokeh: injecting CSS: https://cdn.pydata.org/bokeh/release/bokeh-0.12.4.min.css\");\n",
       "      Bokeh.embed.inject_css(\"https://cdn.pydata.org/bokeh/release/bokeh-0.12.4.min.css\");\n",
       "      console.log(\"Bokeh: injecting CSS: https://cdn.pydata.org/bokeh/release/bokeh-widgets-0.12.4.min.css\");\n",
       "      Bokeh.embed.inject_css(\"https://cdn.pydata.org/bokeh/release/bokeh-widgets-0.12.4.min.css\");\n",
       "    }\n",
       "  ];\n",
       "\n",
       "  function run_inline_js() {\n",
       "    \n",
       "    if ((window.Bokeh !== undefined) || (force === true)) {\n",
       "      for (var i = 0; i < inline_js.length; i++) {\n",
       "        inline_js[i](window.Bokeh);\n",
       "      }if (force === true) {\n",
       "        display_loaded();\n",
       "      }} else if (Date.now() < window._bokeh_timeout) {\n",
       "      setTimeout(run_inline_js, 100);\n",
       "    } else if (!window._bokeh_failed_load) {\n",
       "      console.log(\"Bokeh: BokehJS failed to load within specified timeout.\");\n",
       "      window._bokeh_failed_load = true;\n",
       "    } else if (force !== true) {\n",
       "      var cell = $(document.getElementById(\"9b36fa20-9e3f-4bed-b891-af445b5cdf48\")).parents('.cell').data().cell;\n",
       "      cell.output_area.append_execute_result(NB_LOAD_WARNING)\n",
       "    }\n",
       "\n",
       "  }\n",
       "\n",
       "  if (window._bokeh_is_loading === 0) {\n",
       "    console.log(\"Bokeh: BokehJS loaded, going straight to plotting\");\n",
       "    run_inline_js();\n",
       "  } else {\n",
       "    load_libs(js_urls, function() {\n",
       "      console.log(\"Bokeh: BokehJS plotting callback run at\", now());\n",
       "      run_inline_js();\n",
       "    });\n",
       "  }\n",
       "}(this));"
      ]
     },
     "metadata": {},
     "output_type": "display_data"
    }
   ],
   "source": [
    "import requests\n",
    "import quandl\n",
    "import pandas as pd\n",
    "from bokeh.plotting import figure, show\n",
    "from bokeh.io import output_notebook\n",
    "output_notebook()\n",
    "from bokeh.embed import components"
   ]
  },
  {
   "cell_type": "code",
   "execution_count": 9,
   "metadata": {
    "collapsed": true
   },
   "outputs": [],
   "source": [
    "quandl.ApiConfig.api_key = '115daC9Bm9f12ogqipdx'"
   ]
  },
  {
   "cell_type": "code",
   "execution_count": 27,
   "metadata": {
    "collapsed": false
   },
   "outputs": [],
   "source": [
    "def getData(stock, startDate, endDate, fields):\n",
    "    return quandl.get_table(\"WIKI/PRICES\",\n",
    "                          qopts={\"columns\":[\"ticker\", \"date\"] + fields},\n",
    "                          ticker=[stock],\n",
    "                          date={'gte': startDate, 'lte': endDate})\n",
    "\n",
    "def createPlotFromWeb(stock, startDate, endDate, fields, width):\n",
    "    data = getData(stock, startDate, endDate, fields)\n",
    "    x = data['date']\n",
    "    cols = ['black', 'orange', 'green', 'blue']\n",
    "    p = figure(title=stock, x_axis_type=\"datetime\", plot_width=width)\n",
    "    for f in fields:\n",
    "        p.line(x, y=data[f], legend=f, color=cols[fields.index(f)])\n",
    "        p.circle(x, y=data[f], legend=f, color=cols[fields.index(f)])\n",
    "    script, div = components(p)\n",
    "    return (data.to_json(), script, div)\n",
    "\n",
    "def createPlotFromData(dat, width):\n",
    "    data = pd.read_json(dat)\n",
    "    fields = list(set(data.columns).difference({'ticker', 'date'}))\n",
    "    stock = data['ticker'][0]\n",
    "    x = data['date']\n",
    "    cols = ['black', 'orange', 'green', 'blue']\n",
    "    p = figure(title=stock, x_axis_type=\"datetime\", plot_width=width)\n",
    "    for f in fields:\n",
    "        p.line(x, y=data[f], legend=f, color=cols[fields.index(f)])\n",
    "        p.circle(x, y=data[f], legend=f, color=cols[fields.index(f)])\n",
    "    script, div = components(p)\n",
    "    return script, div"
   ]
  },
  {
   "cell_type": "code",
   "execution_count": 28,
   "metadata": {
    "collapsed": false
   },
   "outputs": [
    {
     "ename": "AttributeError",
     "evalue": "'set' object has no attribute 'index'",
     "output_type": "error",
     "traceback": [
      "\u001b[0;31m---------------------------------------------------------------------------\u001b[0m",
      "\u001b[0;31mAttributeError\u001b[0m                            Traceback (most recent call last)",
      "\u001b[0;32m<ipython-input-28-661f8f29bf9d>\u001b[0m in \u001b[0;36m<module>\u001b[0;34m()\u001b[0m\n\u001b[1;32m      1\u001b[0m \u001b[0mdata\u001b[0m\u001b[0;34m,\u001b[0m \u001b[0mscript\u001b[0m\u001b[0;34m,\u001b[0m \u001b[0mdiv\u001b[0m \u001b[0;34m=\u001b[0m \u001b[0mcreatePlotFromWeb\u001b[0m\u001b[0;34m(\u001b[0m\u001b[0;34m'GOOG'\u001b[0m\u001b[0;34m,\u001b[0m \u001b[0;34m'2016-05-20'\u001b[0m\u001b[0;34m,\u001b[0m \u001b[0;34m'2017-03-12'\u001b[0m\u001b[0;34m,\u001b[0m \u001b[0;34m[\u001b[0m\u001b[0;34m'close'\u001b[0m\u001b[0;34m,\u001b[0m \u001b[0;34m'high'\u001b[0m\u001b[0;34m]\u001b[0m\u001b[0;34m,\u001b[0m \u001b[0;36m400\u001b[0m\u001b[0;34m)\u001b[0m\u001b[0;34m\u001b[0m\u001b[0m\n\u001b[0;32m----> 2\u001b[0;31m \u001b[0mscript1\u001b[0m\u001b[0;34m,\u001b[0m \u001b[0mdiv1\u001b[0m \u001b[0;34m=\u001b[0m \u001b[0mcreatePlotFromData\u001b[0m\u001b[0;34m(\u001b[0m\u001b[0mdata\u001b[0m\u001b[0;34m,\u001b[0m \u001b[0;36m400\u001b[0m\u001b[0;34m)\u001b[0m\u001b[0;34m\u001b[0m\u001b[0m\n\u001b[0m",
      "\u001b[0;32m<ipython-input-27-0da90d854eaf>\u001b[0m in \u001b[0;36mcreatePlotFromData\u001b[0;34m(dat, width)\u001b[0m\n\u001b[1;32m     24\u001b[0m     \u001b[0mp\u001b[0m \u001b[0;34m=\u001b[0m \u001b[0mfigure\u001b[0m\u001b[0;34m(\u001b[0m\u001b[0mtitle\u001b[0m\u001b[0;34m=\u001b[0m\u001b[0mstock\u001b[0m\u001b[0;34m,\u001b[0m \u001b[0mx_axis_type\u001b[0m\u001b[0;34m=\u001b[0m\u001b[0;34m\"datetime\"\u001b[0m\u001b[0;34m,\u001b[0m \u001b[0mplot_width\u001b[0m\u001b[0;34m=\u001b[0m\u001b[0mwidth\u001b[0m\u001b[0;34m)\u001b[0m\u001b[0;34m\u001b[0m\u001b[0m\n\u001b[1;32m     25\u001b[0m     \u001b[0;32mfor\u001b[0m \u001b[0mf\u001b[0m \u001b[0;32min\u001b[0m \u001b[0mfields\u001b[0m\u001b[0;34m:\u001b[0m\u001b[0;34m\u001b[0m\u001b[0m\n\u001b[0;32m---> 26\u001b[0;31m         \u001b[0mp\u001b[0m\u001b[0;34m.\u001b[0m\u001b[0mline\u001b[0m\u001b[0;34m(\u001b[0m\u001b[0mx\u001b[0m\u001b[0;34m,\u001b[0m \u001b[0my\u001b[0m\u001b[0;34m=\u001b[0m\u001b[0mdata\u001b[0m\u001b[0;34m[\u001b[0m\u001b[0mf\u001b[0m\u001b[0;34m]\u001b[0m\u001b[0;34m,\u001b[0m \u001b[0mlegend\u001b[0m\u001b[0;34m=\u001b[0m\u001b[0mf\u001b[0m\u001b[0;34m,\u001b[0m \u001b[0mcolor\u001b[0m\u001b[0;34m=\u001b[0m\u001b[0mcols\u001b[0m\u001b[0;34m[\u001b[0m\u001b[0mfields\u001b[0m\u001b[0;34m.\u001b[0m\u001b[0mindex\u001b[0m\u001b[0;34m(\u001b[0m\u001b[0mf\u001b[0m\u001b[0;34m)\u001b[0m\u001b[0;34m]\u001b[0m\u001b[0;34m)\u001b[0m\u001b[0;34m\u001b[0m\u001b[0m\n\u001b[0m\u001b[1;32m     27\u001b[0m         \u001b[0mp\u001b[0m\u001b[0;34m.\u001b[0m\u001b[0mcircle\u001b[0m\u001b[0;34m(\u001b[0m\u001b[0mx\u001b[0m\u001b[0;34m,\u001b[0m \u001b[0my\u001b[0m\u001b[0;34m=\u001b[0m\u001b[0mdata\u001b[0m\u001b[0;34m[\u001b[0m\u001b[0mf\u001b[0m\u001b[0;34m]\u001b[0m\u001b[0;34m,\u001b[0m \u001b[0mlegend\u001b[0m\u001b[0;34m=\u001b[0m\u001b[0mf\u001b[0m\u001b[0;34m,\u001b[0m \u001b[0mcolor\u001b[0m\u001b[0;34m=\u001b[0m\u001b[0mcols\u001b[0m\u001b[0;34m[\u001b[0m\u001b[0mfields\u001b[0m\u001b[0;34m.\u001b[0m\u001b[0mindex\u001b[0m\u001b[0;34m(\u001b[0m\u001b[0mf\u001b[0m\u001b[0;34m)\u001b[0m\u001b[0;34m]\u001b[0m\u001b[0;34m)\u001b[0m\u001b[0;34m\u001b[0m\u001b[0m\n\u001b[1;32m     28\u001b[0m     \u001b[0mscript\u001b[0m\u001b[0;34m,\u001b[0m \u001b[0mdiv\u001b[0m \u001b[0;34m=\u001b[0m \u001b[0mcomponents\u001b[0m\u001b[0;34m(\u001b[0m\u001b[0mp\u001b[0m\u001b[0;34m)\u001b[0m\u001b[0;34m\u001b[0m\u001b[0m\n",
      "\u001b[0;31mAttributeError\u001b[0m: 'set' object has no attribute 'index'"
     ]
    }
   ],
   "source": [
    "data, script, div = createPlotFromWeb('GOOG', '2016-05-20', '2017-03-12', ['close', 'high'], 400)\n",
    "script1, div1 = createPlotFromData(data, 400)"
   ]
  },
  {
   "cell_type": "code",
   "execution_count": 23,
   "metadata": {
    "collapsed": false
   },
   "outputs": [
    {
     "data": {
      "text/plain": [
       "u'GOOG'"
      ]
     },
     "execution_count": 23,
     "metadata": {},
     "output_type": "execute_result"
    }
   ],
   "source": [
    "d = pd.read_json(data)\n",
    "d['ticker'][0]"
   ]
  },
  {
   "cell_type": "code",
   "execution_count": 55,
   "metadata": {
    "collapsed": false
   },
   "outputs": [],
   "source": [
    "x = data.index\n",
    "fields = ['Close', 'Low', 'High']\n",
    "cols = ['black', 'orange', 'green', 'blue']\n",
    "p = figure(title=\"NSE/OIL\", x_axis_type=\"datetime\")\n",
    "for f in fields:\n",
    "    p.line(x, y=data[f], legend=f, color=cols[fields.index(f)])\n",
    "    p.circle(x, y=data[f], legend=f, color=cols[fields.index(f)])"
   ]
  },
  {
   "cell_type": "code",
   "execution_count": null,
   "metadata": {
    "collapsed": false
   },
   "outputs": [],
   "source": []
  },
  {
   "cell_type": "code",
   "execution_count": 56,
   "metadata": {
    "collapsed": false
   },
   "outputs": [],
   "source": [
    "from bokeh.io import output_notebook"
   ]
  },
  {
   "cell_type": "code",
   "execution_count": 57,
   "metadata": {
    "collapsed": false
   },
   "outputs": [
    {
     "data": {
      "text/html": [
       "\n",
       "    <div class=\"bk-root\">\n",
       "        <a href=\"http://bokeh.pydata.org\" target=\"_blank\" class=\"bk-logo bk-logo-small bk-logo-notebook\"></a>\n",
       "        <span id=\"9e07d1b1-ce0b-40d7-b87c-a77505f349a5\">Loading BokehJS ...</span>\n",
       "    </div>"
      ]
     },
     "metadata": {},
     "output_type": "display_data"
    },
    {
     "data": {
      "application/javascript": [
       "\n",
       "(function(global) {\n",
       "  function now() {\n",
       "    return new Date();\n",
       "  }\n",
       "\n",
       "  var force = true;\n",
       "\n",
       "  if (typeof (window._bokeh_onload_callbacks) === \"undefined\" || force === true) {\n",
       "    window._bokeh_onload_callbacks = [];\n",
       "    window._bokeh_is_loading = undefined;\n",
       "  }\n",
       "\n",
       "\n",
       "  \n",
       "  if (typeof (window._bokeh_timeout) === \"undefined\" || force === true) {\n",
       "    window._bokeh_timeout = Date.now() + 5000;\n",
       "    window._bokeh_failed_load = false;\n",
       "  }\n",
       "\n",
       "  var NB_LOAD_WARNING = {'data': {'text/html':\n",
       "     \"<div style='background-color: #fdd'>\\n\"+\n",
       "     \"<p>\\n\"+\n",
       "     \"BokehJS does not appear to have successfully loaded. If loading BokehJS from CDN, this \\n\"+\n",
       "     \"may be due to a slow or bad network connection. Possible fixes:\\n\"+\n",
       "     \"</p>\\n\"+\n",
       "     \"<ul>\\n\"+\n",
       "     \"<li>re-rerun `output_notebook()` to attempt to load from CDN again, or</li>\\n\"+\n",
       "     \"<li>use INLINE resources instead, as so:</li>\\n\"+\n",
       "     \"</ul>\\n\"+\n",
       "     \"<code>\\n\"+\n",
       "     \"from bokeh.resources import INLINE\\n\"+\n",
       "     \"output_notebook(resources=INLINE)\\n\"+\n",
       "     \"</code>\\n\"+\n",
       "     \"</div>\"}};\n",
       "\n",
       "  function display_loaded() {\n",
       "    if (window.Bokeh !== undefined) {\n",
       "      document.getElementById(\"9e07d1b1-ce0b-40d7-b87c-a77505f349a5\").textContent = \"BokehJS successfully loaded.\";\n",
       "    } else if (Date.now() < window._bokeh_timeout) {\n",
       "      setTimeout(display_loaded, 100)\n",
       "    }\n",
       "  }\n",
       "\n",
       "  function run_callbacks() {\n",
       "    window._bokeh_onload_callbacks.forEach(function(callback) { callback() });\n",
       "    delete window._bokeh_onload_callbacks\n",
       "    console.info(\"Bokeh: all callbacks have finished\");\n",
       "  }\n",
       "\n",
       "  function load_libs(js_urls, callback) {\n",
       "    window._bokeh_onload_callbacks.push(callback);\n",
       "    if (window._bokeh_is_loading > 0) {\n",
       "      console.log(\"Bokeh: BokehJS is being loaded, scheduling callback at\", now());\n",
       "      return null;\n",
       "    }\n",
       "    if (js_urls == null || js_urls.length === 0) {\n",
       "      run_callbacks();\n",
       "      return null;\n",
       "    }\n",
       "    console.log(\"Bokeh: BokehJS not loaded, scheduling load and callback at\", now());\n",
       "    window._bokeh_is_loading = js_urls.length;\n",
       "    for (var i = 0; i < js_urls.length; i++) {\n",
       "      var url = js_urls[i];\n",
       "      var s = document.createElement('script');\n",
       "      s.src = url;\n",
       "      s.async = false;\n",
       "      s.onreadystatechange = s.onload = function() {\n",
       "        window._bokeh_is_loading--;\n",
       "        if (window._bokeh_is_loading === 0) {\n",
       "          console.log(\"Bokeh: all BokehJS libraries loaded\");\n",
       "          run_callbacks()\n",
       "        }\n",
       "      };\n",
       "      s.onerror = function() {\n",
       "        console.warn(\"failed to load library \" + url);\n",
       "      };\n",
       "      console.log(\"Bokeh: injecting script tag for BokehJS library: \", url);\n",
       "      document.getElementsByTagName(\"head\")[0].appendChild(s);\n",
       "    }\n",
       "  };var element = document.getElementById(\"9e07d1b1-ce0b-40d7-b87c-a77505f349a5\");\n",
       "  if (element == null) {\n",
       "    console.log(\"Bokeh: ERROR: autoload.js configured with elementid '9e07d1b1-ce0b-40d7-b87c-a77505f349a5' but no matching script tag was found. \")\n",
       "    return false;\n",
       "  }\n",
       "\n",
       "  var js_urls = [\"https://cdn.pydata.org/bokeh/release/bokeh-0.12.4.min.js\", \"https://cdn.pydata.org/bokeh/release/bokeh-widgets-0.12.4.min.js\"];\n",
       "\n",
       "  var inline_js = [\n",
       "    function(Bokeh) {\n",
       "      Bokeh.set_log_level(\"info\");\n",
       "    },\n",
       "    \n",
       "    function(Bokeh) {\n",
       "      \n",
       "      document.getElementById(\"9e07d1b1-ce0b-40d7-b87c-a77505f349a5\").textContent = \"BokehJS is loading...\";\n",
       "    },\n",
       "    function(Bokeh) {\n",
       "      console.log(\"Bokeh: injecting CSS: https://cdn.pydata.org/bokeh/release/bokeh-0.12.4.min.css\");\n",
       "      Bokeh.embed.inject_css(\"https://cdn.pydata.org/bokeh/release/bokeh-0.12.4.min.css\");\n",
       "      console.log(\"Bokeh: injecting CSS: https://cdn.pydata.org/bokeh/release/bokeh-widgets-0.12.4.min.css\");\n",
       "      Bokeh.embed.inject_css(\"https://cdn.pydata.org/bokeh/release/bokeh-widgets-0.12.4.min.css\");\n",
       "    }\n",
       "  ];\n",
       "\n",
       "  function run_inline_js() {\n",
       "    \n",
       "    if ((window.Bokeh !== undefined) || (force === true)) {\n",
       "      for (var i = 0; i < inline_js.length; i++) {\n",
       "        inline_js[i](window.Bokeh);\n",
       "      }if (force === true) {\n",
       "        display_loaded();\n",
       "      }} else if (Date.now() < window._bokeh_timeout) {\n",
       "      setTimeout(run_inline_js, 100);\n",
       "    } else if (!window._bokeh_failed_load) {\n",
       "      console.log(\"Bokeh: BokehJS failed to load within specified timeout.\");\n",
       "      window._bokeh_failed_load = true;\n",
       "    } else if (force !== true) {\n",
       "      var cell = $(document.getElementById(\"9e07d1b1-ce0b-40d7-b87c-a77505f349a5\")).parents('.cell').data().cell;\n",
       "      cell.output_area.append_execute_result(NB_LOAD_WARNING)\n",
       "    }\n",
       "\n",
       "  }\n",
       "\n",
       "  if (window._bokeh_is_loading === 0) {\n",
       "    console.log(\"Bokeh: BokehJS loaded, going straight to plotting\");\n",
       "    run_inline_js();\n",
       "  } else {\n",
       "    load_libs(js_urls, function() {\n",
       "      console.log(\"Bokeh: BokehJS plotting callback run at\", now());\n",
       "      run_inline_js();\n",
       "    });\n",
       "  }\n",
       "}(this));"
      ]
     },
     "metadata": {},
     "output_type": "display_data"
    }
   ],
   "source": [
    "output_notebook()"
   ]
  },
  {
   "cell_type": "code",
   "execution_count": 58,
   "metadata": {
    "collapsed": false
   },
   "outputs": [
    {
     "data": {
      "text/html": [
       "\n",
       "\n",
       "    <div class=\"bk-root\">\n",
       "        <div class=\"bk-plotdiv\" id=\"cf3b8f78-6994-41b0-b333-0e2d016a0706\"></div>\n",
       "    </div>\n",
       "<script type=\"text/javascript\">\n",
       "  \n",
       "  (function(global) {\n",
       "    function now() {\n",
       "      return new Date();\n",
       "    }\n",
       "  \n",
       "    var force = false;\n",
       "  \n",
       "    if (typeof (window._bokeh_onload_callbacks) === \"undefined\" || force === true) {\n",
       "      window._bokeh_onload_callbacks = [];\n",
       "      window._bokeh_is_loading = undefined;\n",
       "    }\n",
       "  \n",
       "  \n",
       "    \n",
       "    if (typeof (window._bokeh_timeout) === \"undefined\" || force === true) {\n",
       "      window._bokeh_timeout = Date.now() + 0;\n",
       "      window._bokeh_failed_load = false;\n",
       "    }\n",
       "  \n",
       "    var NB_LOAD_WARNING = {'data': {'text/html':\n",
       "       \"<div style='background-color: #fdd'>\\n\"+\n",
       "       \"<p>\\n\"+\n",
       "       \"BokehJS does not appear to have successfully loaded. If loading BokehJS from CDN, this \\n\"+\n",
       "       \"may be due to a slow or bad network connection. Possible fixes:\\n\"+\n",
       "       \"</p>\\n\"+\n",
       "       \"<ul>\\n\"+\n",
       "       \"<li>re-rerun `output_notebook()` to attempt to load from CDN again, or</li>\\n\"+\n",
       "       \"<li>use INLINE resources instead, as so:</li>\\n\"+\n",
       "       \"</ul>\\n\"+\n",
       "       \"<code>\\n\"+\n",
       "       \"from bokeh.resources import INLINE\\n\"+\n",
       "       \"output_notebook(resources=INLINE)\\n\"+\n",
       "       \"</code>\\n\"+\n",
       "       \"</div>\"}};\n",
       "  \n",
       "    function display_loaded() {\n",
       "      if (window.Bokeh !== undefined) {\n",
       "        document.getElementById(\"cf3b8f78-6994-41b0-b333-0e2d016a0706\").textContent = \"BokehJS successfully loaded.\";\n",
       "      } else if (Date.now() < window._bokeh_timeout) {\n",
       "        setTimeout(display_loaded, 100)\n",
       "      }\n",
       "    }\n",
       "  \n",
       "    function run_callbacks() {\n",
       "      window._bokeh_onload_callbacks.forEach(function(callback) { callback() });\n",
       "      delete window._bokeh_onload_callbacks\n",
       "      console.info(\"Bokeh: all callbacks have finished\");\n",
       "    }\n",
       "  \n",
       "    function load_libs(js_urls, callback) {\n",
       "      window._bokeh_onload_callbacks.push(callback);\n",
       "      if (window._bokeh_is_loading > 0) {\n",
       "        console.log(\"Bokeh: BokehJS is being loaded, scheduling callback at\", now());\n",
       "        return null;\n",
       "      }\n",
       "      if (js_urls == null || js_urls.length === 0) {\n",
       "        run_callbacks();\n",
       "        return null;\n",
       "      }\n",
       "      console.log(\"Bokeh: BokehJS not loaded, scheduling load and callback at\", now());\n",
       "      window._bokeh_is_loading = js_urls.length;\n",
       "      for (var i = 0; i < js_urls.length; i++) {\n",
       "        var url = js_urls[i];\n",
       "        var s = document.createElement('script');\n",
       "        s.src = url;\n",
       "        s.async = false;\n",
       "        s.onreadystatechange = s.onload = function() {\n",
       "          window._bokeh_is_loading--;\n",
       "          if (window._bokeh_is_loading === 0) {\n",
       "            console.log(\"Bokeh: all BokehJS libraries loaded\");\n",
       "            run_callbacks()\n",
       "          }\n",
       "        };\n",
       "        s.onerror = function() {\n",
       "          console.warn(\"failed to load library \" + url);\n",
       "        };\n",
       "        console.log(\"Bokeh: injecting script tag for BokehJS library: \", url);\n",
       "        document.getElementsByTagName(\"head\")[0].appendChild(s);\n",
       "      }\n",
       "    };var element = document.getElementById(\"cf3b8f78-6994-41b0-b333-0e2d016a0706\");\n",
       "    if (element == null) {\n",
       "      console.log(\"Bokeh: ERROR: autoload.js configured with elementid 'cf3b8f78-6994-41b0-b333-0e2d016a0706' but no matching script tag was found. \")\n",
       "      return false;\n",
       "    }\n",
       "  \n",
       "    var js_urls = [];\n",
       "  \n",
       "    var inline_js = [\n",
       "      function(Bokeh) {\n",
       "        (function() {\n",
       "          var fn = function() {\n",
       "            var docs_json = {\"6a53e857-8f03-453c-bf06-0f82c28e347c\":{\"roots\":{\"references\":[{\"attributes\":{},\"id\":\"aae2388a-e633-4231-a5ed-469a530975d2\",\"type\":\"BasicTickFormatter\"},{\"attributes\":{\"plot\":null,\"text\":\"NSE/OIL\"},\"id\":\"dfcbcdec-8f6e-42c6-af37-bb7b4dd73c13\",\"type\":\"Title\"},{\"attributes\":{\"label\":{\"value\":\"Close\"},\"renderers\":[{\"id\":\"1f943ce4-e864-4b06-943a-33e65618e8d3\",\"type\":\"GlyphRenderer\"},{\"id\":\"7900cf66-a821-44e7-951c-eee7f930659e\",\"type\":\"GlyphRenderer\"}]},\"id\":\"f78c383f-a33f-4587-8b6f-e389a71b5f7f\",\"type\":\"LegendItem\"},{\"attributes\":{\"fill_alpha\":{\"value\":0.1},\"fill_color\":{\"value\":\"#1f77b4\"},\"line_alpha\":{\"value\":0.1},\"line_color\":{\"value\":\"#1f77b4\"},\"x\":{\"field\":\"x\"},\"y\":{\"field\":\"y\"}},\"id\":\"3a305084-a7f2-4b1b-8178-f6e032475b93\",\"type\":\"Circle\"},{\"attributes\":{\"label\":{\"value\":\"High\"},\"renderers\":[{\"id\":\"fb931d72-b59b-4051-952f-9c735ce8f66b\",\"type\":\"GlyphRenderer\"},{\"id\":\"edfd05bb-fbbc-4ee5-aa91-70057cc7b040\",\"type\":\"GlyphRenderer\"}]},\"id\":\"c897f7fd-c614-4a16-a7e0-e004ec3befc3\",\"type\":\"LegendItem\"},{\"attributes\":{\"num_minor_ticks\":5},\"id\":\"251a2074-e979-41e6-b877-cee66560c505\",\"type\":\"DatetimeTicker\"},{\"attributes\":{\"fill_alpha\":{\"value\":0.1},\"fill_color\":{\"value\":\"#1f77b4\"},\"line_alpha\":{\"value\":0.1},\"line_color\":{\"value\":\"#1f77b4\"},\"x\":{\"field\":\"x\"},\"y\":{\"field\":\"y\"}},\"id\":\"30fe36b9-5dcf-4f29-8f2d-4be968ab962d\",\"type\":\"Circle\"},{\"attributes\":{\"fill_color\":{\"value\":\"orange\"},\"line_color\":{\"value\":\"orange\"},\"x\":{\"field\":\"x\"},\"y\":{\"field\":\"y\"}},\"id\":\"1c4c5a17-4789-49c2-8d24-0e6917baf354\",\"type\":\"Circle\"},{\"attributes\":{\"dimension\":1,\"plot\":{\"id\":\"586def4c-f6f5-40dc-b8ac-79b78a650045\",\"subtype\":\"Figure\",\"type\":\"Plot\"},\"ticker\":{\"id\":\"641d3350-2918-4eb8-9193-96b368771f4f\",\"type\":\"BasicTicker\"}},\"id\":\"3995f3a7-26b0-4ca4-b1ea-8f9b6f950798\",\"type\":\"Grid\"},{\"attributes\":{\"days\":[1,2,3,4,5,6,7,8,9,10,11,12,13,14,15,16,17,18,19,20,21,22,23,24,25,26,27,28,29,30,31]},\"id\":\"aec3ca77-040c-4d10-8d17-b100f9e64472\",\"type\":\"DaysTicker\"},{\"attributes\":{\"data_source\":{\"id\":\"19948118-5781-479f-a08c-57237be281e6\",\"type\":\"ColumnDataSource\"},\"glyph\":{\"id\":\"1c4c5a17-4789-49c2-8d24-0e6917baf354\",\"type\":\"Circle\"},\"hover_glyph\":null,\"nonselection_glyph\":{\"id\":\"30fe36b9-5dcf-4f29-8f2d-4be968ab962d\",\"type\":\"Circle\"},\"selection_glyph\":null},\"id\":\"3a400a78-e902-4c6b-b032-fa2fd3d2495a\",\"type\":\"GlyphRenderer\"},{\"attributes\":{\"overlay\":{\"id\":\"7a464894-879e-4c0f-ac76-cc988b984c9e\",\"type\":\"BoxAnnotation\"},\"plot\":{\"id\":\"586def4c-f6f5-40dc-b8ac-79b78a650045\",\"subtype\":\"Figure\",\"type\":\"Plot\"}},\"id\":\"495f71f8-d532-4da2-b73a-3ace96bfd42c\",\"type\":\"BoxZoomTool\"},{\"attributes\":{\"callback\":null,\"column_names\":[\"x\",\"y\"],\"data\":{\"x\":{\"__ndarray__\":\"AAAAGfGjdUIAAMB+Q6R1QgAAgOSVpHVCAADAFY2ldUIAAIB736V1QgAAQOExpnVCAAAAR4SmdUIAAADezad1QgAAwEMgqHVCAACAqXKodUIAAEAPxah1QgAAAHUXqXVCAABApg6qdUIAAAAMYap1QgAAwHGzqnVCAACA1wWrdUIAAEA9WKt1QgAAQNShrHVCAAAAOvSsdUI=\",\"dtype\":\"float64\",\"shape\":[19]},\"y\":{\"__ndarray__\":\"AAAAAADwdECamZmZmdV0QGZmZmZmtnRAMzMzMzMDdECamZmZmQl0QAAAAAAAYHRAAAAAAABQdEDNzMzMzFB0QAAAAAAASHRAAAAAAACAdEBmZmZmZoZ0QAAAAAAAoHRAzczMzMzkdEDNzMzMzNB0QJqZmZmZYXRAAAAAAAAYdEDNzMzMzER0QGZmZmZmxnRAmpmZmZmxdEA=\",\"dtype\":\"float64\",\"shape\":[19]}}},\"id\":\"e444039a-e22e-40e5-abbb-e8476cd5cecb\",\"type\":\"ColumnDataSource\"},{\"attributes\":{\"days\":[1,8,15,22]},\"id\":\"f365884e-cf61-44d9-a66d-76a628ebc722\",\"type\":\"DaysTicker\"},{\"attributes\":{\"formatter\":{\"id\":\"aae2388a-e633-4231-a5ed-469a530975d2\",\"type\":\"BasicTickFormatter\"},\"plot\":{\"id\":\"586def4c-f6f5-40dc-b8ac-79b78a650045\",\"subtype\":\"Figure\",\"type\":\"Plot\"},\"ticker\":{\"id\":\"641d3350-2918-4eb8-9193-96b368771f4f\",\"type\":\"BasicTicker\"}},\"id\":\"eafa07d7-db39-413d-9878-bd0960d74200\",\"type\":\"LinearAxis\"},{\"attributes\":{\"base\":60,\"mantissas\":[1,2,5,10,15,20,30],\"max_interval\":1800000.0,\"min_interval\":1000.0,\"num_minor_ticks\":0},\"id\":\"b84dcd42-67e0-462c-b35a-c6ef7644e6f6\",\"type\":\"AdaptiveTicker\"},{\"attributes\":{\"plot\":{\"id\":\"586def4c-f6f5-40dc-b8ac-79b78a650045\",\"subtype\":\"Figure\",\"type\":\"Plot\"}},\"id\":\"7a0577f8-c64c-45b7-9227-e0fd0c7d5e9d\",\"type\":\"ResetTool\"},{\"attributes\":{\"callback\":null,\"column_names\":[\"x\",\"y\"],\"data\":{\"x\":{\"__ndarray__\":\"AAAAGfGjdUIAAMB+Q6R1QgAAgOSVpHVCAADAFY2ldUIAAIB736V1QgAAQOExpnVCAAAAR4SmdUIAAADezad1QgAAwEMgqHVCAACAqXKodUIAAEAPxah1QgAAAHUXqXVCAABApg6qdUIAAAAMYap1QgAAwHGzqnVCAACA1wWrdUIAAEA9WKt1QgAAQNShrHVCAAAAOvSsdUI=\",\"dtype\":\"float64\",\"shape\":[19]},\"y\":{\"__ndarray__\":\"mpmZmZkFdUBmZmZmZup0QGZmZmZm1nRAZmZmZmZydEDNzMzMzIB0QAAAAAAAaHRAZmZmZmZudEAzMzMzM4N0QJqZmZmZcXRAZmZmZmbSdEAzMzMzM690QGZmZmZm2nRAmpmZmZkldUDNzMzMzPB0QM3MzMzMcHRAmpmZmZlBdEBmZmZmZuZ0QDMzMzMz83RAmpmZmZnJdEA=\",\"dtype\":\"float64\",\"shape\":[19]}}},\"id\":\"03357813-99dc-41fb-be7a-d39d60d9b264\",\"type\":\"ColumnDataSource\"},{\"attributes\":{\"months\":[0,4,8]},\"id\":\"6e904e70-1bcb-4c07-bff0-2ee47ea38750\",\"type\":\"MonthsTicker\"},{\"attributes\":{},\"id\":\"d44f1e28-70f2-4176-a7a7-7e070a74ad66\",\"type\":\"ToolEvents\"},{\"attributes\":{\"callback\":null},\"id\":\"4e6d2fc3-5004-4347-b0ed-1175f5e0a3eb\",\"type\":\"DataRange1d\"},{\"attributes\":{\"max_interval\":500.0,\"num_minor_ticks\":0},\"id\":\"d1299d2a-3748-414b-8975-17a00765637a\",\"type\":\"AdaptiveTicker\"},{\"attributes\":{\"months\":[0,1,2,3,4,5,6,7,8,9,10,11]},\"id\":\"02dc0b21-231e-4f30-b80f-029763bebb7c\",\"type\":\"MonthsTicker\"},{\"attributes\":{\"months\":[0,2,4,6,8,10]},\"id\":\"b9e86c12-a0c1-44b8-9f68-9274d518f2c8\",\"type\":\"MonthsTicker\"},{\"attributes\":{\"callback\":null,\"column_names\":[\"x\",\"y\"],\"data\":{\"x\":{\"__ndarray__\":\"AAAAGfGjdUIAAMB+Q6R1QgAAgOSVpHVCAADAFY2ldUIAAIB736V1QgAAQOExpnVCAAAAR4SmdUIAAADezad1QgAAwEMgqHVCAACAqXKodUIAAEAPxah1QgAAAHUXqXVCAABApg6qdUIAAAAMYap1QgAAwHGzqnVCAACA1wWrdUIAAEA9WKt1QgAAQNShrHVCAAAAOvSsdUI=\",\"dtype\":\"float64\",\"shape\":[19]},\"y\":{\"__ndarray__\":\"mpmZmZlddUAzMzMzMy91QGZmZmZmEnVAZmZmZmbudEAAAAAAAOx0QDMzMzMzv3RAzczMzMykdEAzMzMzM5t0QGZmZmZmnnRAAAAAAADgdEAAAAAAABB1QGZmZmZm/nRAAAAAAAAwdUAzMzMzM0t1QDMzMzMzB3VAmpmZmZlxdEDNzMzMzBR1QAAAAAAASHVAzczMzMz8dEA=\",\"dtype\":\"float64\",\"shape\":[19]}}},\"id\":\"d6d2db31-824a-4fe9-9c93-bf9d0d0c162f\",\"type\":\"ColumnDataSource\"},{\"attributes\":{\"callback\":null,\"column_names\":[\"x\",\"y\"],\"data\":{\"x\":{\"__ndarray__\":\"AAAAGfGjdUIAAMB+Q6R1QgAAgOSVpHVCAADAFY2ldUIAAIB736V1QgAAQOExpnVCAAAAR4SmdUIAAADezad1QgAAwEMgqHVCAACAqXKodUIAAEAPxah1QgAAAHUXqXVCAABApg6qdUIAAAAMYap1QgAAwHGzqnVCAACA1wWrdUIAAEA9WKt1QgAAQNShrHVCAAAAOvSsdUI=\",\"dtype\":\"float64\",\"shape\":[19]},\"y\":{\"__ndarray__\":\"mpmZmZlddUAzMzMzMy91QGZmZmZmEnVAZmZmZmbudEAAAAAAAOx0QDMzMzMzv3RAzczMzMykdEAzMzMzM5t0QGZmZmZmnnRAAAAAAADgdEAAAAAAABB1QGZmZmZm/nRAAAAAAAAwdUAzMzMzM0t1QDMzMzMzB3VAmpmZmZlxdEDNzMzMzBR1QAAAAAAASHVAzczMzMz8dEA=\",\"dtype\":\"float64\",\"shape\":[19]}}},\"id\":\"1548049c-cb0b-4e8c-9d73-a1c84f768b16\",\"type\":\"ColumnDataSource\"},{\"attributes\":{\"plot\":{\"id\":\"586def4c-f6f5-40dc-b8ac-79b78a650045\",\"subtype\":\"Figure\",\"type\":\"Plot\"}},\"id\":\"401afb04-c7d0-4b02-833e-56a0691ac1a7\",\"type\":\"PanTool\"},{\"attributes\":{\"fill_color\":{\"value\":\"black\"},\"x\":{\"field\":\"x\"},\"y\":{\"field\":\"y\"}},\"id\":\"e4b8aa2d-d535-4073-b100-22470a990189\",\"type\":\"Circle\"},{\"attributes\":{\"data_source\":{\"id\":\"03357813-99dc-41fb-be7a-d39d60d9b264\",\"type\":\"ColumnDataSource\"},\"glyph\":{\"id\":\"e4b8aa2d-d535-4073-b100-22470a990189\",\"type\":\"Circle\"},\"hover_glyph\":null,\"nonselection_glyph\":{\"id\":\"2c7c485d-11d7-45f3-bfbb-148c099f8874\",\"type\":\"Circle\"},\"selection_glyph\":null},\"id\":\"7900cf66-a821-44e7-951c-eee7f930659e\",\"type\":\"GlyphRenderer\"},{\"attributes\":{\"data_source\":{\"id\":\"3e2ba78a-8efb-4532-b52e-e181bf55713b\",\"type\":\"ColumnDataSource\"},\"glyph\":{\"id\":\"bcb97c10-8762-495f-87a8-b399269809cd\",\"type\":\"Line\"},\"hover_glyph\":null,\"nonselection_glyph\":{\"id\":\"e30c9cbc-5405-45ac-bf32-1170d56a7daa\",\"type\":\"Line\"},\"selection_glyph\":null},\"id\":\"1f943ce4-e864-4b06-943a-33e65618e8d3\",\"type\":\"GlyphRenderer\"},{\"attributes\":{},\"id\":\"641d3350-2918-4eb8-9193-96b368771f4f\",\"type\":\"BasicTicker\"},{\"attributes\":{\"plot\":{\"id\":\"586def4c-f6f5-40dc-b8ac-79b78a650045\",\"subtype\":\"Figure\",\"type\":\"Plot\"},\"ticker\":{\"id\":\"251a2074-e979-41e6-b877-cee66560c505\",\"type\":\"DatetimeTicker\"}},\"id\":\"6c156fc0-3ff2-4074-b886-538043650dfc\",\"type\":\"Grid\"},{\"attributes\":{\"fill_color\":{\"value\":\"green\"},\"line_color\":{\"value\":\"green\"},\"x\":{\"field\":\"x\"},\"y\":{\"field\":\"y\"}},\"id\":\"3edd990f-954c-4af3-aba3-ad184e49a9a1\",\"type\":\"Circle\"},{\"attributes\":{\"plot\":{\"id\":\"586def4c-f6f5-40dc-b8ac-79b78a650045\",\"subtype\":\"Figure\",\"type\":\"Plot\"}},\"id\":\"0064c21a-9e93-42ab-9b92-7fb72342518c\",\"type\":\"HelpTool\"},{\"attributes\":{\"line_alpha\":{\"value\":0.1},\"line_color\":{\"value\":\"#1f77b4\"},\"x\":{\"field\":\"x\"},\"y\":{\"field\":\"y\"}},\"id\":\"52ab7ab9-2ab0-4d15-89d5-17a352bb0a81\",\"type\":\"Line\"},{\"attributes\":{\"data_source\":{\"id\":\"d6d2db31-824a-4fe9-9c93-bf9d0d0c162f\",\"type\":\"ColumnDataSource\"},\"glyph\":{\"id\":\"3edd990f-954c-4af3-aba3-ad184e49a9a1\",\"type\":\"Circle\"},\"hover_glyph\":null,\"nonselection_glyph\":{\"id\":\"3a305084-a7f2-4b1b-8178-f6e032475b93\",\"type\":\"Circle\"},\"selection_glyph\":null},\"id\":\"edfd05bb-fbbc-4ee5-aa91-70057cc7b040\",\"type\":\"GlyphRenderer\"},{\"attributes\":{\"line_alpha\":{\"value\":0.1},\"line_color\":{\"value\":\"#1f77b4\"},\"x\":{\"field\":\"x\"},\"y\":{\"field\":\"y\"}},\"id\":\"53a43b37-1414-42a3-ab26-5cecad36518f\",\"type\":\"Line\"},{\"attributes\":{\"callback\":null,\"column_names\":[\"x\",\"y\"],\"data\":{\"x\":{\"__ndarray__\":\"AAAAGfGjdUIAAMB+Q6R1QgAAgOSVpHVCAADAFY2ldUIAAIB736V1QgAAQOExpnVCAAAAR4SmdUIAAADezad1QgAAwEMgqHVCAACAqXKodUIAAEAPxah1QgAAAHUXqXVCAABApg6qdUIAAAAMYap1QgAAwHGzqnVCAACA1wWrdUIAAEA9WKt1QgAAQNShrHVCAAAAOvSsdUI=\",\"dtype\":\"float64\",\"shape\":[19]},\"y\":{\"__ndarray__\":\"AAAAAADwdECamZmZmdV0QGZmZmZmtnRAMzMzMzMDdECamZmZmQl0QAAAAAAAYHRAAAAAAABQdEDNzMzMzFB0QAAAAAAASHRAAAAAAACAdEBmZmZmZoZ0QAAAAAAAoHRAzczMzMzkdEDNzMzMzNB0QJqZmZmZYXRAAAAAAAAYdEDNzMzMzER0QGZmZmZmxnRAmpmZmZmxdEA=\",\"dtype\":\"float64\",\"shape\":[19]}}},\"id\":\"19948118-5781-479f-a08c-57237be281e6\",\"type\":\"ColumnDataSource\"},{\"attributes\":{\"fill_alpha\":{\"value\":0.1},\"fill_color\":{\"value\":\"#1f77b4\"},\"line_alpha\":{\"value\":0.1},\"line_color\":{\"value\":\"#1f77b4\"},\"x\":{\"field\":\"x\"},\"y\":{\"field\":\"y\"}},\"id\":\"2c7c485d-11d7-45f3-bfbb-148c099f8874\",\"type\":\"Circle\"},{\"attributes\":{\"plot\":{\"id\":\"586def4c-f6f5-40dc-b8ac-79b78a650045\",\"subtype\":\"Figure\",\"type\":\"Plot\"}},\"id\":\"84fbce0a-3b95-4e83-a37b-1b9e1e6d7789\",\"type\":\"WheelZoomTool\"},{\"attributes\":{\"callback\":null,\"column_names\":[\"x\",\"y\"],\"data\":{\"x\":{\"__ndarray__\":\"AAAAGfGjdUIAAMB+Q6R1QgAAgOSVpHVCAADAFY2ldUIAAIB736V1QgAAQOExpnVCAAAAR4SmdUIAAADezad1QgAAwEMgqHVCAACAqXKodUIAAEAPxah1QgAAAHUXqXVCAABApg6qdUIAAAAMYap1QgAAwHGzqnVCAACA1wWrdUIAAEA9WKt1QgAAQNShrHVCAAAAOvSsdUI=\",\"dtype\":\"float64\",\"shape\":[19]},\"y\":{\"__ndarray__\":\"mpmZmZkFdUBmZmZmZup0QGZmZmZm1nRAZmZmZmZydEDNzMzMzIB0QAAAAAAAaHRAZmZmZmZudEAzMzMzM4N0QJqZmZmZcXRAZmZmZmbSdEAzMzMzM690QGZmZmZm2nRAmpmZmZkldUDNzMzMzPB0QM3MzMzMcHRAmpmZmZlBdEBmZmZmZuZ0QDMzMzMz83RAmpmZmZnJdEA=\",\"dtype\":\"float64\",\"shape\":[19]}}},\"id\":\"3e2ba78a-8efb-4532-b52e-e181bf55713b\",\"type\":\"ColumnDataSource\"},{\"attributes\":{\"callback\":null},\"id\":\"4b361986-881f-48f1-b24e-7e948df07eca\",\"type\":\"DataRange1d\"},{\"attributes\":{\"data_source\":{\"id\":\"e444039a-e22e-40e5-abbb-e8476cd5cecb\",\"type\":\"ColumnDataSource\"},\"glyph\":{\"id\":\"0207f5ca-23dd-4a43-9a01-05aec8240b34\",\"type\":\"Line\"},\"hover_glyph\":null,\"nonselection_glyph\":{\"id\":\"53a43b37-1414-42a3-ab26-5cecad36518f\",\"type\":\"Line\"},\"selection_glyph\":null},\"id\":\"a0b91b4c-bf81-45bd-9321-3c7b9fb8c9ac\",\"type\":\"GlyphRenderer\"},{\"attributes\":{\"months\":[0,6]},\"id\":\"76e77ecf-cee9-4b20-96cd-81389de68c1b\",\"type\":\"MonthsTicker\"},{\"attributes\":{\"base\":24,\"mantissas\":[1,2,4,6,8,12],\"max_interval\":43200000.0,\"min_interval\":3600000.0,\"num_minor_ticks\":0},\"id\":\"4247b577-9ea8-4180-b064-d5534ea1a4ec\",\"type\":\"AdaptiveTicker\"},{\"attributes\":{\"label\":{\"value\":\"Low\"},\"renderers\":[{\"id\":\"a0b91b4c-bf81-45bd-9321-3c7b9fb8c9ac\",\"type\":\"GlyphRenderer\"},{\"id\":\"3a400a78-e902-4c6b-b032-fa2fd3d2495a\",\"type\":\"GlyphRenderer\"}]},\"id\":\"9b9ebe6c-a126-45d2-a590-2ffe8464a256\",\"type\":\"LegendItem\"},{\"attributes\":{\"below\":[{\"id\":\"3fef1e2a-f254-445b-a8f7-8f09a7b597fc\",\"type\":\"DatetimeAxis\"}],\"left\":[{\"id\":\"eafa07d7-db39-413d-9878-bd0960d74200\",\"type\":\"LinearAxis\"}],\"renderers\":[{\"id\":\"3fef1e2a-f254-445b-a8f7-8f09a7b597fc\",\"type\":\"DatetimeAxis\"},{\"id\":\"6c156fc0-3ff2-4074-b886-538043650dfc\",\"type\":\"Grid\"},{\"id\":\"eafa07d7-db39-413d-9878-bd0960d74200\",\"type\":\"LinearAxis\"},{\"id\":\"3995f3a7-26b0-4ca4-b1ea-8f9b6f950798\",\"type\":\"Grid\"},{\"id\":\"7a464894-879e-4c0f-ac76-cc988b984c9e\",\"type\":\"BoxAnnotation\"},{\"id\":\"35cd22f0-257b-4288-b82e-23e3dfdec534\",\"type\":\"Legend\"},{\"id\":\"1f943ce4-e864-4b06-943a-33e65618e8d3\",\"type\":\"GlyphRenderer\"},{\"id\":\"7900cf66-a821-44e7-951c-eee7f930659e\",\"type\":\"GlyphRenderer\"},{\"id\":\"a0b91b4c-bf81-45bd-9321-3c7b9fb8c9ac\",\"type\":\"GlyphRenderer\"},{\"id\":\"3a400a78-e902-4c6b-b032-fa2fd3d2495a\",\"type\":\"GlyphRenderer\"},{\"id\":\"fb931d72-b59b-4051-952f-9c735ce8f66b\",\"type\":\"GlyphRenderer\"},{\"id\":\"edfd05bb-fbbc-4ee5-aa91-70057cc7b040\",\"type\":\"GlyphRenderer\"}],\"title\":{\"id\":\"dfcbcdec-8f6e-42c6-af37-bb7b4dd73c13\",\"type\":\"Title\"},\"tool_events\":{\"id\":\"d44f1e28-70f2-4176-a7a7-7e070a74ad66\",\"type\":\"ToolEvents\"},\"toolbar\":{\"id\":\"f41fce0d-b81a-4685-86eb-c226a42c4a15\",\"type\":\"Toolbar\"},\"x_range\":{\"id\":\"4b361986-881f-48f1-b24e-7e948df07eca\",\"type\":\"DataRange1d\"},\"y_range\":{\"id\":\"4e6d2fc3-5004-4347-b0ed-1175f5e0a3eb\",\"type\":\"DataRange1d\"}},\"id\":\"586def4c-f6f5-40dc-b8ac-79b78a650045\",\"subtype\":\"Figure\",\"type\":\"Plot\"},{\"attributes\":{\"plot\":{\"id\":\"586def4c-f6f5-40dc-b8ac-79b78a650045\",\"subtype\":\"Figure\",\"type\":\"Plot\"}},\"id\":\"9b520de5-8d97-4ec2-b0c3-052d0bce2841\",\"type\":\"SaveTool\"},{\"attributes\":{},\"id\":\"ea73b09f-a973-451f-906f-a077ee902621\",\"type\":\"YearsTicker\"},{\"attributes\":{\"active_drag\":\"auto\",\"active_scroll\":\"auto\",\"active_tap\":\"auto\",\"tools\":[{\"id\":\"401afb04-c7d0-4b02-833e-56a0691ac1a7\",\"type\":\"PanTool\"},{\"id\":\"84fbce0a-3b95-4e83-a37b-1b9e1e6d7789\",\"type\":\"WheelZoomTool\"},{\"id\":\"495f71f8-d532-4da2-b73a-3ace96bfd42c\",\"type\":\"BoxZoomTool\"},{\"id\":\"9b520de5-8d97-4ec2-b0c3-052d0bce2841\",\"type\":\"SaveTool\"},{\"id\":\"7a0577f8-c64c-45b7-9227-e0fd0c7d5e9d\",\"type\":\"ResetTool\"},{\"id\":\"0064c21a-9e93-42ab-9b92-7fb72342518c\",\"type\":\"HelpTool\"}]},\"id\":\"f41fce0d-b81a-4685-86eb-c226a42c4a15\",\"type\":\"Toolbar\"},{\"attributes\":{\"line_alpha\":{\"value\":0.1},\"line_color\":{\"value\":\"#1f77b4\"},\"x\":{\"field\":\"x\"},\"y\":{\"field\":\"y\"}},\"id\":\"e30c9cbc-5405-45ac-bf32-1170d56a7daa\",\"type\":\"Line\"},{\"attributes\":{\"days\":[1,15]},\"id\":\"47691fb3-e16e-4df0-9c6f-bd31421e60b4\",\"type\":\"DaysTicker\"},{\"attributes\":{\"line_color\":{\"value\":\"orange\"},\"x\":{\"field\":\"x\"},\"y\":{\"field\":\"y\"}},\"id\":\"0207f5ca-23dd-4a43-9a01-05aec8240b34\",\"type\":\"Line\"},{\"attributes\":{\"data_source\":{\"id\":\"1548049c-cb0b-4e8c-9d73-a1c84f768b16\",\"type\":\"ColumnDataSource\"},\"glyph\":{\"id\":\"b617108a-3e30-48de-aaf7-a2b4d24010e5\",\"type\":\"Line\"},\"hover_glyph\":null,\"nonselection_glyph\":{\"id\":\"52ab7ab9-2ab0-4d15-89d5-17a352bb0a81\",\"type\":\"Line\"},\"selection_glyph\":null},\"id\":\"fb931d72-b59b-4051-952f-9c735ce8f66b\",\"type\":\"GlyphRenderer\"},{\"attributes\":{\"line_color\":{\"value\":\"green\"},\"x\":{\"field\":\"x\"},\"y\":{\"field\":\"y\"}},\"id\":\"b617108a-3e30-48de-aaf7-a2b4d24010e5\",\"type\":\"Line\"},{\"attributes\":{\"formatter\":{\"id\":\"99385749-47c8-4d6d-a85c-43ca9cc54c1e\",\"type\":\"DatetimeTickFormatter\"},\"plot\":{\"id\":\"586def4c-f6f5-40dc-b8ac-79b78a650045\",\"subtype\":\"Figure\",\"type\":\"Plot\"},\"ticker\":{\"id\":\"251a2074-e979-41e6-b877-cee66560c505\",\"type\":\"DatetimeTicker\"}},\"id\":\"3fef1e2a-f254-445b-a8f7-8f09a7b597fc\",\"type\":\"DatetimeAxis\"},{\"attributes\":{},\"id\":\"99385749-47c8-4d6d-a85c-43ca9cc54c1e\",\"type\":\"DatetimeTickFormatter\"},{\"attributes\":{\"x\":{\"field\":\"x\"},\"y\":{\"field\":\"y\"}},\"id\":\"bcb97c10-8762-495f-87a8-b399269809cd\",\"type\":\"Line\"},{\"attributes\":{\"items\":[{\"id\":\"f78c383f-a33f-4587-8b6f-e389a71b5f7f\",\"type\":\"LegendItem\"},{\"id\":\"9b9ebe6c-a126-45d2-a590-2ffe8464a256\",\"type\":\"LegendItem\"},{\"id\":\"c897f7fd-c614-4a16-a7e0-e004ec3befc3\",\"type\":\"LegendItem\"}],\"plot\":{\"id\":\"586def4c-f6f5-40dc-b8ac-79b78a650045\",\"subtype\":\"Figure\",\"type\":\"Plot\"}},\"id\":\"35cd22f0-257b-4288-b82e-23e3dfdec534\",\"type\":\"Legend\"},{\"attributes\":{\"days\":[1,4,7,10,13,16,19,22,25,28]},\"id\":\"4ba836b2-d099-416d-abff-f0569d57d8cc\",\"type\":\"DaysTicker\"},{\"attributes\":{\"bottom_units\":\"screen\",\"fill_alpha\":{\"value\":0.5},\"fill_color\":{\"value\":\"lightgrey\"},\"left_units\":\"screen\",\"level\":\"overlay\",\"line_alpha\":{\"value\":1.0},\"line_color\":{\"value\":\"black\"},\"line_dash\":[4,4],\"line_width\":{\"value\":2},\"plot\":null,\"render_mode\":\"css\",\"right_units\":\"screen\",\"top_units\":\"screen\"},\"id\":\"7a464894-879e-4c0f-ac76-cc988b984c9e\",\"type\":\"BoxAnnotation\"}],\"root_ids\":[\"586def4c-f6f5-40dc-b8ac-79b78a650045\"]},\"title\":\"Bokeh Application\",\"version\":\"0.12.4\"}};\n",
       "            var render_items = [{\"docid\":\"6a53e857-8f03-453c-bf06-0f82c28e347c\",\"elementid\":\"cf3b8f78-6994-41b0-b333-0e2d016a0706\",\"modelid\":\"586def4c-f6f5-40dc-b8ac-79b78a650045\"}];\n",
       "            \n",
       "            Bokeh.embed.embed_items(docs_json, render_items);\n",
       "          };\n",
       "          if (document.readyState != \"loading\") fn();\n",
       "          else document.addEventListener(\"DOMContentLoaded\", fn);\n",
       "        })();\n",
       "      },\n",
       "      function(Bokeh) {\n",
       "      }\n",
       "    ];\n",
       "  \n",
       "    function run_inline_js() {\n",
       "      \n",
       "      if ((window.Bokeh !== undefined) || (force === true)) {\n",
       "        for (var i = 0; i < inline_js.length; i++) {\n",
       "          inline_js[i](window.Bokeh);\n",
       "        }if (force === true) {\n",
       "          display_loaded();\n",
       "        }} else if (Date.now() < window._bokeh_timeout) {\n",
       "        setTimeout(run_inline_js, 100);\n",
       "      } else if (!window._bokeh_failed_load) {\n",
       "        console.log(\"Bokeh: BokehJS failed to load within specified timeout.\");\n",
       "        window._bokeh_failed_load = true;\n",
       "      } else if (force !== true) {\n",
       "        var cell = $(document.getElementById(\"cf3b8f78-6994-41b0-b333-0e2d016a0706\")).parents('.cell').data().cell;\n",
       "        cell.output_area.append_execute_result(NB_LOAD_WARNING)\n",
       "      }\n",
       "  \n",
       "    }\n",
       "  \n",
       "    if (window._bokeh_is_loading === 0) {\n",
       "      console.log(\"Bokeh: BokehJS loaded, going straight to plotting\");\n",
       "      run_inline_js();\n",
       "    } else {\n",
       "      load_libs(js_urls, function() {\n",
       "        console.log(\"Bokeh: BokehJS plotting callback run at\", now());\n",
       "        run_inline_js();\n",
       "      });\n",
       "    }\n",
       "  }(this));\n",
       "</script>"
      ]
     },
     "metadata": {},
     "output_type": "display_data"
    }
   ],
   "source": [
    "show(p)"
   ]
  },
  {
   "cell_type": "code",
   "execution_count": 59,
   "metadata": {
    "collapsed": true
   },
   "outputs": [],
   "source": [
    "from bokeh.embed import components"
   ]
  },
  {
   "cell_type": "code",
   "execution_count": 61,
   "metadata": {
    "collapsed": false
   },
   "outputs": [],
   "source": [
    "script, div = components(p)"
   ]
  },
  {
   "cell_type": "code",
   "execution_count": 95,
   "metadata": {
    "collapsed": false
   },
   "outputs": [
    {
     "data": {
      "text/plain": [
       "'\\n<div class=\"bk-root\">\\n    <div class=\"bk-plotdiv\" id=\"4dbc5253-fe81-443b-91f2-14ff3f9666d1\"></div>\\n</div>'"
      ]
     },
     "execution_count": 95,
     "metadata": {},
     "output_type": "execute_result"
    }
   ],
   "source": [
    "str(div)"
   ]
  },
  {
   "cell_type": "code",
   "execution_count": 64,
   "metadata": {
    "collapsed": false
   },
   "outputs": [],
   "source": [
    "jDat = data.to_json()"
   ]
  },
  {
   "cell_type": "code",
   "execution_count": 66,
   "metadata": {
    "collapsed": false
   },
   "outputs": [
    {
     "data": {
      "text/html": [
       "<div>\n",
       "<table border=\"1\" class=\"dataframe\">\n",
       "  <thead>\n",
       "    <tr style=\"text-align: right;\">\n",
       "      <th></th>\n",
       "      <th>Close</th>\n",
       "      <th>High</th>\n",
       "      <th>Last</th>\n",
       "      <th>Low</th>\n",
       "      <th>Open</th>\n",
       "      <th>Total Trade Quantity</th>\n",
       "      <th>Turnover (Lacs)</th>\n",
       "    </tr>\n",
       "  </thead>\n",
       "  <tbody>\n",
       "    <tr>\n",
       "      <th>2017-02-15</th>\n",
       "      <td>336.35</td>\n",
       "      <td>341.85</td>\n",
       "      <td>336.00</td>\n",
       "      <td>335.00</td>\n",
       "      <td>336.20</td>\n",
       "      <td>1118120</td>\n",
       "      <td>3789.64</td>\n",
       "    </tr>\n",
       "    <tr>\n",
       "      <th>2017-02-16</th>\n",
       "      <td>334.65</td>\n",
       "      <td>338.95</td>\n",
       "      <td>335.00</td>\n",
       "      <td>333.35</td>\n",
       "      <td>336.40</td>\n",
       "      <td>484466</td>\n",
       "      <td>1623.92</td>\n",
       "    </tr>\n",
       "    <tr>\n",
       "      <th>2017-02-17</th>\n",
       "      <td>333.40</td>\n",
       "      <td>337.15</td>\n",
       "      <td>332.50</td>\n",
       "      <td>331.40</td>\n",
       "      <td>337.15</td>\n",
       "      <td>453891</td>\n",
       "      <td>1517.70</td>\n",
       "    </tr>\n",
       "    <tr>\n",
       "      <th>2017-02-20</th>\n",
       "      <td>327.15</td>\n",
       "      <td>334.90</td>\n",
       "      <td>326.55</td>\n",
       "      <td>320.20</td>\n",
       "      <td>334.50</td>\n",
       "      <td>1090649</td>\n",
       "      <td>3555.98</td>\n",
       "    </tr>\n",
       "    <tr>\n",
       "      <th>2017-02-21</th>\n",
       "      <td>328.05</td>\n",
       "      <td>334.75</td>\n",
       "      <td>328.00</td>\n",
       "      <td>320.60</td>\n",
       "      <td>326.00</td>\n",
       "      <td>1367377</td>\n",
       "      <td>4486.22</td>\n",
       "    </tr>\n",
       "    <tr>\n",
       "      <th>2017-02-22</th>\n",
       "      <td>326.50</td>\n",
       "      <td>331.95</td>\n",
       "      <td>326.10</td>\n",
       "      <td>326.00</td>\n",
       "      <td>330.85</td>\n",
       "      <td>338021</td>\n",
       "      <td>1110.49</td>\n",
       "    </tr>\n",
       "    <tr>\n",
       "      <th>2017-02-23</th>\n",
       "      <td>326.90</td>\n",
       "      <td>330.30</td>\n",
       "      <td>326.00</td>\n",
       "      <td>325.00</td>\n",
       "      <td>326.70</td>\n",
       "      <td>661686</td>\n",
       "      <td>2169.96</td>\n",
       "    </tr>\n",
       "    <tr>\n",
       "      <th>2017-02-27</th>\n",
       "      <td>328.20</td>\n",
       "      <td>329.70</td>\n",
       "      <td>328.00</td>\n",
       "      <td>325.05</td>\n",
       "      <td>326.35</td>\n",
       "      <td>936922</td>\n",
       "      <td>3062.69</td>\n",
       "    </tr>\n",
       "    <tr>\n",
       "      <th>2017-02-28</th>\n",
       "      <td>327.10</td>\n",
       "      <td>329.90</td>\n",
       "      <td>328.00</td>\n",
       "      <td>324.50</td>\n",
       "      <td>329.85</td>\n",
       "      <td>541507</td>\n",
       "      <td>1766.48</td>\n",
       "    </tr>\n",
       "    <tr>\n",
       "      <th>2017-03-01</th>\n",
       "      <td>333.15</td>\n",
       "      <td>334.00</td>\n",
       "      <td>333.15</td>\n",
       "      <td>328.00</td>\n",
       "      <td>330.60</td>\n",
       "      <td>841656</td>\n",
       "      <td>2788.83</td>\n",
       "    </tr>\n",
       "    <tr>\n",
       "      <th>2017-03-02</th>\n",
       "      <td>330.95</td>\n",
       "      <td>337.00</td>\n",
       "      <td>331.50</td>\n",
       "      <td>328.40</td>\n",
       "      <td>335.70</td>\n",
       "      <td>900310</td>\n",
       "      <td>3008.92</td>\n",
       "    </tr>\n",
       "    <tr>\n",
       "      <th>2017-03-03</th>\n",
       "      <td>333.65</td>\n",
       "      <td>335.90</td>\n",
       "      <td>334.10</td>\n",
       "      <td>330.00</td>\n",
       "      <td>331.00</td>\n",
       "      <td>292966</td>\n",
       "      <td>974.81</td>\n",
       "    </tr>\n",
       "    <tr>\n",
       "      <th>2017-03-06</th>\n",
       "      <td>338.35</td>\n",
       "      <td>339.00</td>\n",
       "      <td>338.65</td>\n",
       "      <td>334.30</td>\n",
       "      <td>334.35</td>\n",
       "      <td>794436</td>\n",
       "      <td>2683.18</td>\n",
       "    </tr>\n",
       "    <tr>\n",
       "      <th>2017-03-07</th>\n",
       "      <td>335.05</td>\n",
       "      <td>340.70</td>\n",
       "      <td>333.95</td>\n",
       "      <td>333.05</td>\n",
       "      <td>340.00</td>\n",
       "      <td>629115</td>\n",
       "      <td>2121.89</td>\n",
       "    </tr>\n",
       "    <tr>\n",
       "      <th>2017-03-08</th>\n",
       "      <td>327.05</td>\n",
       "      <td>336.45</td>\n",
       "      <td>327.05</td>\n",
       "      <td>326.10</td>\n",
       "      <td>335.05</td>\n",
       "      <td>612040</td>\n",
       "      <td>2013.67</td>\n",
       "    </tr>\n",
       "    <tr>\n",
       "      <th>2017-03-09</th>\n",
       "      <td>324.10</td>\n",
       "      <td>327.10</td>\n",
       "      <td>323.75</td>\n",
       "      <td>321.50</td>\n",
       "      <td>327.05</td>\n",
       "      <td>546655</td>\n",
       "      <td>1769.12</td>\n",
       "    </tr>\n",
       "    <tr>\n",
       "      <th>2017-03-10</th>\n",
       "      <td>334.40</td>\n",
       "      <td>337.30</td>\n",
       "      <td>332.60</td>\n",
       "      <td>324.30</td>\n",
       "      <td>325.00</td>\n",
       "      <td>999382</td>\n",
       "      <td>3301.17</td>\n",
       "    </tr>\n",
       "    <tr>\n",
       "      <th>2017-03-14</th>\n",
       "      <td>335.20</td>\n",
       "      <td>340.50</td>\n",
       "      <td>334.95</td>\n",
       "      <td>332.40</td>\n",
       "      <td>337.20</td>\n",
       "      <td>705334</td>\n",
       "      <td>2366.81</td>\n",
       "    </tr>\n",
       "    <tr>\n",
       "      <th>2017-03-15</th>\n",
       "      <td>332.60</td>\n",
       "      <td>335.80</td>\n",
       "      <td>332.40</td>\n",
       "      <td>331.10</td>\n",
       "      <td>334.10</td>\n",
       "      <td>463763</td>\n",
       "      <td>1544.64</td>\n",
       "    </tr>\n",
       "  </tbody>\n",
       "</table>\n",
       "</div>"
      ],
      "text/plain": [
       "             Close    High    Last     Low    Open  Total Trade Quantity  \\\n",
       "2017-02-15  336.35  341.85  336.00  335.00  336.20               1118120   \n",
       "2017-02-16  334.65  338.95  335.00  333.35  336.40                484466   \n",
       "2017-02-17  333.40  337.15  332.50  331.40  337.15                453891   \n",
       "2017-02-20  327.15  334.90  326.55  320.20  334.50               1090649   \n",
       "2017-02-21  328.05  334.75  328.00  320.60  326.00               1367377   \n",
       "2017-02-22  326.50  331.95  326.10  326.00  330.85                338021   \n",
       "2017-02-23  326.90  330.30  326.00  325.00  326.70                661686   \n",
       "2017-02-27  328.20  329.70  328.00  325.05  326.35                936922   \n",
       "2017-02-28  327.10  329.90  328.00  324.50  329.85                541507   \n",
       "2017-03-01  333.15  334.00  333.15  328.00  330.60                841656   \n",
       "2017-03-02  330.95  337.00  331.50  328.40  335.70                900310   \n",
       "2017-03-03  333.65  335.90  334.10  330.00  331.00                292966   \n",
       "2017-03-06  338.35  339.00  338.65  334.30  334.35                794436   \n",
       "2017-03-07  335.05  340.70  333.95  333.05  340.00                629115   \n",
       "2017-03-08  327.05  336.45  327.05  326.10  335.05                612040   \n",
       "2017-03-09  324.10  327.10  323.75  321.50  327.05                546655   \n",
       "2017-03-10  334.40  337.30  332.60  324.30  325.00                999382   \n",
       "2017-03-14  335.20  340.50  334.95  332.40  337.20                705334   \n",
       "2017-03-15  332.60  335.80  332.40  331.10  334.10                463763   \n",
       "\n",
       "            Turnover (Lacs)  \n",
       "2017-02-15          3789.64  \n",
       "2017-02-16          1623.92  \n",
       "2017-02-17          1517.70  \n",
       "2017-02-20          3555.98  \n",
       "2017-02-21          4486.22  \n",
       "2017-02-22          1110.49  \n",
       "2017-02-23          2169.96  \n",
       "2017-02-27          3062.69  \n",
       "2017-02-28          1766.48  \n",
       "2017-03-01          2788.83  \n",
       "2017-03-02          3008.92  \n",
       "2017-03-03           974.81  \n",
       "2017-03-06          2683.18  \n",
       "2017-03-07          2121.89  \n",
       "2017-03-08          2013.67  \n",
       "2017-03-09          1769.12  \n",
       "2017-03-10          3301.17  \n",
       "2017-03-14          2366.81  \n",
       "2017-03-15          1544.64  "
      ]
     },
     "execution_count": 66,
     "metadata": {},
     "output_type": "execute_result"
    }
   ],
   "source": [
    "import pandas as pd\n",
    "pd.read_json(jDat)"
   ]
  },
  {
   "cell_type": "code",
   "execution_count": 96,
   "metadata": {
    "collapsed": false
   },
   "outputs": [
    {
     "data": {
      "text/plain": [
       "'\\n<script type=\"text/javascript\">\\n    (function() {\\n  var fn = function() {\\n    Bokeh.safely(function() {\\n      var docs_json = {\"58ccef22-7fb8-444d-8a1e-56661113cd97\":{\"roots\":{\"references\":[{\"attributes\":{\"months\":[0,1,2,3,4,5,6,7,8,9,10,11]},\"id\":\"5df6bc55-c6e4-45f9-a0ed-7ad73bdb1bca\",\"type\":\"MonthsTicker\"},{\"attributes\":{\"plot\":{\"id\":\"edf2e3ec-b7d0-43cd-b41a-ae39aff67a86\",\"subtype\":\"Figure\",\"type\":\"Plot\"}},\"id\":\"c51ffe05-cc2d-4d33-9961-aff8e72dedb1\",\"type\":\"SaveTool\"},{\"attributes\":{\"days\":[1,2,3,4,5,6,7,8,9,10,11,12,13,14,15,16,17,18,19,20,21,22,23,24,25,26,27,28,29,30,31]},\"id\":\"56d44bd6-a35c-43b4-8a80-01be40549ec7\",\"type\":\"DaysTicker\"},{\"attributes\":{\"base\":24,\"mantissas\":[1,2,4,6,8,12],\"max_interval\":43200000.0,\"min_interval\":3600000.0,\"num_minor_ticks\":0},\"id\":\"c2528b12-b54d-4bd1-9e32-690662d7d094\",\"type\":\"AdaptiveTicker\"},{\"attributes\":{\"callback\":null,\"column_names\":[\"x\",\"y\"],\"data\":{\"x\":{\"__ndarray__\":\"AAAAGfGjdUIAAMB+Q6R1QgAAgOSVpHVCAADAFY2ldUIAAIB736V1QgAAQOExpnVCAAAAR4SmdUIAAADezad1QgAAwEMgqHVCAACAqXKodUIAAEAPxah1QgAAAHUXqXVCAABApg6qdUIAAAAMYap1QgAAwHGzqnVCAACA1wWrdUIAAEA9WKt1QgAAQNShrHVCAAAAOvSsdUI=\",\"dtype\":\"float64\",\"shape\":[19]},\"y\":{\"__ndarray__\":\"MzMzMzMDdUBmZmZmZgZ1QGZmZmZmEnVAAAAAAADodEAAAAAAAGB0QJqZmZmZrXRAMzMzMzNrdECamZmZmWV0QJqZmZmZnXRAmpmZmZmpdEAzMzMzM/t0QAAAAAAAsHRAmpmZmZnldEAAAAAAAEB1QM3MzMzM8HRAzczMzMxwdEAAAAAAAFB0QDMzMzMzE3VAmpmZmZnhdEA=\",\"dtype\":\"float64\",\"shape\":[19]}}},\"id\":\"5d3f80e2-0b04-43d5-a2c9-a0771289062f\",\"type\":\"ColumnDataSource\"},{\"attributes\":{\"formatter\":{\"id\":\"d8c5b08e-4735-4c27-8762-e89b29c6254d\",\"type\":\"DatetimeTickFormatter\"},\"plot\":{\"id\":\"7f4f95f8-f84e-4148-a7d6-2e42e5bfb8e6\",\"subtype\":\"Figure\",\"type\":\"Plot\"},\"ticker\":{\"id\":\"df72a1bf-5bb1-4c95-b2b1-9d2749e9bce4\",\"type\":\"DatetimeTicker\"}},\"id\":\"e0a073ad-eddf-4e34-b0ca-349dfa30c1cc\",\"type\":\"DatetimeAxis\"},{\"attributes\":{\"bottom_units\":\"screen\",\"fill_alpha\":{\"value\":0.5},\"fill_color\":{\"value\":\"lightgrey\"},\"left_units\":\"screen\",\"level\":\"overlay\",\"line_alpha\":{\"value\":1.0},\"line_color\":{\"value\":\"black\"},\"line_dash\":[4,4],\"line_width\":{\"value\":2},\"plot\":null,\"render_mode\":\"css\",\"right_units\":\"screen\",\"top_units\":\"screen\"},\"id\":\"b444ddd1-912c-40b3-9920-2fb42ddf3db4\",\"type\":\"BoxAnnotation\"},{\"attributes\":{\"days\":[1,4,7,10,13,16,19,22,25,28]},\"id\":\"eee2fdeb-ee24-4393-baae-4ab369673456\",\"type\":\"DaysTicker\"},{\"attributes\":{\"data_source\":{\"id\":\"c9768d3a-2125-499e-9fc5-7e6248e66448\",\"type\":\"ColumnDataSource\"},\"glyph\":{\"id\":\"6154c1c3-760e-4530-9908-f74fc3dae818\",\"type\":\"Line\"},\"hover_glyph\":null,\"nonselection_glyph\":{\"id\":\"2ee8b46a-c2bb-433b-aca4-178bce912694\",\"type\":\"Line\"},\"selection_glyph\":null},\"id\":\"f343a26a-7da3-4306-9bf5-2538990da3f1\",\"type\":\"GlyphRenderer\"},{\"attributes\":{\"plot\":null,\"text\":\"NSE/OIL\"},\"id\":\"c83e1c5e-2c4d-4e22-8c23-cbcad81bcf8d\",\"type\":\"Title\"},{\"attributes\":{\"months\":[0,6]},\"id\":\"d7f093a7-b4e4-483d-8f28-763827ef5a2b\",\"type\":\"MonthsTicker\"},{\"attributes\":{\"max_interval\":500.0,\"num_minor_ticks\":0},\"id\":\"ff016d85-c810-4d29-befd-4470e2af6ef9\",\"type\":\"AdaptiveTicker\"},{\"attributes\":{},\"id\":\"418705b3-22c6-4c56-86c0-3bf2037d8d91\",\"type\":\"BasicTickFormatter\"},{\"attributes\":{\"label\":{\"value\":\"Close\"},\"renderers\":[{\"id\":\"77daf937-d237-4120-a673-8f2c12459748\",\"type\":\"GlyphRenderer\"},{\"id\":\"cf0e7100-fa7b-4291-a035-857dcba3f56d\",\"type\":\"GlyphRenderer\"}]},\"id\":\"7daede03-a7f4-41fb-a8d1-6793555fb29e\",\"type\":\"LegendItem\"},{\"attributes\":{\"months\":[0,2,4,6,8,10]},\"id\":\"36ddc8e6-c5e0-4706-b58a-3a38dbe36237\",\"type\":\"MonthsTicker\"},{\"attributes\":{\"plot\":{\"id\":\"b54d1169-c443-467e-a1b2-8a966f7eb6cb\",\"subtype\":\"Figure\",\"type\":\"Plot\"}},\"id\":\"2bb3977b-5774-4853-90c0-912eb9964506\",\"type\":\"HelpTool\"},{\"attributes\":{\"label\":{\"value\":\"Open\"},\"renderers\":[{\"id\":\"d419243e-81c5-4641-afdb-57ad154b9f5c\",\"type\":\"GlyphRenderer\"}]},\"id\":\"92182ad8-f2f6-4fda-b06f-c18a01d3e0f3\",\"type\":\"LegendItem\"},{\"attributes\":{\"callback\":null,\"column_names\":[\"x\",\"y\"],\"data\":{\"x\":{\"__ndarray__\":\"AAAAGfGjdUIAAMB+Q6R1QgAAgOSVpHVCAADAFY2ldUIAAIB736V1QgAAQOExpnVCAAAAR4SmdUIAAADezad1QgAAwEMgqHVCAACAqXKodUIAAEAPxah1QgAAAHUXqXVCAABApg6qdUIAAAAMYap1QgAAwHGzqnVCAACA1wWrdUIAAEA9WKt1QgAAQNShrHVCAAAAOvSsdUI=\",\"dtype\":\"float64\",\"shape\":[19]},\"y\":{\"__ndarray__\":\"mpmZmZlddUAzMzMzMy91QGZmZmZmEnVAZmZmZmbudEAAAAAAAOx0QDMzMzMzv3RAzczMzMykdEAzMzMzM5t0QGZmZmZmnnRAAAAAAADgdEAAAAAAABB1QGZmZmZm/nRAAAAAAAAwdUAzMzMzM0t1QDMzMzMzB3VAmpmZmZlxdEDNzMzMzBR1QAAAAAAASHVAzczMzMz8dEA=\",\"dtype\":\"float64\",\"shape\":[19]}}},\"id\":\"7b96c95c-221d-46b2-8574-16db0a5c3d81\",\"type\":\"ColumnDataSource\"},{\"attributes\":{\"days\":[1,15]},\"id\":\"ab5dc779-36c3-4a49-918d-a4d2aff8fb4a\",\"type\":\"DaysTicker\"},{\"attributes\":{\"plot\":{\"id\":\"586def4c-f6f5-40dc-b8ac-79b78a650045\",\"subtype\":\"Figure\",\"type\":\"Plot\"}},\"id\":\"84fbce0a-3b95-4e83-a37b-1b9e1e6d7789\",\"type\":\"WheelZoomTool\"},{\"attributes\":{\"callback\":null},\"id\":\"5a210f0e-83a4-42e4-8406-4b8287543c16\",\"type\":\"DataRange1d\"},{\"attributes\":{\"days\":[1,4,7,10,13,16,19,22,25,28]},\"id\":\"bfd37135-95fe-4b4f-bcc1-03066dad2d01\",\"type\":\"DaysTicker\"},{\"attributes\":{\"data_source\":{\"id\":\"e444039a-e22e-40e5-abbb-e8476cd5cecb\",\"type\":\"ColumnDataSource\"},\"glyph\":{\"id\":\"0207f5ca-23dd-4a43-9a01-05aec8240b34\",\"type\":\"Line\"},\"hover_glyph\":null,\"nonselection_glyph\":{\"id\":\"53a43b37-1414-42a3-ab26-5cecad36518f\",\"type\":\"Line\"},\"selection_glyph\":null},\"id\":\"a0b91b4c-bf81-45bd-9321-3c7b9fb8c9ac\",\"type\":\"GlyphRenderer\"},{\"attributes\":{},\"id\":\"2a7b302f-f80a-49c3-8f96-7e016614a226\",\"type\":\"YearsTicker\"},{\"attributes\":{\"num_minor_ticks\":5},\"id\":\"df72a1bf-5bb1-4c95-b2b1-9d2749e9bce4\",\"type\":\"DatetimeTicker\"},{\"attributes\":{\"callback\":null},\"id\":\"294f7ac6-6cd3-4cd8-a9ed-ee01aa93553d\",\"type\":\"DataRange1d\"},{\"attributes\":{},\"id\":\"4e28d928-4936-47d0-b923-7150f4983e9a\",\"type\":\"ToolEvents\"},{\"attributes\":{\"plot\":{\"id\":\"586def4c-f6f5-40dc-b8ac-79b78a650045\",\"subtype\":\"Figure\",\"type\":\"Plot\"}},\"id\":\"0064c21a-9e93-42ab-9b92-7fb72342518c\",\"type\":\"HelpTool\"},{\"attributes\":{\"callback\":null},\"id\":\"df33f25a-1385-4412-8763-f13cabbb1a32\",\"type\":\"DataRange1d\"},{\"attributes\":{\"callback\":null},\"id\":\"d005a9b7-d638-4162-922e-71e5ce48090f\",\"type\":\"DataRange1d\"},{\"attributes\":{\"callback\":null},\"id\":\"09c46482-6c33-4ecc-8d12-bdf4963ee327\",\"type\":\"DataRange1d\"},{\"attributes\":{\"data_source\":{\"id\":\"4679aee3-41af-458b-8fbf-9252588f95cb\",\"type\":\"ColumnDataSource\"},\"glyph\":{\"id\":\"a8ca2795-fd69-45df-820e-4876eea9643b\",\"type\":\"Line\"},\"hover_glyph\":null,\"nonselection_glyph\":{\"id\":\"9c549fb1-0d9e-42a4-b939-69e01e614f26\",\"type\":\"Line\"},\"selection_glyph\":null},\"id\":\"54ce976e-8f92-4d6c-8a9b-ffd03f6aeb97\",\"type\":\"GlyphRenderer\"},{\"attributes\":{\"months\":[0,2,4,6,8,10]},\"id\":\"f441b5f9-77c3-4b4f-bd70-b93f1d0fbdc0\",\"type\":\"MonthsTicker\"},{\"attributes\":{},\"id\":\"e93ccba6-069f-4534-8026-b1f254e3e23f\",\"type\":\"BasicTicker\"},{\"attributes\":{\"plot\":{\"id\":\"9c93c299-356f-49e1-8bd8-d4a523a4e452\",\"subtype\":\"Figure\",\"type\":\"Plot\"}},\"id\":\"32ee8cbc-0afe-4aa4-93da-b8f3db06296f\",\"type\":\"HelpTool\"},{\"attributes\":{\"plot\":{\"id\":\"9270e32e-4f6b-4c04-94f2-a47286bbb20b\",\"subtype\":\"Figure\",\"type\":\"Plot\"},\"ticker\":{\"id\":\"c9cb73de-ba36-4fe9-b097-efbc7d7b7c74\",\"type\":\"DatetimeTicker\"}},\"id\":\"466710c5-649a-437e-86a9-dd600ef07f8b\",\"type\":\"Grid\"},{\"attributes\":{\"data_source\":{\"id\":\"5d3f80e2-0b04-43d5-a2c9-a0771289062f\",\"type\":\"ColumnDataSource\"},\"glyph\":{\"id\":\"1d1ad2a0-69a2-4e76-8cbd-f54d62c86f87\",\"type\":\"Line\"},\"hover_glyph\":null,\"nonselection_glyph\":{\"id\":\"99621f6e-21d6-4380-8ee6-08f4ce67dccc\",\"type\":\"Line\"},\"selection_glyph\":null},\"id\":\"e485dc32-5112-47a6-8a60-2251e1d64fe3\",\"type\":\"GlyphRenderer\"},{\"attributes\":{\"base\":24,\"mantissas\":[1,2,4,6,8,12],\"max_interval\":43200000.0,\"min_interval\":3600000.0,\"num_minor_ticks\":0},\"id\":\"a5ec67ab-4038-45f4-b830-92664ff456b2\",\"type\":\"AdaptiveTicker\"},{\"attributes\":{\"base\":60,\"mantissas\":[1,2,5,10,15,20,30],\"max_interval\":1800000.0,\"min_interval\":1000.0,\"num_minor_ticks\":0},\"id\":\"35a0442d-7788-4a17-9bec-670a97514791\",\"type\":\"AdaptiveTicker\"},{\"attributes\":{\"plot\":{\"id\":\"7f4f95f8-f84e-4148-a7d6-2e42e5bfb8e6\",\"subtype\":\"Figure\",\"type\":\"Plot\"}},\"id\":\"a0c0b213-87e1-4e8b-960d-c0e803e947dc\",\"type\":\"SaveTool\"},{\"attributes\":{\"callback\":null},\"id\":\"4e6d2fc3-5004-4347-b0ed-1175f5e0a3eb\",\"type\":\"DataRange1d\"},{\"attributes\":{\"bottom_units\":\"screen\",\"fill_alpha\":{\"value\":0.5},\"fill_color\":{\"value\":\"lightgrey\"},\"left_units\":\"screen\",\"level\":\"overlay\",\"line_alpha\":{\"value\":1.0},\"line_color\":{\"value\":\"black\"},\"line_dash\":[4,4],\"line_width\":{\"value\":2},\"plot\":null,\"render_mode\":\"css\",\"right_units\":\"screen\",\"top_units\":\"screen\"},\"id\":\"ce91dcf7-fc39-4132-9571-51b623ac4bcf\",\"type\":\"BoxAnnotation\"},{\"attributes\":{\"data_source\":{\"id\":\"2485c99e-93bc-4b1f-917c-691c5f1602c3\",\"type\":\"ColumnDataSource\"},\"glyph\":{\"id\":\"078b0458-3aa6-4c40-9176-4046f0f4169f\",\"type\":\"Line\"},\"hover_glyph\":null,\"nonselection_glyph\":{\"id\":\"2c37cc54-64f1-40a9-bfa4-de1e35204748\",\"type\":\"Line\"},\"selection_glyph\":null},\"id\":\"ab1e90a2-1e8e-4c08-be47-33e27f8f2f32\",\"type\":\"GlyphRenderer\"},{\"attributes\":{\"active_drag\":\"auto\",\"active_scroll\":\"auto\",\"active_tap\":\"auto\",\"tools\":[{\"id\":\"cc95e4f3-eb73-4415-851c-3bafc8ce9a3f\",\"type\":\"PanTool\"},{\"id\":\"0b63eac3-5bbd-4941-8b00-d2ec2ec6f2be\",\"type\":\"WheelZoomTool\"},{\"id\":\"2d549333-4d12-4d7e-bb4b-3a19956f885f\",\"type\":\"BoxZoomTool\"},{\"id\":\"28d64d31-5769-465a-90bc-fe2483d7e6e0\",\"type\":\"SaveTool\"},{\"id\":\"3a0e8d45-5dc2-4fda-87fb-1e3491d46a4a\",\"type\":\"ResetTool\"},{\"id\":\"a523bdb0-472f-47c6-b086-3d5efeba8be3\",\"type\":\"HelpTool\"}]},\"id\":\"63f39c04-65a1-435c-bfd1-d52e2a75833a\",\"type\":\"Toolbar\"},{\"attributes\":{\"callback\":null},\"id\":\"79b37963-abd3-4ffb-9a02-a8ad4ad7b8a8\",\"type\":\"DataRange1d\"},{\"attributes\":{\"plot\":{\"id\":\"73b1094d-193e-4357-a106-81e11fdf05ca\",\"subtype\":\"Figure\",\"type\":\"Plot\"}},\"id\":\"b84f90f0-a42b-4973-afa4-80d1d6b37563\",\"type\":\"ResetTool\"},{\"attributes\":{\"base\":60,\"mantissas\":[1,2,5,10,15,20,30],\"max_interval\":1800000.0,\"min_interval\":1000.0,\"num_minor_ticks\":0},\"id\":\"5fef781d-cb09-4b82-832a-228a33024f42\",\"type\":\"AdaptiveTicker\"},{\"attributes\":{\"data_source\":{\"id\":\"1a9990f2-99ac-4060-885d-254c029cab3c\",\"type\":\"ColumnDataSource\"},\"glyph\":{\"id\":\"349e2773-e977-4f7f-aef5-c7ef4169d9b4\",\"type\":\"Line\"},\"hover_glyph\":null,\"nonselection_glyph\":{\"id\":\"3a5f4632-13c8-429f-9ef8-7f98c97379f1\",\"type\":\"Line\"},\"selection_glyph\":null},\"id\":\"a68787c9-5067-45ff-80ab-72cb246ffe60\",\"type\":\"GlyphRenderer\"},{\"attributes\":{\"plot\":{\"id\":\"b54d1169-c443-467e-a1b2-8a966f7eb6cb\",\"subtype\":\"Figure\",\"type\":\"Plot\"}},\"id\":\"ec65df8a-cc50-4dc6-9522-1a27f6fa135a\",\"type\":\"PanTool\"},{\"attributes\":{\"callback\":null},\"id\":\"4b361986-881f-48f1-b24e-7e948df07eca\",\"type\":\"DataRange1d\"},{\"attributes\":{\"label\":{\"value\":\"Open\"},\"renderers\":[{\"id\":\"090916c5-2dc6-4997-9bf9-4386f2845ddd\",\"type\":\"GlyphRenderer\"}]},\"id\":\"62d433c2-a433-4936-8469-c0ef38803bc5\",\"type\":\"LegendItem\"},{\"attributes\":{\"items\":[{\"id\":\"f6a091e6-9efe-465d-8062-d7bdc709cce7\",\"type\":\"LegendItem\"},{\"id\":\"acdfee79-87a4-486f-9cb0-77243fb97f93\",\"type\":\"LegendItem\"},{\"id\":\"daebcea2-7ab6-4518-97e7-cb295e251bda\",\"type\":\"LegendItem\"}],\"plot\":{\"id\":\"bad3fd3b-905f-43ca-81d5-574d2a2ced82\",\"subtype\":\"Figure\",\"type\":\"Plot\"}},\"id\":\"c3aab240-f2eb-455e-bc5d-deb2999b2246\",\"type\":\"Legend\"},{\"attributes\":{\"data_source\":{\"id\":\"f17e9901-bb97-4972-b457-c8e78a96d4a3\",\"type\":\"ColumnDataSource\"},\"glyph\":{\"id\":\"e3e918a8-82d1-4400-ab26-64253542e09f\",\"type\":\"Line\"},\"hover_glyph\":null,\"nonselection_glyph\":{\"id\":\"523c7200-ab6f-419d-8aaf-4ed640dfb714\",\"type\":\"Line\"},\"selection_glyph\":null},\"id\":\"5445fdcd-7bb7-4555-9abc-34773afd6696\",\"type\":\"GlyphRenderer\"},{\"attributes\":{\"fill_color\":{\"value\":\"green\"},\"line_color\":{\"value\":\"green\"},\"x\":{\"field\":\"x\"},\"y\":{\"field\":\"y\"}},\"id\":\"c73edd72-34c2-44fe-9d01-16b475e224d4\",\"type\":\"Circle\"},{\"attributes\":{\"plot\":{\"id\":\"73b1094d-193e-4357-a106-81e11fdf05ca\",\"subtype\":\"Figure\",\"type\":\"Plot\"}},\"id\":\"4e51396a-8eca-4af0-9f7f-debc8b3faf64\",\"type\":\"SaveTool\"},{\"attributes\":{\"line_color\":{\"value\":\"#1f77b4\"},\"x\":{\"field\":\"x\"},\"y\":{\"field\":\"y\"}},\"id\":\"51781648-b247-45f6-ba91-bfaac6d18fdb\",\"type\":\"Line\"},{\"attributes\":{\"base\":60,\"mantissas\":[1,2,5,10,15,20,30],\"max_interval\":1800000.0,\"min_interval\":1000.0,\"num_minor_ticks\":0},\"id\":\"7eb27b0e-e65f-47c6-8d9b-f9f5b7310772\",\"type\":\"AdaptiveTicker\"},{\"attributes\":{},\"id\":\"20be4ca3-b003-496f-a05e-6842be47ccf5\",\"type\":\"ToolEvents\"},{\"attributes\":{\"plot\":null,\"text\":\"NSE/OIL\"},\"id\":\"2a1f45ca-8939-4f68-b60b-e9b6f7d6dcfb\",\"type\":\"Title\"},{\"attributes\":{\"formatter\":{\"id\":\"f83747f2-90d2-4ef0-acf2-e8c90c8f804e\",\"type\":\"DatetimeTickFormatter\"},\"plot\":{\"id\":\"69164c54-c2ef-436c-a3f0-a88b1ad80fbb\",\"subtype\":\"Figure\",\"type\":\"Plot\"},\"ticker\":{\"id\":\"e9067721-f1c2-46f0-ae21-b62e3ca96360\",\"type\":\"DatetimeTicker\"}},\"id\":\"94efa1ee-a40c-4a4d-9e04-1bc39486df03\",\"type\":\"DatetimeAxis\"},{\"attributes\":{\"formatter\":{\"id\":\"cfac78c8-b44b-487f-b3a4-b1cb34855d61\",\"type\":\"DatetimeTickFormatter\"},\"plot\":{\"id\":\"73b1094d-193e-4357-a106-81e11fdf05ca\",\"subtype\":\"Figure\",\"type\":\"Plot\"},\"ticker\":{\"id\":\"1983e051-293b-42b9-866d-a07cb6ef892c\",\"type\":\"DatetimeTicker\"}},\"id\":\"8e80d4e2-ae90-48b3-bee6-ef0c44654737\",\"type\":\"DatetimeAxis\"},{\"attributes\":{},\"id\":\"a6d88794-68df-40c6-912f-363cb9688fda\",\"type\":\"BasicTickFormatter\"},{\"attributes\":{\"months\":[0,1,2,3,4,5,6,7,8,9,10,11]},\"id\":\"8ff88581-b5d1-4a2d-804f-38b1e4883e35\",\"type\":\"MonthsTicker\"},{\"attributes\":{\"formatter\":{\"id\":\"418705b3-22c6-4c56-86c0-3bf2037d8d91\",\"type\":\"BasicTickFormatter\"},\"plot\":{\"id\":\"b54d1169-c443-467e-a1b2-8a966f7eb6cb\",\"subtype\":\"Figure\",\"type\":\"Plot\"},\"ticker\":{\"id\":\"68b68469-6888-448e-a1ee-c2156bb007d9\",\"type\":\"BasicTicker\"}},\"id\":\"175baed0-512a-44e2-a14a-ed8d604d93ac\",\"type\":\"LinearAxis\"},{\"attributes\":{\"line_alpha\":{\"value\":0.1},\"line_color\":{\"value\":\"#1f77b4\"},\"x\":{\"field\":\"x\"},\"y\":{\"field\":\"y\"}},\"id\":\"aaff019b-2dc0-43a3-aab1-7d3cd1c33074\",\"type\":\"Line\"},{\"attributes\":{\"base\":60,\"mantissas\":[1,2,5,10,15,20,30],\"max_interval\":1800000.0,\"min_interval\":1000.0,\"num_minor_ticks\":0},\"id\":\"45422953-718f-4fe7-9160-3f3f01c98480\",\"type\":\"AdaptiveTicker\"},{\"attributes\":{\"line_color\":{\"value\":\"orange\"},\"x\":{\"field\":\"x\"},\"y\":{\"field\":\"y\"}},\"id\":\"1d1ad2a0-69a2-4e76-8cbd-f54d62c86f87\",\"type\":\"Line\"},{\"attributes\":{\"overlay\":{\"id\":\"ce91dcf7-fc39-4132-9571-51b623ac4bcf\",\"type\":\"BoxAnnotation\"},\"plot\":{\"id\":\"edf2e3ec-b7d0-43cd-b41a-ae39aff67a86\",\"subtype\":\"Figure\",\"type\":\"Plot\"}},\"id\":\"123b2be3-d800-4f58-a9e8-f335ea0b9396\",\"type\":\"BoxZoomTool\"},{\"attributes\":{},\"id\":\"d09a7158-f763-48f1-9bb6-3667c798c05e\",\"type\":\"YearsTicker\"},{\"attributes\":{\"data_source\":{\"id\":\"5fd22318-7fc6-4b9a-87d5-23ab8018b216\",\"type\":\"ColumnDataSource\"},\"glyph\":{\"id\":\"1f97bff5-028d-4e62-991b-9b526c2580e3\",\"type\":\"Line\"},\"hover_glyph\":null,\"nonselection_glyph\":{\"id\":\"3547b3c7-e031-4802-8dfd-981db8599c24\",\"type\":\"Line\"},\"selection_glyph\":null},\"id\":\"c089b56c-a0c4-4641-bb9d-1125a87e7700\",\"type\":\"GlyphRenderer\"},{\"attributes\":{\"callback\":null,\"column_names\":[\"x\",\"y\"],\"data\":{\"x\":{\"__ndarray__\":\"AAAAGfGjdUIAAMB+Q6R1QgAAgOSVpHVCAADAFY2ldUIAAIB736V1QgAAQOExpnVCAAAAR4SmdUIAAADezad1QgAAwEMgqHVCAACAqXKodUIAAEAPxah1QgAAAHUXqXVCAABApg6qdUIAAAAMYap1QgAAwHGzqnVCAACA1wWrdUIAAEA9WKt1QgAAQNShrHVCAAAAOvSsdUI=\",\"dtype\":\"float64\",\"shape\":[19]},\"y\":{\"__ndarray__\":\"AAAAAADwdECamZmZmdV0QGZmZmZmtnRAMzMzMzMDdECamZmZmQl0QAAAAAAAYHRAAAAAAABQdEDNzMzMzFB0QAAAAAAASHRAAAAAAACAdEBmZmZmZoZ0QAAAAAAAoHRAzczMzMzkdEDNzMzMzNB0QJqZmZmZYXRAAAAAAAAYdEDNzMzMzER0QGZmZmZmxnRAmpmZmZmxdEA=\",\"dtype\":\"float64\",\"shape\":[19]}}},\"id\":\"19948118-5781-479f-a08c-57237be281e6\",\"type\":\"ColumnDataSource\"},{\"attributes\":{},\"id\":\"f1e5ed99-6180-4c50-90bd-c731d48402cc\",\"type\":\"DatetimeTickFormatter\"},{\"attributes\":{\"plot\":{\"id\":\"9c93c299-356f-49e1-8bd8-d4a523a4e452\",\"subtype\":\"Figure\",\"type\":\"Plot\"}},\"id\":\"9294df76-08a3-4b5b-a857-16ddb61435ea\",\"type\":\"SaveTool\"},{\"attributes\":{\"plot\":{\"id\":\"69164c54-c2ef-436c-a3f0-a88b1ad80fbb\",\"subtype\":\"Figure\",\"type\":\"Plot\"}},\"id\":\"cc95e4f3-eb73-4415-851c-3bafc8ce9a3f\",\"type\":\"PanTool\"},{\"attributes\":{\"callback\":null,\"column_names\":[\"x\",\"y\"],\"data\":{\"x\":{\"__ndarray__\":\"AAAAGfGjdUIAAMB+Q6R1QgAAgOSVpHVCAADAFY2ldUIAAIB736V1QgAAQOExpnVCAAAAR4SmdUIAAADezad1QgAAwEMgqHVCAACAqXKodUIAAEAPxah1QgAAAHUXqXVCAABApg6qdUIAAAAMYap1QgAAwHGzqnVCAACA1wWrdUIAAEA9WKt1QgAAQNShrHVCAAAAOvSsdUI=\",\"dtype\":\"float64\",\"shape\":[19]},\"y\":{\"__ndarray__\":\"mpmZmZkFdUBmZmZmZup0QGZmZmZm1nRAZmZmZmZydEDNzMzMzIB0QAAAAAAAaHRAZmZmZmZudEAzMzMzM4N0QJqZmZmZcXRAZmZmZmbSdEAzMzMzM690QGZmZmZm2nRAmpmZmZkldUDNzMzMzPB0QM3MzMzMcHRAmpmZmZlBdEBmZmZmZuZ0QDMzMzMz83RAmpmZmZnJdEA=\",\"dtype\":\"float64\",\"shape\":[19]}}},\"id\":\"3e2ba78a-8efb-4532-b52e-e181bf55713b\",\"type\":\"ColumnDataSource\"},{\"attributes\":{\"line_color\":{\"value\":\"#1f77b4\"},\"x\":{\"field\":\"x\"},\"y\":{\"field\":\"y\"}},\"id\":\"a5f13ba7-b8c2-46c6-85e7-768bf6b2374c\",\"type\":\"Line\"},{\"attributes\":{},\"id\":\"b2cdd668-ab18-478d-9be7-09892412a491\",\"type\":\"BasicTicker\"},{\"attributes\":{\"active_drag\":\"auto\",\"active_scroll\":\"auto\",\"active_tap\":\"auto\",\"tools\":[{\"id\":\"127cd2d3-d6d4-4554-a485-f90d3ecafdf4\",\"type\":\"PanTool\"},{\"id\":\"8e6b5296-94e7-4f99-9a81-7d0fc36c854a\",\"type\":\"WheelZoomTool\"},{\"id\":\"123b2be3-d800-4f58-a9e8-f335ea0b9396\",\"type\":\"BoxZoomTool\"},{\"id\":\"c51ffe05-cc2d-4d33-9961-aff8e72dedb1\",\"type\":\"SaveTool\"},{\"id\":\"99bfe5a0-afd8-4cd5-8128-7fdc3b0524e6\",\"type\":\"ResetTool\"},{\"id\":\"82d00449-d11f-4b21-8c72-3e83e70b936f\",\"type\":\"HelpTool\"}]},\"id\":\"e2526818-110d-476d-8445-3be074122a08\",\"type\":\"Toolbar\"},{\"attributes\":{\"formatter\":{\"id\":\"32c8333d-2bbe-4060-ae87-14a3f2801d66\",\"type\":\"DatetimeTickFormatter\"},\"plot\":{\"id\":\"bad3fd3b-905f-43ca-81d5-574d2a2ced82\",\"subtype\":\"Figure\",\"type\":\"Plot\"},\"ticker\":{\"id\":\"8da713b0-f59a-4fcb-8dd0-085610bc7f1d\",\"type\":\"DatetimeTicker\"}},\"id\":\"caa3ae4d-470f-44e4-9125-c79019f0d912\",\"type\":\"DatetimeAxis\"},{\"attributes\":{\"bottom_units\":\"screen\",\"fill_alpha\":{\"value\":0.5},\"fill_color\":{\"value\":\"lightgrey\"},\"left_units\":\"screen\",\"level\":\"overlay\",\"line_alpha\":{\"value\":1.0},\"line_color\":{\"value\":\"black\"},\"line_dash\":[4,4],\"line_width\":{\"value\":2},\"plot\":null,\"render_mode\":\"css\",\"right_units\":\"screen\",\"top_units\":\"screen\"},\"id\":\"c0b2d691-d73b-4926-816e-55cc0eeafb6e\",\"type\":\"BoxAnnotation\"},{\"attributes\":{\"base\":24,\"mantissas\":[1,2,4,6,8,12],\"max_interval\":43200000.0,\"min_interval\":3600000.0,\"num_minor_ticks\":0},\"id\":\"72dba9e1-1f36-4a6f-bcce-2668431eed77\",\"type\":\"AdaptiveTicker\"},{\"attributes\":{\"callback\":null,\"column_names\":[\"y\",\"x\"],\"data\":{\"x\":{\"__ndarray__\":\"AAAAGfGjdUIAAMB+Q6R1QgAAgOSVpHVCAADAFY2ldUIAAIB736V1QgAAQOExpnVCAAAAR4SmdUIAAADezad1QgAAwEMgqHVCAACAqXKodUIAAEAPxah1QgAAAHUXqXVCAABApg6qdUIAAAAMYap1QgAAwHGzqnVCAACA1wWrdUIAAEA9WKt1QgAAQNShrHVCAAAAOvSsdUI=\",\"dtype\":\"float64\",\"shape\":[19]},\"y\":{\"__ndarray__\":\"MzMzMzMDdUBmZmZmZgZ1QGZmZmZmEnVAAAAAAADodEAAAAAAAGB0QJqZmZmZrXRAMzMzMzNrdECamZmZmWV0QJqZmZmZnXRAmpmZmZmpdEAzMzMzM/t0QAAAAAAAsHRAmpmZmZnldEAAAAAAAEB1QM3MzMzM8HRAzczMzMxwdEAAAAAAAFB0QDMzMzMzE3VAmpmZmZnhdEA=\",\"dtype\":\"float64\",\"shape\":[19]}}},\"id\":\"aa4882a7-ee43-419e-ac69-0e16dc962406\",\"type\":\"ColumnDataSource\"},{\"attributes\":{\"line_color\":{\"value\":\"green\"},\"x\":{\"field\":\"x\"},\"y\":{\"field\":\"y\"}},\"id\":\"b617108a-3e30-48de-aaf7-a2b4d24010e5\",\"type\":\"Line\"},{\"attributes\":{},\"id\":\"cfac78c8-b44b-487f-b3a4-b1cb34855d61\",\"type\":\"DatetimeTickFormatter\"},{\"attributes\":{\"fill_alpha\":{\"value\":0.1},\"fill_color\":{\"value\":\"#1f77b4\"},\"line_alpha\":{\"value\":0.1},\"line_color\":{\"value\":\"#1f77b4\"},\"x\":{\"field\":\"x\"},\"y\":{\"field\":\"y\"}},\"id\":\"30fe36b9-5dcf-4f29-8f2d-4be968ab962d\",\"type\":\"Circle\"},{\"attributes\":{\"plot\":{\"id\":\"b54d1169-c443-467e-a1b2-8a966f7eb6cb\",\"subtype\":\"Figure\",\"type\":\"Plot\"}},\"id\":\"6286159a-eebd-45bd-b132-47b7a2a3d303\",\"type\":\"SaveTool\"},{\"attributes\":{\"data_source\":{\"id\":\"03357813-99dc-41fb-be7a-d39d60d9b264\",\"type\":\"ColumnDataSource\"},\"glyph\":{\"id\":\"e4b8aa2d-d535-4073-b100-22470a990189\",\"type\":\"Circle\"},\"hover_glyph\":null,\"nonselection_glyph\":{\"id\":\"2c7c485d-11d7-45f3-bfbb-148c099f8874\",\"type\":\"Circle\"},\"selection_glyph\":null},\"id\":\"7900cf66-a821-44e7-951c-eee7f930659e\",\"type\":\"GlyphRenderer\"},{\"attributes\":{\"data_source\":{\"id\":\"3e2ba78a-8efb-4532-b52e-e181bf55713b\",\"type\":\"ColumnDataSource\"},\"glyph\":{\"id\":\"bcb97c10-8762-495f-87a8-b399269809cd\",\"type\":\"Line\"},\"hover_glyph\":null,\"nonselection_glyph\":{\"id\":\"e30c9cbc-5405-45ac-bf32-1170d56a7daa\",\"type\":\"Line\"},\"selection_glyph\":null},\"id\":\"1f943ce4-e864-4b06-943a-33e65618e8d3\",\"type\":\"GlyphRenderer\"},{\"attributes\":{\"callback\":null},\"id\":\"b94fb597-af25-47c0-bba2-d20a541f10ab\",\"type\":\"DataRange1d\"},{\"attributes\":{\"fill_alpha\":{\"value\":0.1},\"fill_color\":{\"value\":\"#1f77b4\"},\"line_alpha\":{\"value\":0.1},\"line_color\":{\"value\":\"#1f77b4\"},\"x\":{\"field\":\"x\"},\"y\":{\"field\":\"y\"}},\"id\":\"a56a1096-9fb2-4301-af71-c5a81ef012e3\",\"type\":\"Circle\"},{\"attributes\":{\"callback\":null,\"column_names\":[\"x\",\"y\"],\"data\":{\"x\":{\"__ndarray__\":\"AAAAGfGjdUIAAMB+Q6R1QgAAgOSVpHVCAADAFY2ldUIAAIB736V1QgAAQOExpnVCAAAAR4SmdUIAAADezad1QgAAwEMgqHVCAACAqXKodUIAAEAPxah1QgAAAHUXqXVCAABApg6qdUIAAAAMYap1QgAAwHGzqnVCAACA1wWrdUIAAEA9WKt1QgAAQNShrHVCAAAAOvSsdUI=\",\"dtype\":\"float64\",\"shape\":[19]},\"y\":{\"__ndarray__\":\"AAAAAADwdECamZmZmdV0QGZmZmZmtnRAMzMzMzMDdECamZmZmQl0QAAAAAAAYHRAAAAAAABQdEDNzMzMzFB0QAAAAAAASHRAAAAAAACAdEBmZmZmZoZ0QAAAAAAAoHRAzczMzMzkdEDNzMzMzNB0QJqZmZmZYXRAAAAAAAAYdEDNzMzMzER0QGZmZmZmxnRAmpmZmZmxdEA=\",\"dtype\":\"float64\",\"shape\":[19]}}},\"id\":\"e444039a-e22e-40e5-abbb-e8476cd5cecb\",\"type\":\"ColumnDataSource\"},{\"attributes\":{\"plot\":{\"id\":\"7f4f95f8-f84e-4148-a7d6-2e42e5bfb8e6\",\"subtype\":\"Figure\",\"type\":\"Plot\"}},\"id\":\"1a7216ee-05f9-4b8a-93ae-50772afbbbc7\",\"type\":\"HelpTool\"},{\"attributes\":{\"plot\":{\"id\":\"9270e32e-4f6b-4c04-94f2-a47286bbb20b\",\"subtype\":\"Figure\",\"type\":\"Plot\"}},\"id\":\"2d2c962e-05ca-48bb-8412-e941748aa9e9\",\"type\":\"SaveTool\"},{\"attributes\":{\"months\":[0,6]},\"id\":\"396fd0e9-7b0d-4536-8343-a61b68ad675d\",\"type\":\"MonthsTicker\"},{\"attributes\":{},\"id\":\"d44f1e28-70f2-4176-a7a7-7e070a74ad66\",\"type\":\"ToolEvents\"},{\"attributes\":{\"callback\":null,\"column_names\":[\"y\",\"x\"],\"data\":{\"x\":{\"__ndarray__\":\"AAAAGfGjdUIAAMB+Q6R1QgAAgOSVpHVCAADAFY2ldUIAAIB736V1QgAAQOExpnVCAAAAR4SmdUIAAADezad1QgAAwEMgqHVCAACAqXKodUIAAEAPxah1QgAAAHUXqXVCAABApg6qdUIAAAAMYap1QgAAwHGzqnVCAACA1wWrdUIAAEA9WKt1QgAAQNShrHVCAAAAOvSsdUI=\",\"dtype\":\"float64\",\"shape\":[19]},\"y\":{\"__ndarray__\":\"mpmZmZkFdUBmZmZmZup0QGZmZmZm1nRAZmZmZmZydEDNzMzMzIB0QAAAAAAAaHRAZmZmZmZudEAzMzMzM4N0QJqZmZmZcXRAZmZmZmbSdEAzMzMzM690QGZmZmZm2nRAmpmZmZkldUDNzMzMzPB0QM3MzMzMcHRAmpmZmZlBdEBmZmZmZuZ0QDMzMzMz83RAmpmZmZnJdEA=\",\"dtype\":\"float64\",\"shape\":[19]}}},\"id\":\"0717595a-1392-4f21-8a83-a41cef258f6d\",\"type\":\"ColumnDataSource\"},{\"attributes\":{\"plot\":{\"id\":\"9c93c299-356f-49e1-8bd8-d4a523a4e452\",\"subtype\":\"Figure\",\"type\":\"Plot\"}},\"id\":\"5408e57d-4151-4a2b-b874-38e561106b6d\",\"type\":\"WheelZoomTool\"},{\"attributes\":{},\"id\":\"b2fc565c-aea5-46df-8097-1ddb8e00aac2\",\"type\":\"BasicTickFormatter\"},{\"attributes\":{\"plot\":{\"id\":\"69164c54-c2ef-436c-a3f0-a88b1ad80fbb\",\"subtype\":\"Figure\",\"type\":\"Plot\"}},\"id\":\"0b63eac3-5bbd-4941-8b00-d2ec2ec6f2be\",\"type\":\"WheelZoomTool\"},{\"attributes\":{},\"id\":\"e2676251-609c-48de-af73-f38cec918d26\",\"type\":\"BasicTicker\"},{\"attributes\":{\"bottom_units\":\"screen\",\"fill_alpha\":{\"value\":0.5},\"fill_color\":{\"value\":\"lightgrey\"},\"left_units\":\"screen\",\"level\":\"overlay\",\"line_alpha\":{\"value\":1.0},\"line_color\":{\"value\":\"black\"},\"line_dash\":[4,4],\"line_width\":{\"value\":2},\"plot\":null,\"render_mode\":\"css\",\"right_units\":\"screen\",\"top_units\":\"screen\"},\"id\":\"7a464894-879e-4c0f-ac76-cc988b984c9e\",\"type\":\"BoxAnnotation\"},{\"attributes\":{\"base\":60,\"mantissas\":[1,2,5,10,15,20,30],\"max_interval\":1800000.0,\"min_interval\":1000.0,\"num_minor_ticks\":0},\"id\":\"4f5b613a-e350-4c6a-9dd6-3705a4b7d54b\",\"type\":\"AdaptiveTicker\"},{\"attributes\":{\"data_source\":{\"id\":\"3cbc819f-d733-48e9-a121-df93b01fe03d\",\"type\":\"ColumnDataSource\"},\"glyph\":{\"id\":\"706babf1-9185-4910-8d7c-eb903f76569f\",\"type\":\"Line\"},\"hover_glyph\":null,\"nonselection_glyph\":{\"id\":\"15c97e5d-f9d2-484f-95d9-214b0b466448\",\"type\":\"Line\"},\"selection_glyph\":null},\"id\":\"7370d9c0-81d5-421d-b084-731b9621e888\",\"type\":\"GlyphRenderer\"},{\"attributes\":{\"plot\":{\"id\":\"7f4f95f8-f84e-4148-a7d6-2e42e5bfb8e6\",\"subtype\":\"Figure\",\"type\":\"Plot\"}},\"id\":\"4f0dc362-06d7-4de5-ba19-bbac4dd7b33c\",\"type\":\"ResetTool\"},{\"attributes\":{\"line_color\":{\"value\":\"#1f77b4\"},\"x\":{\"field\":\"x\"},\"y\":{\"field\":\"y\"}},\"id\":\"349e2773-e977-4f7f-aef5-c7ef4169d9b4\",\"type\":\"Line\"},{\"attributes\":{\"formatter\":{\"id\":\"b2fc565c-aea5-46df-8097-1ddb8e00aac2\",\"type\":\"BasicTickFormatter\"},\"plot\":{\"id\":\"edf2e3ec-b7d0-43cd-b41a-ae39aff67a86\",\"subtype\":\"Figure\",\"type\":\"Plot\"},\"ticker\":{\"id\":\"7da9e211-8059-4d67-a287-daccd3fdd618\",\"type\":\"BasicTicker\"}},\"id\":\"c2cbd21f-3a94-4038-a957-895c803d76f4\",\"type\":\"LinearAxis\"},{\"attributes\":{\"plot\":{\"id\":\"586def4c-f6f5-40dc-b8ac-79b78a650045\",\"subtype\":\"Figure\",\"type\":\"Plot\"}},\"id\":\"7a0577f8-c64c-45b7-9227-e0fd0c7d5e9d\",\"type\":\"ResetTool\"},{\"attributes\":{\"data_source\":{\"id\":\"aa4882a7-ee43-419e-ac69-0e16dc962406\",\"type\":\"ColumnDataSource\"},\"glyph\":{\"id\":\"a5f13ba7-b8c2-46c6-85e7-768bf6b2374c\",\"type\":\"Line\"},\"hover_glyph\":null,\"nonselection_glyph\":{\"id\":\"5f25dff7-a70b-4a9e-a0bf-b5625d45f777\",\"type\":\"Line\"},\"selection_glyph\":null},\"id\":\"71cb7588-8346-41bc-b6c8-4780db8d5bcf\",\"type\":\"GlyphRenderer\"},{\"attributes\":{\"days\":[1,8,15,22]},\"id\":\"ea67e5c5-373f-4945-b9f8-98e0507bdb02\",\"type\":\"DaysTicker\"},{\"attributes\":{\"bottom_units\":\"screen\",\"fill_alpha\":{\"value\":0.5},\"fill_color\":{\"value\":\"lightgrey\"},\"left_units\":\"screen\",\"level\":\"overlay\",\"line_alpha\":{\"value\":1.0},\"line_color\":{\"value\":\"black\"},\"line_dash\":[4,4],\"line_width\":{\"value\":2},\"plot\":null,\"render_mode\":\"css\",\"right_units\":\"screen\",\"top_units\":\"screen\"},\"id\":\"4838943d-510c-4432-b724-788dc23b0299\",\"type\":\"BoxAnnotation\"},{\"attributes\":{\"callback\":null,\"column_names\":[\"x\",\"y\"],\"data\":{\"x\":{\"__ndarray__\":\"AAAAGfGjdUIAAMB+Q6R1QgAAgOSVpHVCAADAFY2ldUIAAIB736V1QgAAQOExpnVCAAAAR4SmdUIAAADezad1QgAAwEMgqHVCAACAqXKodUIAAEAPxah1QgAAAHUXqXVCAABApg6qdUIAAAAMYap1QgAAwHGzqnVCAACA1wWrdUIAAEA9WKt1QgAAQNShrHVCAAAAOvSsdUI=\",\"dtype\":\"float64\",\"shape\":[19]},\"y\":{\"__ndarray__\":\"mpmZmZkFdUBmZmZmZup0QGZmZmZm1nRAZmZmZmZydEDNzMzMzIB0QAAAAAAAaHRAZmZmZmZudEAzMzMzM4N0QJqZmZmZcXRAZmZmZmbSdEAzMzMzM690QGZmZmZm2nRAmpmZmZkldUDNzMzMzPB0QM3MzMzMcHRAmpmZmZlBdEBmZmZmZuZ0QDMzMzMz83RAmpmZmZnJdEA=\",\"dtype\":\"float64\",\"shape\":[19]}}},\"id\":\"f410a720-db44-4cb8-8cc8-77f3e3d0bf8c\",\"type\":\"ColumnDataSource\"},{\"attributes\":{\"months\":[0,6]},\"id\":\"88e547a5-7839-42f9-b77e-8139b4585345\",\"type\":\"MonthsTicker\"},{\"attributes\":{\"callback\":null},\"id\":\"d0048797-072a-46d1-983b-93d30aeaef85\",\"type\":\"DataRange1d\"},{\"attributes\":{\"below\":[{\"id\":\"1d58aa14-d2b0-4356-8e80-8148e9b8ccab\",\"type\":\"DatetimeAxis\"}],\"left\":[{\"id\":\"c2cbd21f-3a94-4038-a957-895c803d76f4\",\"type\":\"LinearAxis\"}],\"renderers\":[{\"id\":\"1d58aa14-d2b0-4356-8e80-8148e9b8ccab\",\"type\":\"DatetimeAxis\"},{\"id\":\"b0d16b65-8f1f-43a5-94e0-464728770378\",\"type\":\"Grid\"},{\"id\":\"c2cbd21f-3a94-4038-a957-895c803d76f4\",\"type\":\"LinearAxis\"},{\"id\":\"94cddefe-cbef-4f67-9404-475a14e9cc63\",\"type\":\"Grid\"},{\"id\":\"ce91dcf7-fc39-4132-9571-51b623ac4bcf\",\"type\":\"BoxAnnotation\"},{\"id\":\"80047daa-586b-4b3e-8df1-06cd4cb09824\",\"type\":\"Legend\"},{\"id\":\"168818e2-1a9d-4920-9188-f5070607a97c\",\"type\":\"GlyphRenderer\"},{\"id\":\"090916c5-2dc6-4997-9bf9-4386f2845ddd\",\"type\":\"GlyphRenderer\"},{\"id\":\"79ee1431-904b-42ac-89a3-12c4622ab460\",\"type\":\"GlyphRenderer\"}],\"title\":{\"id\":\"2a1f45ca-8939-4f68-b60b-e9b6f7d6dcfb\",\"type\":\"Title\"},\"tool_events\":{\"id\":\"cfbf5aec-7dfd-43e2-9c67-d46464ac280d\",\"type\":\"ToolEvents\"},\"toolbar\":{\"id\":\"e2526818-110d-476d-8445-3be074122a08\",\"type\":\"Toolbar\"},\"x_range\":{\"id\":\"32dec3ef-754c-4793-a6ee-46862fad72de\",\"type\":\"DataRange1d\"},\"y_range\":{\"id\":\"4399e242-7833-444b-a957-eca3fe6f4c88\",\"type\":\"DataRange1d\"}},\"id\":\"edf2e3ec-b7d0-43cd-b41a-ae39aff67a86\",\"subtype\":\"Figure\",\"type\":\"Plot\"},{\"attributes\":{\"line_color\":{\"value\":\"green\"},\"x\":{\"field\":\"x\"},\"y\":{\"field\":\"y\"}},\"id\":\"7194a5fd-b6c9-4985-ac4a-97fcec93e095\",\"type\":\"Line\"},{\"attributes\":{\"callback\":null,\"column_names\":[\"x\",\"y\"],\"data\":{\"x\":{\"__ndarray__\":\"AAAAGfGjdUIAAMB+Q6R1QgAAgOSVpHVCAADAFY2ldUIAAIB736V1QgAAQOExpnVCAAAAR4SmdUIAAADezad1QgAAwEMgqHVCAACAqXKodUIAAEAPxah1QgAAAHUXqXVCAABApg6qdUIAAAAMYap1QgAAwHGzqnVCAACA1wWrdUIAAEA9WKt1QgAAQNShrHVCAAAAOvSsdUI=\",\"dtype\":\"float64\",\"shape\":[19]},\"y\":{\"__ndarray__\":\"MzMzMzMDdUBmZmZmZgZ1QGZmZmZmEnVAAAAAAADodEAAAAAAAGB0QJqZmZmZrXRAMzMzMzNrdECamZmZmWV0QJqZmZmZnXRAmpmZmZmpdEAzMzMzM/t0QAAAAAAAsHRAmpmZmZnldEAAAAAAAEB1QM3MzMzM8HRAzczMzMxwdEAAAAAAAFB0QDMzMzMzE3VAmpmZmZnhdEA=\",\"dtype\":\"float64\",\"shape\":[19]}}},\"id\":\"2485c99e-93bc-4b1f-917c-691c5f1602c3\",\"type\":\"ColumnDataSource\"},{\"attributes\":{\"callback\":null,\"column_names\":[\"x\",\"y\"],\"data\":{\"x\":{\"__ndarray__\":\"AAAAGfGjdUIAAMB+Q6R1QgAAgOSVpHVCAADAFY2ldUIAAIB736V1QgAAQOExpnVCAAAAR4SmdUIAAADezad1QgAAwEMgqHVCAACAqXKodUIAAEAPxah1QgAAAHUXqXVCAABApg6qdUIAAAAMYap1QgAAwHGzqnVCAACA1wWrdUIAAEA9WKt1QgAAQNShrHVCAAAAOvSsdUI=\",\"dtype\":\"float64\",\"shape\":[19]},\"y\":{\"__ndarray__\":\"mpmZmZkFdUBmZmZmZup0QGZmZmZm1nRAZmZmZmZydEDNzMzMzIB0QAAAAAAAaHRAZmZmZmZudEAzMzMzM4N0QJqZmZmZcXRAZmZmZmbSdEAzMzMzM690QGZmZmZm2nRAmpmZmZkldUDNzMzMzPB0QM3MzMzMcHRAmpmZmZlBdEBmZmZmZuZ0QDMzMzMz83RAmpmZmZnJdEA=\",\"dtype\":\"float64\",\"shape\":[19]}}},\"id\":\"1c7503da-82c1-469d-bb1e-fe2e569bee53\",\"type\":\"ColumnDataSource\"},{\"attributes\":{\"active_drag\":\"auto\",\"active_scroll\":\"auto\",\"active_tap\":\"auto\",\"tools\":[{\"id\":\"d9529acc-4a3b-4b89-b063-204dd8e2c916\",\"type\":\"PanTool\"},{\"id\":\"3698bacd-3386-4547-8485-3a1edaf9d9e8\",\"type\":\"WheelZoomTool\"},{\"id\":\"69bdd560-74c5-4739-b606-930be0cfbd6c\",\"type\":\"BoxZoomTool\"},{\"id\":\"a0c0b213-87e1-4e8b-960d-c0e803e947dc\",\"type\":\"SaveTool\"},{\"id\":\"4f0dc362-06d7-4de5-ba19-bbac4dd7b33c\",\"type\":\"ResetTool\"},{\"id\":\"1a7216ee-05f9-4b8a-93ae-50772afbbbc7\",\"type\":\"HelpTool\"}]},\"id\":\"7196bbc7-673c-4b83-901f-f26885fd7437\",\"type\":\"Toolbar\"},{\"attributes\":{},\"id\":\"641d3350-2918-4eb8-9193-96b368771f4f\",\"type\":\"BasicTicker\"},{\"attributes\":{\"plot\":{\"id\":\"586def4c-f6f5-40dc-b8ac-79b78a650045\",\"subtype\":\"Figure\",\"type\":\"Plot\"}},\"id\":\"9b520de5-8d97-4ec2-b0c3-052d0bce2841\",\"type\":\"SaveTool\"},{\"attributes\":{\"plot\":{\"id\":\"9c93c299-356f-49e1-8bd8-d4a523a4e452\",\"subtype\":\"Figure\",\"type\":\"Plot\"}},\"id\":\"6cad111f-496e-4702-bb79-40bcf9045ced\",\"type\":\"PanTool\"},{\"attributes\":{\"label\":{\"value\":\"High\"},\"renderers\":[{\"id\":\"5445fdcd-7bb7-4555-9abc-34773afd6696\",\"type\":\"GlyphRenderer\"}]},\"id\":\"70bc7900-d598-453f-9bd1-3adc72b6b87e\",\"type\":\"LegendItem\"},{\"attributes\":{\"below\":[{\"id\":\"e0a073ad-eddf-4e34-b0ca-349dfa30c1cc\",\"type\":\"DatetimeAxis\"}],\"left\":[{\"id\":\"974c900b-7861-4ebf-a495-4135f46463c9\",\"type\":\"LinearAxis\"}],\"renderers\":[{\"id\":\"e0a073ad-eddf-4e34-b0ca-349dfa30c1cc\",\"type\":\"DatetimeAxis\"},{\"id\":\"e35949ff-91d4-427d-9a66-72105fbde335\",\"type\":\"Grid\"},{\"id\":\"974c900b-7861-4ebf-a495-4135f46463c9\",\"type\":\"LinearAxis\"},{\"id\":\"431e0d4b-bddb-4674-bfc6-b701506be5b4\",\"type\":\"Grid\"},{\"id\":\"c0b2d691-d73b-4926-816e-55cc0eeafb6e\",\"type\":\"BoxAnnotation\"},{\"id\":\"425e13e3-4ec1-4419-a57b-072afd95a9a5\",\"type\":\"Legend\"},{\"id\":\"c089b56c-a0c4-4641-bb9d-1125a87e7700\",\"type\":\"GlyphRenderer\"},{\"id\":\"f343a26a-7da3-4306-9bf5-2538990da3f1\",\"type\":\"GlyphRenderer\"},{\"id\":\"5445fdcd-7bb7-4555-9abc-34773afd6696\",\"type\":\"GlyphRenderer\"}],\"title\":{\"id\":\"e0b3330d-2b7e-4fe2-9da6-3dfdd497b6c9\",\"type\":\"Title\"},\"tool_events\":{\"id\":\"4e28d928-4936-47d0-b923-7150f4983e9a\",\"type\":\"ToolEvents\"},\"toolbar\":{\"id\":\"7196bbc7-673c-4b83-901f-f26885fd7437\",\"type\":\"Toolbar\"},\"x_range\":{\"id\":\"d0048797-072a-46d1-983b-93d30aeaef85\",\"type\":\"DataRange1d\"},\"y_range\":{\"id\":\"2e161b14-8eb6-45f5-9929-db79c9563992\",\"type\":\"DataRange1d\"}},\"id\":\"7f4f95f8-f84e-4148-a7d6-2e42e5bfb8e6\",\"subtype\":\"Figure\",\"type\":\"Plot\"},{\"attributes\":{\"label\":{\"value\":\"Close\"},\"renderers\":[{\"id\":\"ac1bb56e-31af-42a1-8d6a-a4343f2bf41d\",\"type\":\"GlyphRenderer\"}]},\"id\":\"6964246b-41c0-4a29-9018-bcf8b175de73\",\"type\":\"LegendItem\"},{\"attributes\":{\"months\":[0,4,8]},\"id\":\"2f0976d9-aa7f-49b6-8121-521635f97121\",\"type\":\"MonthsTicker\"},{\"attributes\":{\"formatter\":{\"id\":\"78765752-5305-4244-9575-3a89b0f347ad\",\"type\":\"BasicTickFormatter\"},\"plot\":{\"id\":\"bad3fd3b-905f-43ca-81d5-574d2a2ced82\",\"subtype\":\"Figure\",\"type\":\"Plot\"},\"ticker\":{\"id\":\"94c67459-38e5-42e8-ab6b-b32bb170c664\",\"type\":\"BasicTicker\"}},\"id\":\"90f3a26b-0b6a-4900-a236-d7c742da17e0\",\"type\":\"LinearAxis\"},{\"attributes\":{\"label\":{\"value\":\"Close\"},\"renderers\":[{\"id\":\"1f943ce4-e864-4b06-943a-33e65618e8d3\",\"type\":\"GlyphRenderer\"},{\"id\":\"7900cf66-a821-44e7-951c-eee7f930659e\",\"type\":\"GlyphRenderer\"}]},\"id\":\"f78c383f-a33f-4587-8b6f-e389a71b5f7f\",\"type\":\"LegendItem\"},{\"attributes\":{\"dimension\":1,\"plot\":{\"id\":\"7f4f95f8-f84e-4148-a7d6-2e42e5bfb8e6\",\"subtype\":\"Figure\",\"type\":\"Plot\"},\"ticker\":{\"id\":\"e93ccba6-069f-4534-8026-b1f254e3e23f\",\"type\":\"BasicTicker\"}},\"id\":\"431e0d4b-bddb-4674-bfc6-b701506be5b4\",\"type\":\"Grid\"},{\"attributes\":{\"callback\":null,\"column_names\":[\"x\",\"y\"],\"data\":{\"x\":{\"__ndarray__\":\"AAAAGfGjdUIAAMB+Q6R1QgAAgOSVpHVCAADAFY2ldUIAAIB736V1QgAAQOExpnVCAAAAR4SmdUIAAADezad1QgAAwEMgqHVCAACAqXKodUIAAEAPxah1QgAAAHUXqXVCAABApg6qdUIAAAAMYap1QgAAwHGzqnVCAACA1wWrdUIAAEA9WKt1QgAAQNShrHVCAAAAOvSsdUI=\",\"dtype\":\"float64\",\"shape\":[19]},\"y\":{\"__ndarray__\":\"MzMzMzMDdUBmZmZmZgZ1QGZmZmZmEnVAAAAAAADodEAAAAAAAGB0QJqZmZmZrXRAMzMzMzNrdECamZmZmWV0QJqZmZmZnXRAmpmZmZmpdEAzMzMzM/t0QAAAAAAAsHRAmpmZmZnldEAAAAAAAEB1QM3MzMzM8HRAzczMzMxwdEAAAAAAAFB0QDMzMzMzE3VAmpmZmZnhdEA=\",\"dtype\":\"float64\",\"shape\":[19]}}},\"id\":\"66124d38-b967-4c83-a71a-6fff16d3cfed\",\"type\":\"ColumnDataSource\"},{\"attributes\":{\"days\":[1,15]},\"id\":\"946bf6eb-589f-4a99-91b3-e93f18eea708\",\"type\":\"DaysTicker\"},{\"attributes\":{\"months\":[0,4,8]},\"id\":\"6eeefd5d-9978-4a0a-b20e-7437bd32def6\",\"type\":\"MonthsTicker\"},{\"attributes\":{\"days\":[1,4,7,10,13,16,19,22,25,28]},\"id\":\"9ced29f9-369f-460c-a5d5-4d604d7a8dad\",\"type\":\"DaysTicker\"},{\"attributes\":{\"line_alpha\":{\"value\":0.1},\"line_color\":{\"value\":\"#1f77b4\"},\"x\":{\"field\":\"x\"},\"y\":{\"field\":\"y\"}},\"id\":\"2c37cc54-64f1-40a9-bfa4-de1e35204748\",\"type\":\"Line\"},{\"attributes\":{\"base\":24,\"mantissas\":[1,2,4,6,8,12],\"max_interval\":43200000.0,\"min_interval\":3600000.0,\"num_minor_ticks\":0},\"id\":\"45877175-4f87-4796-9289-b991e1c098cf\",\"type\":\"AdaptiveTicker\"},{\"attributes\":{\"months\":[0,1,2,3,4,5,6,7,8,9,10,11]},\"id\":\"02dc0b21-231e-4f30-b80f-029763bebb7c\",\"type\":\"MonthsTicker\"},{\"attributes\":{\"num_minor_ticks\":5},\"id\":\"1983e051-293b-42b9-866d-a07cb6ef892c\",\"type\":\"DatetimeTicker\"},{\"attributes\":{\"callback\":null,\"column_names\":[\"x\",\"y\"],\"data\":{\"x\":{\"__ndarray__\":\"AAAAGfGjdUIAAMB+Q6R1QgAAgOSVpHVCAADAFY2ldUIAAIB736V1QgAAQOExpnVCAAAAR4SmdUIAAADezad1QgAAwEMgqHVCAACAqXKodUIAAEAPxah1QgAAAHUXqXVCAABApg6qdUIAAAAMYap1QgAAwHGzqnVCAACA1wWrdUIAAEA9WKt1QgAAQNShrHVCAAAAOvSsdUI=\",\"dtype\":\"float64\",\"shape\":[19]},\"y\":{\"__ndarray__\":\"mpmZmZlddUAzMzMzMy91QGZmZmZmEnVAZmZmZmbudEAAAAAAAOx0QDMzMzMzv3RAzczMzMykdEAzMzMzM5t0QGZmZmZmnnRAAAAAAADgdEAAAAAAABB1QGZmZmZm/nRAAAAAAAAwdUAzMzMzM0t1QDMzMzMzB3VAmpmZmZlxdEDNzMzMzBR1QAAAAAAASHVAzczMzMz8dEA=\",\"dtype\":\"float64\",\"shape\":[19]}}},\"id\":\"d6d2db31-824a-4fe9-9c93-bf9d0d0c162f\",\"type\":\"ColumnDataSource\"},{\"attributes\":{\"months\":[0,2,4,6,8,10]},\"id\":\"7aaadbe7-d2f0-4274-82dc-b661c9d77239\",\"type\":\"MonthsTicker\"},{\"attributes\":{\"label\":{\"value\":\"High\"},\"renderers\":[{\"id\":\"a68787c9-5067-45ff-80ab-72cb246ffe60\",\"type\":\"GlyphRenderer\"}]},\"id\":\"e83f4c29-7bd2-4843-a2b4-a13d366ce2bc\",\"type\":\"LegendItem\"},{\"attributes\":{\"fill_color\":{\"value\":\"green\"},\"line_color\":{\"value\":\"green\"},\"x\":{\"field\":\"x\"},\"y\":{\"field\":\"y\"}},\"id\":\"3edd990f-954c-4af3-aba3-ad184e49a9a1\",\"type\":\"Circle\"},{\"attributes\":{},\"id\":\"3dd5dd33-6424-4902-ace9-5decc3e2d1f3\",\"type\":\"BasicTickFormatter\"},{\"attributes\":{},\"id\":\"32c8333d-2bbe-4060-ae87-14a3f2801d66\",\"type\":\"DatetimeTickFormatter\"},{\"attributes\":{\"line_color\":{\"value\":\"green\"},\"x\":{\"field\":\"x\"},\"y\":{\"field\":\"y\"}},\"id\":\"ed8badf7-065e-4b0b-a898-5695fdb194b1\",\"type\":\"Line\"},{\"attributes\":{\"line_alpha\":{\"value\":0.1},\"line_color\":{\"value\":\"#1f77b4\"},\"x\":{\"field\":\"x\"},\"y\":{\"field\":\"y\"}},\"id\":\"9c549fb1-0d9e-42a4-b939-69e01e614f26\",\"type\":\"Line\"},{\"attributes\":{\"line_alpha\":{\"value\":0.1},\"line_color\":{\"value\":\"#1f77b4\"},\"x\":{\"field\":\"x\"},\"y\":{\"field\":\"y\"}},\"id\":\"7fc97dbc-bd4a-4e3f-bcb4-971cbf4f3b20\",\"type\":\"Line\"},{\"attributes\":{\"num_minor_ticks\":5},\"id\":\"c77b752d-0dd3-4901-b57c-3e0bc221e818\",\"type\":\"DatetimeTicker\"},{\"attributes\":{\"months\":[0,6]},\"id\":\"76e77ecf-cee9-4b20-96cd-81389de68c1b\",\"type\":\"MonthsTicker\"},{\"attributes\":{\"overlay\":{\"id\":\"4838943d-510c-4432-b724-788dc23b0299\",\"type\":\"BoxAnnotation\"},\"plot\":{\"id\":\"b54d1169-c443-467e-a1b2-8a966f7eb6cb\",\"subtype\":\"Figure\",\"type\":\"Plot\"}},\"id\":\"912203d3-18d0-40ab-a171-01acdd46f83e\",\"type\":\"BoxZoomTool\"},{\"attributes\":{\"data_source\":{\"id\":\"f410a720-db44-4cb8-8cc8-77f3e3d0bf8c\",\"type\":\"ColumnDataSource\"},\"glyph\":{\"id\":\"7bec5080-c671-4de2-97e2-bdac9fb4a4e2\",\"type\":\"Line\"},\"hover_glyph\":null,\"nonselection_glyph\":{\"id\":\"8b218ed2-7b07-4a93-a0f3-6b3c4ae92164\",\"type\":\"Line\"},\"selection_glyph\":null},\"id\":\"ac1bb56e-31af-42a1-8d6a-a4343f2bf41d\",\"type\":\"GlyphRenderer\"},{\"attributes\":{\"days\":[1,2,3,4,5,6,7,8,9,10,11,12,13,14,15,16,17,18,19,20,21,22,23,24,25,26,27,28,29,30,31]},\"id\":\"012e3472-9ece-4e8c-9bc0-6453a2b20391\",\"type\":\"DaysTicker\"},{\"attributes\":{\"days\":[1,2,3,4,5,6,7,8,9,10,11,12,13,14,15,16,17,18,19,20,21,22,23,24,25,26,27,28,29,30,31]},\"id\":\"2f9ea15c-079b-485d-aae3-d708efce5863\",\"type\":\"DaysTicker\"},{\"attributes\":{\"plot\":{\"id\":\"73b1094d-193e-4357-a106-81e11fdf05ca\",\"subtype\":\"Figure\",\"type\":\"Plot\"},\"ticker\":{\"id\":\"1983e051-293b-42b9-866d-a07cb6ef892c\",\"type\":\"DatetimeTicker\"}},\"id\":\"a447dcea-f580-4bb4-b37a-40491722bc4c\",\"type\":\"Grid\"},{\"attributes\":{\"x\":{\"field\":\"x\"},\"y\":{\"field\":\"y\"}},\"id\":\"bcb97c10-8762-495f-87a8-b399269809cd\",\"type\":\"Line\"},{\"attributes\":{\"callback\":null,\"column_names\":[\"y\",\"x\"],\"data\":{\"x\":{\"__ndarray__\":\"AAAAGfGjdUIAAMB+Q6R1QgAAgOSVpHVCAADAFY2ldUIAAIB736V1QgAAQOExpnVCAAAAR4SmdUIAAADezad1QgAAwEMgqHVCAACAqXKodUIAAEAPxah1QgAAAHUXqXVCAABApg6qdUIAAAAMYap1QgAAwHGzqnVCAACA1wWrdUIAAEA9WKt1QgAAQNShrHVCAAAAOvSsdUI=\",\"dtype\":\"float64\",\"shape\":[19]},\"y\":{\"__ndarray__\":\"mpmZmZlddUAzMzMzMy91QGZmZmZmEnVAZmZmZmbudEAAAAAAAOx0QDMzMzMzv3RAzczMzMykdEAzMzMzM5t0QGZmZmZmnnRAAAAAAADgdEAAAAAAABB1QGZmZmZm/nRAAAAAAAAwdUAzMzMzM0t1QDMzMzMzB3VAmpmZmZlxdEDNzMzMzBR1QAAAAAAASHVAzczMzMz8dEA=\",\"dtype\":\"float64\",\"shape\":[19]}}},\"id\":\"1a9990f2-99ac-4060-885d-254c029cab3c\",\"type\":\"ColumnDataSource\"},{\"attributes\":{\"fill_color\":{\"value\":\"black\"},\"x\":{\"field\":\"x\"},\"y\":{\"field\":\"y\"}},\"id\":\"0a8dea50-f209-4eaf-90d9-ce0148db8be8\",\"type\":\"Circle\"},{\"attributes\":{\"bottom_units\":\"screen\",\"fill_alpha\":{\"value\":0.5},\"fill_color\":{\"value\":\"lightgrey\"},\"left_units\":\"screen\",\"level\":\"overlay\",\"line_alpha\":{\"value\":1.0},\"line_color\":{\"value\":\"black\"},\"line_dash\":[4,4],\"line_width\":{\"value\":2},\"plot\":null,\"render_mode\":\"css\",\"right_units\":\"screen\",\"top_units\":\"screen\"},\"id\":\"7827ceb5-fcd8-4e4e-bd48-08f7edbba2e6\",\"type\":\"BoxAnnotation\"},{\"attributes\":{\"line_alpha\":{\"value\":0.1},\"line_color\":{\"value\":\"#1f77b4\"},\"x\":{\"field\":\"x\"},\"y\":{\"field\":\"y\"}},\"id\":\"3a5f4632-13c8-429f-9ef8-7f98c97379f1\",\"type\":\"Line\"},{\"attributes\":{\"callback\":null},\"id\":\"2a2421d6-60f3-4645-a979-30c35aa7ae34\",\"type\":\"DataRange1d\"},{\"attributes\":{},\"id\":\"a7c8a860-a662-4825-946a-6619864dee25\",\"type\":\"ToolEvents\"},{\"attributes\":{\"line_color\":{\"value\":\"orange\"},\"x\":{\"field\":\"x\"},\"y\":{\"field\":\"y\"}},\"id\":\"9bef1d89-6521-4614-96fd-ccd5c6c481ae\",\"type\":\"Line\"},{\"attributes\":{\"active_drag\":\"auto\",\"active_scroll\":\"auto\",\"active_tap\":\"auto\",\"tools\":[{\"id\":\"19349f8a-8a13-41c3-b784-0b9c80edf832\",\"type\":\"PanTool\"},{\"id\":\"b0ad304a-fafe-4a79-9438-b0a264c10d25\",\"type\":\"WheelZoomTool\"},{\"id\":\"bf8c843c-9739-4509-b6e5-aebbda870331\",\"type\":\"BoxZoomTool\"},{\"id\":\"2d2c962e-05ca-48bb-8412-e941748aa9e9\",\"type\":\"SaveTool\"},{\"id\":\"a576ced4-c248-4641-8a48-6fd41806e8a2\",\"type\":\"ResetTool\"},{\"id\":\"be3e3d10-8a3a-469f-a011-c044608c0498\",\"type\":\"HelpTool\"}]},\"id\":\"94f82ca8-3bbb-43af-a00c-3a1e4c8e6ae5\",\"type\":\"Toolbar\"},{\"attributes\":{\"days\":[1,4,7,10,13,16,19,22,25,28]},\"id\":\"21c97340-9aed-48dd-b81a-73555cab933d\",\"type\":\"DaysTicker\"},{\"attributes\":{\"formatter\":{\"id\":\"bbe3ca14-2c59-4298-a9c8-2e3e8f57aed7\",\"type\":\"BasicTickFormatter\"},\"plot\":{\"id\":\"73b1094d-193e-4357-a106-81e11fdf05ca\",\"subtype\":\"Figure\",\"type\":\"Plot\"},\"ticker\":{\"id\":\"e2676251-609c-48de-af73-f38cec918d26\",\"type\":\"BasicTicker\"}},\"id\":\"b162ecfc-6806-4430-95fd-fcd7168f9ed8\",\"type\":\"LinearAxis\"},{\"attributes\":{\"line_alpha\":{\"value\":0.1},\"line_color\":{\"value\":\"#1f77b4\"},\"x\":{\"field\":\"x\"},\"y\":{\"field\":\"y\"}},\"id\":\"2db54c99-ffaf-4289-8b48-f08cbd30fa0b\",\"type\":\"Line\"},{\"attributes\":{\"formatter\":{\"id\":\"aae2388a-e633-4231-a5ed-469a530975d2\",\"type\":\"BasicTickFormatter\"},\"plot\":{\"id\":\"586def4c-f6f5-40dc-b8ac-79b78a650045\",\"subtype\":\"Figure\",\"type\":\"Plot\"},\"ticker\":{\"id\":\"641d3350-2918-4eb8-9193-96b368771f4f\",\"type\":\"BasicTicker\"}},\"id\":\"eafa07d7-db39-413d-9878-bd0960d74200\",\"type\":\"LinearAxis\"},{\"attributes\":{},\"id\":\"b203f82c-0a8c-439f-9221-92714d2d1d3d\",\"type\":\"BasicTickFormatter\"},{\"attributes\":{},\"id\":\"73924211-c352-4a62-b8d3-f72bd58458d4\",\"type\":\"YearsTicker\"},{\"attributes\":{\"plot\":null,\"text\":\"NSE/OIL\"},\"id\":\"bdd4c496-c021-459e-a9b4-5ff1b1d4623f\",\"type\":\"Title\"},{\"attributes\":{\"base\":24,\"mantissas\":[1,2,4,6,8,12],\"max_interval\":43200000.0,\"min_interval\":3600000.0,\"num_minor_ticks\":0},\"id\":\"e86c983d-251d-4ed6-b207-d0275a24b2af\",\"type\":\"AdaptiveTicker\"},{\"attributes\":{\"label\":{\"value\":\"High\"},\"renderers\":[{\"id\":\"fb931d72-b59b-4051-952f-9c735ce8f66b\",\"type\":\"GlyphRenderer\"},{\"id\":\"edfd05bb-fbbc-4ee5-aa91-70057cc7b040\",\"type\":\"GlyphRenderer\"}]},\"id\":\"c897f7fd-c614-4a16-a7e0-e004ec3befc3\",\"type\":\"LegendItem\"},{\"attributes\":{\"plot\":{\"id\":\"73b1094d-193e-4357-a106-81e11fdf05ca\",\"subtype\":\"Figure\",\"type\":\"Plot\"}},\"id\":\"cd768c7b-4bb7-4ddb-a997-46cd4376de52\",\"type\":\"PanTool\"},{\"attributes\":{\"line_alpha\":{\"value\":0.1},\"line_color\":{\"value\":\"#1f77b4\"},\"x\":{\"field\":\"x\"},\"y\":{\"field\":\"y\"}},\"id\":\"523c7200-ab6f-419d-8aaf-4ed640dfb714\",\"type\":\"Line\"},{\"attributes\":{\"x\":{\"field\":\"x\"},\"y\":{\"field\":\"y\"}},\"id\":\"7bec5080-c671-4de2-97e2-bdac9fb4a4e2\",\"type\":\"Line\"},{\"attributes\":{\"plot\":{\"id\":\"bad3fd3b-905f-43ca-81d5-574d2a2ced82\",\"subtype\":\"Figure\",\"type\":\"Plot\"},\"ticker\":{\"id\":\"8da713b0-f59a-4fcb-8dd0-085610bc7f1d\",\"type\":\"DatetimeTicker\"}},\"id\":\"303780e0-e342-4529-81c3-5e46db4b5cd0\",\"type\":\"Grid\"},{\"attributes\":{\"base\":24,\"mantissas\":[1,2,4,6,8,12],\"max_interval\":43200000.0,\"min_interval\":3600000.0,\"num_minor_ticks\":0},\"id\":\"104a101d-caa4-4d10-bc8c-2a6b882e029d\",\"type\":\"AdaptiveTicker\"},{\"attributes\":{\"line_color\":{\"value\":\"green\"},\"x\":{\"field\":\"x\"},\"y\":{\"field\":\"y\"}},\"id\":\"706babf1-9185-4910-8d7c-eb903f76569f\",\"type\":\"Line\"},{\"attributes\":{\"fill_alpha\":{\"value\":0.1},\"fill_color\":{\"value\":\"#1f77b4\"},\"line_alpha\":{\"value\":0.1},\"line_color\":{\"value\":\"#1f77b4\"},\"x\":{\"field\":\"x\"},\"y\":{\"field\":\"y\"}},\"id\":\"2c7c485d-11d7-45f3-bfbb-148c099f8874\",\"type\":\"Circle\"},{\"attributes\":{\"data_source\":{\"id\":\"7b96c95c-221d-46b2-8574-16db0a5c3d81\",\"type\":\"ColumnDataSource\"},\"glyph\":{\"id\":\"967af19d-cb84-476b-8af3-ca4d33f0e440\",\"type\":\"Line\"},\"hover_glyph\":null,\"nonselection_glyph\":{\"id\":\"5b8b1ae2-a68a-4845-b1b8-05adeea62d4c\",\"type\":\"Line\"},\"selection_glyph\":null},\"id\":\"692a2018-e012-4714-9ccc-1b1c42b2354b\",\"type\":\"GlyphRenderer\"},{\"attributes\":{\"days\":[1,8,15,22]},\"id\":\"3e560cdf-16a7-4dd4-b521-0a87ccd20c7b\",\"type\":\"DaysTicker\"},{\"attributes\":{},\"id\":\"417d9d77-cc0b-4551-9d90-00a3f87ccf70\",\"type\":\"ToolEvents\"},{\"attributes\":{\"below\":[{\"id\":\"8e80d4e2-ae90-48b3-bee6-ef0c44654737\",\"type\":\"DatetimeAxis\"}],\"left\":[{\"id\":\"b162ecfc-6806-4430-95fd-fcd7168f9ed8\",\"type\":\"LinearAxis\"}],\"renderers\":[{\"id\":\"8e80d4e2-ae90-48b3-bee6-ef0c44654737\",\"type\":\"DatetimeAxis\"},{\"id\":\"a447dcea-f580-4bb4-b37a-40491722bc4c\",\"type\":\"Grid\"},{\"id\":\"b162ecfc-6806-4430-95fd-fcd7168f9ed8\",\"type\":\"LinearAxis\"},{\"id\":\"e3eee223-9eb5-470b-a6aa-7e4c96bae8cb\",\"type\":\"Grid\"},{\"id\":\"dc16cdfb-14b0-48fe-a02f-5b217582f6e9\",\"type\":\"BoxAnnotation\"},{\"id\":\"545eea60-85fe-4a1a-9735-8782ab6e2012\",\"type\":\"Legend\"},{\"id\":\"ac1bb56e-31af-42a1-8d6a-a4343f2bf41d\",\"type\":\"GlyphRenderer\"},{\"id\":\"d419243e-81c5-4641-afdb-57ad154b9f5c\",\"type\":\"GlyphRenderer\"},{\"id\":\"7370d9c0-81d5-421d-b084-731b9621e888\",\"type\":\"GlyphRenderer\"}],\"title\":{\"id\":\"ea954b92-154f-4a15-b235-6c4c6a924bff\",\"type\":\"Title\"},\"tool_events\":{\"id\":\"adc4bdcc-e24c-467c-9757-f7d7d6e69592\",\"type\":\"ToolEvents\"},\"toolbar\":{\"id\":\"a5bf7212-50a1-41e0-bb6a-709c8eda004d\",\"type\":\"Toolbar\"},\"x_range\":{\"id\":\"2a2421d6-60f3-4645-a979-30c35aa7ae34\",\"type\":\"DataRange1d\"},\"y_range\":{\"id\":\"5a210f0e-83a4-42e4-8406-4b8287543c16\",\"type\":\"DataRange1d\"}},\"id\":\"73b1094d-193e-4357-a106-81e11fdf05ca\",\"subtype\":\"Figure\",\"type\":\"Plot\"},{\"attributes\":{\"dimension\":1,\"plot\":{\"id\":\"9c93c299-356f-49e1-8bd8-d4a523a4e452\",\"subtype\":\"Figure\",\"type\":\"Plot\"},\"ticker\":{\"id\":\"4d3a2171-2959-4353-b1c1-6a3db62c36db\",\"type\":\"BasicTicker\"}},\"id\":\"aa1df976-73dd-45b0-aa0b-735ceff3ff5f\",\"type\":\"Grid\"},{\"attributes\":{\"formatter\":{\"id\":\"f1e5ed99-6180-4c50-90bd-c731d48402cc\",\"type\":\"DatetimeTickFormatter\"},\"plot\":{\"id\":\"9270e32e-4f6b-4c04-94f2-a47286bbb20b\",\"subtype\":\"Figure\",\"type\":\"Plot\"},\"ticker\":{\"id\":\"c9cb73de-ba36-4fe9-b097-efbc7d7b7c74\",\"type\":\"DatetimeTicker\"}},\"id\":\"dce4be9a-b045-4f93-a7b3-2728d6eb4c0f\",\"type\":\"DatetimeAxis\"},{\"attributes\":{\"line_color\":{\"value\":\"green\"},\"x\":{\"field\":\"x\"},\"y\":{\"field\":\"y\"}},\"id\":\"e3e918a8-82d1-4400-ab26-64253542e09f\",\"type\":\"Line\"},{\"attributes\":{\"months\":[0,2,4,6,8,10]},\"id\":\"229848d4-876d-484d-bd29-0c986fd868e1\",\"type\":\"MonthsTicker\"},{\"attributes\":{\"line_alpha\":{\"value\":0.1},\"line_color\":{\"value\":\"#1f77b4\"},\"x\":{\"field\":\"x\"},\"y\":{\"field\":\"y\"}},\"id\":\"2ee8b46a-c2bb-433b-aca4-178bce912694\",\"type\":\"Line\"},{\"attributes\":{\"bottom_units\":\"screen\",\"fill_alpha\":{\"value\":0.5},\"fill_color\":{\"value\":\"lightgrey\"},\"left_units\":\"screen\",\"level\":\"overlay\",\"line_alpha\":{\"value\":1.0},\"line_color\":{\"value\":\"black\"},\"line_dash\":[4,4],\"line_width\":{\"value\":2},\"plot\":null,\"render_mode\":\"css\",\"right_units\":\"screen\",\"top_units\":\"screen\"},\"id\":\"c8c02b61-6da2-4926-86ba-a1ddfd15e060\",\"type\":\"BoxAnnotation\"},{\"attributes\":{},\"id\":\"aae2388a-e633-4231-a5ed-469a530975d2\",\"type\":\"BasicTickFormatter\"},{\"attributes\":{\"plot\":{\"id\":\"edf2e3ec-b7d0-43cd-b41a-ae39aff67a86\",\"subtype\":\"Figure\",\"type\":\"Plot\"}},\"id\":\"8e6b5296-94e7-4f99-9a81-7d0fc36c854a\",\"type\":\"WheelZoomTool\"},{\"attributes\":{\"num_minor_ticks\":5},\"id\":\"251a2074-e979-41e6-b877-cee66560c505\",\"type\":\"DatetimeTicker\"},{\"attributes\":{\"label\":{\"value\":\"Close\"},\"renderers\":[{\"id\":\"6e194f66-4175-4984-b873-3929e9e384d8\",\"type\":\"GlyphRenderer\"}]},\"id\":\"f6a091e6-9efe-465d-8062-d7bdc709cce7\",\"type\":\"LegendItem\"},{\"attributes\":{\"dimension\":1,\"plot\":{\"id\":\"586def4c-f6f5-40dc-b8ac-79b78a650045\",\"subtype\":\"Figure\",\"type\":\"Plot\"},\"ticker\":{\"id\":\"641d3350-2918-4eb8-9193-96b368771f4f\",\"type\":\"BasicTicker\"}},\"id\":\"3995f3a7-26b0-4ca4-b1ea-8f9b6f950798\",\"type\":\"Grid\"},{\"attributes\":{\"below\":[{\"id\":\"dce4be9a-b045-4f93-a7b3-2728d6eb4c0f\",\"type\":\"DatetimeAxis\"}],\"left\":[{\"id\":\"1c86d250-692d-48e8-8d4c-571d249bf8b2\",\"type\":\"LinearAxis\"}],\"renderers\":[{\"id\":\"dce4be9a-b045-4f93-a7b3-2728d6eb4c0f\",\"type\":\"DatetimeAxis\"},{\"id\":\"466710c5-649a-437e-86a9-dd600ef07f8b\",\"type\":\"Grid\"},{\"id\":\"1c86d250-692d-48e8-8d4c-571d249bf8b2\",\"type\":\"LinearAxis\"},{\"id\":\"a223a486-23d9-433e-b85a-e86762253928\",\"type\":\"Grid\"},{\"id\":\"25a85844-637f-4ed3-8653-32b60e12da98\",\"type\":\"BoxAnnotation\"},{\"id\":\"cc028876-0cfc-43eb-a09d-4b7994507494\",\"type\":\"Legend\"},{\"id\":\"75c65025-b160-4e7d-9a5e-bf2573c53ede\",\"type\":\"GlyphRenderer\"},{\"id\":\"71cb7588-8346-41bc-b6c8-4780db8d5bcf\",\"type\":\"GlyphRenderer\"},{\"id\":\"a68787c9-5067-45ff-80ab-72cb246ffe60\",\"type\":\"GlyphRenderer\"}],\"title\":{\"id\":\"3b2f3eff-494b-4c8a-b6a6-0a114bc5bdf7\",\"type\":\"Title\"},\"tool_events\":{\"id\":\"417d9d77-cc0b-4551-9d90-00a3f87ccf70\",\"type\":\"ToolEvents\"},\"toolbar\":{\"id\":\"94f82ca8-3bbb-43af-a00c-3a1e4c8e6ae5\",\"type\":\"Toolbar\"},\"x_range\":{\"id\":\"7f5da38a-5896-439e-b513-4ee0d7fd0951\",\"type\":\"DataRange1d\"},\"y_range\":{\"id\":\"f5e388d9-1857-4108-b32b-f8da53fff685\",\"type\":\"DataRange1d\"}},\"id\":\"9270e32e-4f6b-4c04-94f2-a47286bbb20b\",\"subtype\":\"Figure\",\"type\":\"Plot\"},{\"attributes\":{\"months\":[0,6]},\"id\":\"3949da3b-94da-4d7e-994b-7a6a0636e269\",\"type\":\"MonthsTicker\"},{\"attributes\":{\"num_minor_ticks\":5},\"id\":\"e9067721-f1c2-46f0-ae21-b62e3ca96360\",\"type\":\"DatetimeTicker\"},{\"attributes\":{\"dimension\":1,\"plot\":{\"id\":\"73b1094d-193e-4357-a106-81e11fdf05ca\",\"subtype\":\"Figure\",\"type\":\"Plot\"},\"ticker\":{\"id\":\"e2676251-609c-48de-af73-f38cec918d26\",\"type\":\"BasicTicker\"}},\"id\":\"e3eee223-9eb5-470b-a6aa-7e4c96bae8cb\",\"type\":\"Grid\"},{\"attributes\":{\"active_drag\":\"auto\",\"active_scroll\":\"auto\",\"active_tap\":\"auto\",\"tools\":[{\"id\":\"cd768c7b-4bb7-4ddb-a997-46cd4376de52\",\"type\":\"PanTool\"},{\"id\":\"e5158bc5-14ff-4785-bf1d-960fb395bee4\",\"type\":\"WheelZoomTool\"},{\"id\":\"c823cbac-f293-454d-b741-ab1fd9f2bcf3\",\"type\":\"BoxZoomTool\"},{\"id\":\"4e51396a-8eca-4af0-9f7f-debc8b3faf64\",\"type\":\"SaveTool\"},{\"id\":\"b84f90f0-a42b-4973-afa4-80d1d6b37563\",\"type\":\"ResetTool\"},{\"id\":\"cd34cd01-2d9a-4809-afb4-90abdb6a9aba\",\"type\":\"HelpTool\"}]},\"id\":\"a5bf7212-50a1-41e0-bb6a-709c8eda004d\",\"type\":\"Toolbar\"},{\"attributes\":{\"months\":[0,2,4,6,8,10]},\"id\":\"ef2f2eda-0d4a-49ae-8277-55c73744c275\",\"type\":\"MonthsTicker\"},{\"attributes\":{\"months\":[0,4,8]},\"id\":\"31fdf502-ff3f-4935-8490-ccfcf0a0f526\",\"type\":\"MonthsTicker\"},{\"attributes\":{\"plot\":{\"id\":\"b54d1169-c443-467e-a1b2-8a966f7eb6cb\",\"subtype\":\"Figure\",\"type\":\"Plot\"},\"ticker\":{\"id\":\"68b68469-6888-448e-a1ee-c2156bb007d9\",\"type\":\"BasicTicker\"}},\"id\":\"7a4e7474-fd73-4cf3-b11f-a46d749cb102\",\"type\":\"Grid\"},{\"attributes\":{\"plot\":{\"id\":\"edf2e3ec-b7d0-43cd-b41a-ae39aff67a86\",\"subtype\":\"Figure\",\"type\":\"Plot\"}},\"id\":\"82d00449-d11f-4b21-8c72-3e83e70b936f\",\"type\":\"HelpTool\"},{\"attributes\":{\"base\":60,\"mantissas\":[1,2,5,10,15,20,30],\"max_interval\":1800000.0,\"min_interval\":1000.0,\"num_minor_ticks\":0},\"id\":\"d4edcc71-f72e-4205-b76b-9b585a9d44fc\",\"type\":\"AdaptiveTicker\"},{\"attributes\":{\"callback\":null,\"column_names\":[\"x\",\"y\"],\"data\":{\"x\":{\"__ndarray__\":\"AAAAGfGjdUIAAMB+Q6R1QgAAgOSVpHVCAADAFY2ldUIAAIB736V1QgAAQOExpnVCAAAAR4SmdUIAAADezad1QgAAwEMgqHVCAACAqXKodUIAAEAPxah1QgAAAHUXqXVCAABApg6qdUIAAAAMYap1QgAAwHGzqnVCAACA1wWrdUIAAEA9WKt1QgAAQNShrHVCAAAAOvSsdUI=\",\"dtype\":\"float64\",\"shape\":[19]},\"y\":{\"__ndarray__\":\"mpmZmZlddUAzMzMzMy91QGZmZmZmEnVAZmZmZmbudEAAAAAAAOx0QDMzMzMzv3RAzczMzMykdEAzMzMzM5t0QGZmZmZmnnRAAAAAAADgdEAAAAAAABB1QGZmZmZm/nRAAAAAAAAwdUAzMzMzM0t1QDMzMzMzB3VAmpmZmZlxdEDNzMzMzBR1QAAAAAAASHVAzczMzMz8dEA=\",\"dtype\":\"float64\",\"shape\":[19]}}},\"id\":\"4157f6cb-192e-4bd1-adbf-87b9f7d98052\",\"type\":\"ColumnDataSource\"},{\"attributes\":{\"line_alpha\":{\"value\":0.1},\"line_color\":{\"value\":\"#1f77b4\"},\"x\":{\"field\":\"x\"},\"y\":{\"field\":\"y\"}},\"id\":\"52ab7ab9-2ab0-4d15-89d5-17a352bb0a81\",\"type\":\"Line\"},{\"attributes\":{\"num_minor_ticks\":5},\"id\":\"8da713b0-f59a-4fcb-8dd0-085610bc7f1d\",\"type\":\"DatetimeTicker\"},{\"attributes\":{\"data_source\":{\"id\":\"66124d38-b967-4c83-a71a-6fff16d3cfed\",\"type\":\"ColumnDataSource\"},\"glyph\":{\"id\":\"24d3fb9d-c9eb-4780-9ebe-1288747a4911\",\"type\":\"Circle\"},\"hover_glyph\":null,\"nonselection_glyph\":{\"id\":\"a56a1096-9fb2-4301-af71-c5a81ef012e3\",\"type\":\"Circle\"},\"selection_glyph\":null},\"id\":\"83b1e5d5-9112-4372-81a7-15a99ac4286a\",\"type\":\"GlyphRenderer\"},{\"attributes\":{\"base\":60,\"mantissas\":[1,2,5,10,15,20,30],\"max_interval\":1800000.0,\"min_interval\":1000.0,\"num_minor_ticks\":0},\"id\":\"b84dcd42-67e0-462c-b35a-c6ef7644e6f6\",\"type\":\"AdaptiveTicker\"},{\"attributes\":{\"fill_alpha\":{\"value\":0.1},\"fill_color\":{\"value\":\"#1f77b4\"},\"line_alpha\":{\"value\":0.1},\"line_color\":{\"value\":\"#1f77b4\"},\"x\":{\"field\":\"x\"},\"y\":{\"field\":\"y\"}},\"id\":\"082796ca-a60d-4915-acea-ec88c4511dd4\",\"type\":\"Circle\"},{\"attributes\":{\"days\":[1,4,7,10,13,16,19,22,25,28]},\"id\":\"28cda293-266d-4d74-a5f8-661c602987a9\",\"type\":\"DaysTicker\"},{\"attributes\":{\"days\":[1,2,3,4,5,6,7,8,9,10,11,12,13,14,15,16,17,18,19,20,21,22,23,24,25,26,27,28,29,30,31]},\"id\":\"4ccbf4c5-4163-4495-9d52-5f98a9620569\",\"type\":\"DaysTicker\"},{\"attributes\":{\"days\":[1,8,15,22]},\"id\":\"4b941064-e330-4209-ac75-e26a5c9c5108\",\"type\":\"DaysTicker\"},{\"attributes\":{\"plot\":{\"id\":\"7f4f95f8-f84e-4148-a7d6-2e42e5bfb8e6\",\"subtype\":\"Figure\",\"type\":\"Plot\"},\"ticker\":{\"id\":\"df72a1bf-5bb1-4c95-b2b1-9d2749e9bce4\",\"type\":\"DatetimeTicker\"}},\"id\":\"e35949ff-91d4-427d-9a66-72105fbde335\",\"type\":\"Grid\"},{\"attributes\":{\"days\":[1,8,15,22]},\"id\":\"8e9ae0f2-b42f-4091-aaae-8eca24351cec\",\"type\":\"DaysTicker\"},{\"attributes\":{\"dimension\":1,\"plot\":{\"id\":\"69164c54-c2ef-436c-a3f0-a88b1ad80fbb\",\"subtype\":\"Figure\",\"type\":\"Plot\"},\"ticker\":{\"id\":\"7af07ae9-5207-4651-a620-3d81559ef4fb\",\"type\":\"BasicTicker\"}},\"id\":\"5478ff47-ed8f-4d1c-8245-c598a2184044\",\"type\":\"Grid\"},{\"attributes\":{\"dimension\":1,\"plot\":{\"id\":\"bad3fd3b-905f-43ca-81d5-574d2a2ced82\",\"subtype\":\"Figure\",\"type\":\"Plot\"},\"ticker\":{\"id\":\"94c67459-38e5-42e8-ab6b-b32bb170c664\",\"type\":\"BasicTicker\"}},\"id\":\"5b85b86c-a15d-45d3-b0aa-6e7917ee38ab\",\"type\":\"Grid\"},{\"attributes\":{\"callback\":null},\"id\":\"4399e242-7833-444b-a957-eca3fe6f4c88\",\"type\":\"DataRange1d\"},{\"attributes\":{\"plot\":null,\"text\":\"NSE/OIL\"},\"id\":\"3b2f3eff-494b-4c8a-b6a6-0a114bc5bdf7\",\"type\":\"Title\"},{\"attributes\":{\"months\":[0,2,4,6,8,10]},\"id\":\"8587acf7-30e7-4551-a910-e79dcc35417f\",\"type\":\"MonthsTicker\"},{\"attributes\":{\"below\":[{\"id\":\"94efa1ee-a40c-4a4d-9e04-1bc39486df03\",\"type\":\"DatetimeAxis\"}],\"left\":[{\"id\":\"6d756904-5bde-463b-b4c7-208a41a970dd\",\"type\":\"LinearAxis\"}],\"renderers\":[{\"id\":\"94efa1ee-a40c-4a4d-9e04-1bc39486df03\",\"type\":\"DatetimeAxis\"},{\"id\":\"95c9cd8b-1f76-4c2c-a0e1-4823ac5f1e92\",\"type\":\"Grid\"},{\"id\":\"6d756904-5bde-463b-b4c7-208a41a970dd\",\"type\":\"LinearAxis\"},{\"id\":\"5478ff47-ed8f-4d1c-8245-c598a2184044\",\"type\":\"Grid\"},{\"id\":\"c8c02b61-6da2-4926-86ba-a1ddfd15e060\",\"type\":\"BoxAnnotation\"},{\"id\":\"d41b7d62-34bc-4d67-9c4e-dd896e6b5c8f\",\"type\":\"Legend\"},{\"id\":\"77daf937-d237-4120-a673-8f2c12459748\",\"type\":\"GlyphRenderer\"},{\"id\":\"cf0e7100-fa7b-4291-a035-857dcba3f56d\",\"type\":\"GlyphRenderer\"},{\"id\":\"e485dc32-5112-47a6-8a60-2251e1d64fe3\",\"type\":\"GlyphRenderer\"},{\"id\":\"83b1e5d5-9112-4372-81a7-15a99ac4286a\",\"type\":\"GlyphRenderer\"},{\"id\":\"692a2018-e012-4714-9ccc-1b1c42b2354b\",\"type\":\"GlyphRenderer\"},{\"id\":\"51ced560-fe7a-4826-a2b9-27e15b342667\",\"type\":\"GlyphRenderer\"}],\"title\":{\"id\":\"c83e1c5e-2c4d-4e22-8c23-cbcad81bcf8d\",\"type\":\"Title\"},\"tool_events\":{\"id\":\"20be4ca3-b003-496f-a05e-6842be47ccf5\",\"type\":\"ToolEvents\"},\"toolbar\":{\"id\":\"63f39c04-65a1-435c-bfd1-d52e2a75833a\",\"type\":\"Toolbar\"},\"x_range\":{\"id\":\"0b15fed2-a47c-4a22-84d7-18d058fe655b\",\"type\":\"DataRange1d\"},\"y_range\":{\"id\":\"09c46482-6c33-4ecc-8d12-bdf4963ee327\",\"type\":\"DataRange1d\"}},\"id\":\"69164c54-c2ef-436c-a3f0-a88b1ad80fbb\",\"subtype\":\"Figure\",\"type\":\"Plot\"},{\"attributes\":{\"formatter\":{\"id\":\"1b2b5170-ff8d-4f73-bed4-7a11e14cb060\",\"type\":\"DatetimeTickFormatter\"},\"plot\":{\"id\":\"edf2e3ec-b7d0-43cd-b41a-ae39aff67a86\",\"subtype\":\"Figure\",\"type\":\"Plot\"},\"ticker\":{\"id\":\"912b61dc-1e8f-4d0c-acdd-5c5bd7d57555\",\"type\":\"DatetimeTicker\"}},\"id\":\"1d58aa14-d2b0-4356-8e80-8148e9b8ccab\",\"type\":\"DatetimeAxis\"},{\"attributes\":{\"data_source\":{\"id\":\"19948118-5781-479f-a08c-57237be281e6\",\"type\":\"ColumnDataSource\"},\"glyph\":{\"id\":\"1c4c5a17-4789-49c2-8d24-0e6917baf354\",\"type\":\"Circle\"},\"hover_glyph\":null,\"nonselection_glyph\":{\"id\":\"30fe36b9-5dcf-4f29-8f2d-4be968ab962d\",\"type\":\"Circle\"},\"selection_glyph\":null},\"id\":\"3a400a78-e902-4c6b-b032-fa2fd3d2495a\",\"type\":\"GlyphRenderer\"},{\"attributes\":{\"overlay\":{\"id\":\"c8c02b61-6da2-4926-86ba-a1ddfd15e060\",\"type\":\"BoxAnnotation\"},\"plot\":{\"id\":\"69164c54-c2ef-436c-a3f0-a88b1ad80fbb\",\"subtype\":\"Figure\",\"type\":\"Plot\"}},\"id\":\"2d549333-4d12-4d7e-bb4b-3a19956f885f\",\"type\":\"BoxZoomTool\"},{\"attributes\":{},\"id\":\"f83747f2-90d2-4ef0-acf2-e8c90c8f804e\",\"type\":\"DatetimeTickFormatter\"},{\"attributes\":{\"months\":[0,2,4,6,8,10]},\"id\":\"b9e86c12-a0c1-44b8-9f68-9274d518f2c8\",\"type\":\"MonthsTicker\"},{\"attributes\":{\"days\":[1,2,3,4,5,6,7,8,9,10,11,12,13,14,15,16,17,18,19,20,21,22,23,24,25,26,27,28,29,30,31]},\"id\":\"57345107-36ca-4490-a67f-32d4de6da04a\",\"type\":\"DaysTicker\"},{\"attributes\":{\"formatter\":{\"id\":\"ba0f65f6-6ce0-4ba1-9452-50ffd85d8b4f\",\"type\":\"BasicTickFormatter\"},\"plot\":{\"id\":\"9270e32e-4f6b-4c04-94f2-a47286bbb20b\",\"subtype\":\"Figure\",\"type\":\"Plot\"},\"ticker\":{\"id\":\"624ea5d7-7f78-4d03-acaf-fd94ac34b238\",\"type\":\"BasicTicker\"}},\"id\":\"1c86d250-692d-48e8-8d4c-571d249bf8b2\",\"type\":\"LinearAxis\"},{\"attributes\":{\"formatter\":{\"id\":\"1e977440-f494-4321-99d9-d151d7430575\",\"type\":\"DatetimeTickFormatter\"},\"plot\":{\"id\":\"9c93c299-356f-49e1-8bd8-d4a523a4e452\",\"subtype\":\"Figure\",\"type\":\"Plot\"},\"ticker\":{\"id\":\"c77b752d-0dd3-4901-b57c-3e0bc221e818\",\"type\":\"DatetimeTicker\"}},\"id\":\"a070c5e8-3306-4a07-9ac6-6362d6af3ad7\",\"type\":\"DatetimeAxis\"},{\"attributes\":{\"callback\":null,\"column_names\":[\"x\",\"y\"],\"data\":{\"x\":{\"__ndarray__\":\"AAAAGfGjdUIAAMB+Q6R1QgAAgOSVpHVCAADAFY2ldUIAAIB736V1QgAAQOExpnVCAAAAR4SmdUIAAADezad1QgAAwEMgqHVCAACAqXKodUIAAEAPxah1QgAAAHUXqXVCAABApg6qdUIAAAAMYap1QgAAwHGzqnVCAACA1wWrdUIAAEA9WKt1QgAAQNShrHVCAAAAOvSsdUI=\",\"dtype\":\"float64\",\"shape\":[19]},\"y\":{\"__ndarray__\":\"mpmZmZkFdUBmZmZmZup0QGZmZmZm1nRAZmZmZmZydEDNzMzMzIB0QAAAAAAAaHRAZmZmZmZudEAzMzMzM4N0QJqZmZmZcXRAZmZmZmbSdEAzMzMzM690QGZmZmZm2nRAmpmZmZkldUDNzMzMzPB0QM3MzMzMcHRAmpmZmZlBdEBmZmZmZuZ0QDMzMzMz83RAmpmZmZnJdEA=\",\"dtype\":\"float64\",\"shape\":[19]}}},\"id\":\"cb43ae16-c300-49d5-a31b-7b9e19c01d5b\",\"type\":\"ColumnDataSource\"},{\"attributes\":{\"months\":[0,4,8]},\"id\":\"02d2c4f3-b8b1-4de5-81a9-9a91a33cd8da\",\"type\":\"MonthsTicker\"},{\"attributes\":{\"formatter\":{\"id\":\"a6d88794-68df-40c6-912f-363cb9688fda\",\"type\":\"BasicTickFormatter\"},\"plot\":{\"id\":\"69164c54-c2ef-436c-a3f0-a88b1ad80fbb\",\"subtype\":\"Figure\",\"type\":\"Plot\"},\"ticker\":{\"id\":\"7af07ae9-5207-4651-a620-3d81559ef4fb\",\"type\":\"BasicTicker\"}},\"id\":\"6d756904-5bde-463b-b4c7-208a41a970dd\",\"type\":\"LinearAxis\"},{\"attributes\":{\"months\":[0,4,8]},\"id\":\"5e00b044-f7c5-42ac-9cf6-c7f6c512ccbd\",\"type\":\"MonthsTicker\"},{\"attributes\":{},\"id\":\"68b68469-6888-448e-a1ee-c2156bb007d9\",\"type\":\"BasicTicker\"},{\"attributes\":{\"x\":{\"field\":\"x\"},\"y\":{\"field\":\"y\"}},\"id\":\"1f97bff5-028d-4e62-991b-9b526c2580e3\",\"type\":\"Line\"},{\"attributes\":{\"max_interval\":500.0,\"num_minor_ticks\":0},\"id\":\"6efaa1c3-cd0b-45dd-848d-5357685b0c0d\",\"type\":\"AdaptiveTicker\"},{\"attributes\":{\"callback\":null},\"id\":\"50600658-944f-4a5d-b0d8-d086cdc8f118\",\"type\":\"DataRange1d\"},{\"attributes\":{},\"id\":\"94c67459-38e5-42e8-ab6b-b32bb170c664\",\"type\":\"BasicTicker\"},{\"attributes\":{\"line_color\":{\"value\":\"orange\"},\"x\":{\"field\":\"x\"},\"y\":{\"field\":\"y\"}},\"id\":\"0207f5ca-23dd-4a43-9a01-05aec8240b34\",\"type\":\"Line\"},{\"attributes\":{\"formatter\":{\"id\":\"99385749-47c8-4d6d-a85c-43ca9cc54c1e\",\"type\":\"DatetimeTickFormatter\"},\"plot\":{\"id\":\"586def4c-f6f5-40dc-b8ac-79b78a650045\",\"subtype\":\"Figure\",\"type\":\"Plot\"},\"ticker\":{\"id\":\"251a2074-e979-41e6-b877-cee66560c505\",\"type\":\"DatetimeTicker\"}},\"id\":\"3fef1e2a-f254-445b-a8f7-8f09a7b597fc\",\"type\":\"DatetimeAxis\"},{\"attributes\":{\"items\":[{\"id\":\"f78c383f-a33f-4587-8b6f-e389a71b5f7f\",\"type\":\"LegendItem\"},{\"id\":\"9b9ebe6c-a126-45d2-a590-2ffe8464a256\",\"type\":\"LegendItem\"},{\"id\":\"c897f7fd-c614-4a16-a7e0-e004ec3befc3\",\"type\":\"LegendItem\"}],\"plot\":{\"id\":\"586def4c-f6f5-40dc-b8ac-79b78a650045\",\"subtype\":\"Figure\",\"type\":\"Plot\"}},\"id\":\"35cd22f0-257b-4288-b82e-23e3dfdec534\",\"type\":\"Legend\"},{\"attributes\":{\"max_interval\":500.0,\"num_minor_ticks\":0},\"id\":\"7352de6f-83b9-45d9-a859-b80b18d0ab0b\",\"type\":\"AdaptiveTicker\"},{\"attributes\":{\"plot\":{\"id\":\"73b1094d-193e-4357-a106-81e11fdf05ca\",\"subtype\":\"Figure\",\"type\":\"Plot\"}},\"id\":\"cd34cd01-2d9a-4809-afb4-90abdb6a9aba\",\"type\":\"HelpTool\"},{\"attributes\":{\"fill_alpha\":{\"value\":0.1},\"fill_color\":{\"value\":\"#1f77b4\"},\"line_alpha\":{\"value\":0.1},\"line_color\":{\"value\":\"#1f77b4\"},\"x\":{\"field\":\"x\"},\"y\":{\"field\":\"y\"}},\"id\":\"3a305084-a7f2-4b1b-8178-f6e032475b93\",\"type\":\"Circle\"},{\"attributes\":{\"days\":[1,8,15,22]},\"id\":\"ce5641e6-1342-4554-8e63-a72c8b2367a9\",\"type\":\"DaysTicker\"},{\"attributes\":{\"callback\":null,\"column_names\":[\"x\",\"y\"],\"data\":{\"x\":{\"__ndarray__\":\"AAAAGfGjdUIAAMB+Q6R1QgAAgOSVpHVCAADAFY2ldUIAAIB736V1QgAAQOExpnVCAAAAR4SmdUIAAADezad1QgAAwEMgqHVCAACAqXKodUIAAEAPxah1QgAAAHUXqXVCAABApg6qdUIAAAAMYap1QgAAwHGzqnVCAACA1wWrdUIAAEA9WKt1QgAAQNShrHVCAAAAOvSsdUI=\",\"dtype\":\"float64\",\"shape\":[19]},\"y\":{\"__ndarray__\":\"mpmZmZlddUAzMzMzMy91QGZmZmZmEnVAZmZmZmbudEAAAAAAAOx0QDMzMzMzv3RAzczMzMykdEAzMzMzM5t0QGZmZmZmnnRAAAAAAADgdEAAAAAAABB1QGZmZmZm/nRAAAAAAAAwdUAzMzMzM0t1QDMzMzMzB3VAmpmZmZlxdEDNzMzMzBR1QAAAAAAASHVAzczMzMz8dEA=\",\"dtype\":\"float64\",\"shape\":[19]}}},\"id\":\"a57da687-66e2-4a46-8a40-2b24ab6ba4e8\",\"type\":\"ColumnDataSource\"},{\"attributes\":{\"active_drag\":\"auto\",\"active_scroll\":\"auto\",\"active_tap\":\"auto\",\"tools\":[{\"id\":\"ec65df8a-cc50-4dc6-9522-1a27f6fa135a\",\"type\":\"PanTool\"},{\"id\":\"12d429fb-a0e9-450a-9e4d-c9e15c5ee879\",\"type\":\"WheelZoomTool\"},{\"id\":\"912203d3-18d0-40ab-a171-01acdd46f83e\",\"type\":\"BoxZoomTool\"},{\"id\":\"6286159a-eebd-45bd-b132-47b7a2a3d303\",\"type\":\"SaveTool\"},{\"id\":\"b90ebbb0-1f5d-41ec-a78d-4d300ca2befb\",\"type\":\"ResetTool\"},{\"id\":\"2bb3977b-5774-4853-90c0-912eb9964506\",\"type\":\"HelpTool\"}]},\"id\":\"7c69bab5-962a-4655-9caf-d8f873b388d1\",\"type\":\"Toolbar\"},{\"attributes\":{\"overlay\":{\"id\":\"7a464894-879e-4c0f-ac76-cc988b984c9e\",\"type\":\"BoxAnnotation\"},\"plot\":{\"id\":\"586def4c-f6f5-40dc-b8ac-79b78a650045\",\"subtype\":\"Figure\",\"type\":\"Plot\"}},\"id\":\"495f71f8-d532-4da2-b73a-3ace96bfd42c\",\"type\":\"BoxZoomTool\"},{\"attributes\":{\"plot\":{\"id\":\"9270e32e-4f6b-4c04-94f2-a47286bbb20b\",\"subtype\":\"Figure\",\"type\":\"Plot\"}},\"id\":\"19349f8a-8a13-41c3-b784-0b9c80edf832\",\"type\":\"PanTool\"},{\"attributes\":{},\"id\":\"624ea5d7-7f78-4d03-acaf-fd94ac34b238\",\"type\":\"BasicTicker\"},{\"attributes\":{\"line_color\":{\"value\":\"green\"},\"x\":{\"field\":\"x\"},\"y\":{\"field\":\"y\"}},\"id\":\"967af19d-cb84-476b-8af3-ca4d33f0e440\",\"type\":\"Line\"},{\"attributes\":{\"days\":[1,4,7,10,13,16,19,22,25,28]},\"id\":\"5197408d-bfd3-42fa-9fab-b87d25405b4b\",\"type\":\"DaysTicker\"},{\"attributes\":{},\"id\":\"cfbf5aec-7dfd-43e2-9c67-d46464ac280d\",\"type\":\"ToolEvents\"},{\"attributes\":{\"plot\":{\"id\":\"69164c54-c2ef-436c-a3f0-a88b1ad80fbb\",\"subtype\":\"Figure\",\"type\":\"Plot\"}},\"id\":\"3a0e8d45-5dc2-4fda-87fb-1e3491d46a4a\",\"type\":\"ResetTool\"},{\"attributes\":{\"formatter\":{\"id\":\"b203f82c-0a8c-439f-9221-92714d2d1d3d\",\"type\":\"BasicTickFormatter\"},\"plot\":{\"id\":\"7f4f95f8-f84e-4148-a7d6-2e42e5bfb8e6\",\"subtype\":\"Figure\",\"type\":\"Plot\"},\"ticker\":{\"id\":\"e93ccba6-069f-4534-8026-b1f254e3e23f\",\"type\":\"BasicTicker\"}},\"id\":\"974c900b-7861-4ebf-a495-4135f46463c9\",\"type\":\"LinearAxis\"},{\"attributes\":{\"max_interval\":500.0,\"num_minor_ticks\":0},\"id\":\"49116fce-db14-4b79-8f35-8dcaf10ffaf3\",\"type\":\"AdaptiveTicker\"},{\"attributes\":{\"months\":[0,1,2,3,4,5,6,7,8,9,10,11]},\"id\":\"0120f9d4-051f-4af1-8870-642b9059605a\",\"type\":\"MonthsTicker\"},{\"attributes\":{\"data_source\":{\"id\":\"a57da687-66e2-4a46-8a40-2b24ab6ba4e8\",\"type\":\"ColumnDataSource\"},\"glyph\":{\"id\":\"c73edd72-34c2-44fe-9d01-16b475e224d4\",\"type\":\"Circle\"},\"hover_glyph\":null,\"nonselection_glyph\":{\"id\":\"082796ca-a60d-4915-acea-ec88c4511dd4\",\"type\":\"Circle\"},\"selection_glyph\":null},\"id\":\"51ced560-fe7a-4826-a2b9-27e15b342667\",\"type\":\"GlyphRenderer\"},{\"attributes\":{\"plot\":{\"id\":\"bad3fd3b-905f-43ca-81d5-574d2a2ced82\",\"subtype\":\"Figure\",\"type\":\"Plot\"}},\"id\":\"23e9d502-349c-4234-979c-f099349f8c9f\",\"type\":\"PanTool\"},{\"attributes\":{\"plot\":{\"id\":\"7f4f95f8-f84e-4148-a7d6-2e42e5bfb8e6\",\"subtype\":\"Figure\",\"type\":\"Plot\"}},\"id\":\"3698bacd-3386-4547-8485-3a1edaf9d9e8\",\"type\":\"WheelZoomTool\"},{\"attributes\":{},\"id\":\"7da9e211-8059-4d67-a287-daccd3fdd618\",\"type\":\"BasicTicker\"},{\"attributes\":{},\"id\":\"8b86b68c-cd1c-4f48-9a00-6dc098411af2\",\"type\":\"YearsTicker\"},{\"attributes\":{\"plot\":{\"id\":\"bad3fd3b-905f-43ca-81d5-574d2a2ced82\",\"subtype\":\"Figure\",\"type\":\"Plot\"}},\"id\":\"d8d2bf48-62b0-43a0-a911-f9dcb99ed53d\",\"type\":\"SaveTool\"},{\"attributes\":{\"line_alpha\":{\"value\":0.1},\"line_color\":{\"value\":\"#1f77b4\"},\"x\":{\"field\":\"x\"},\"y\":{\"field\":\"y\"}},\"id\":\"5b8b1ae2-a68a-4845-b1b8-05adeea62d4c\",\"type\":\"Line\"},{\"attributes\":{\"days\":[1,15]},\"id\":\"9ea00a69-f832-40ec-ac68-3171772a72da\",\"type\":\"DaysTicker\"},{\"attributes\":{},\"id\":\"78765752-5305-4244-9575-3a89b0f347ad\",\"type\":\"BasicTickFormatter\"},{\"attributes\":{\"data_source\":{\"id\":\"b0d03da1-e949-4ab8-8f2e-5c19aba484bb\",\"type\":\"ColumnDataSource\"},\"glyph\":{\"id\":\"fe6b807c-ed14-4eec-b5c5-c50c63d3fd57\",\"type\":\"Line\"},\"hover_glyph\":null,\"nonselection_glyph\":{\"id\":\"7fc97dbc-bd4a-4e3f-bcb4-971cbf4f3b20\",\"type\":\"Line\"},\"selection_glyph\":null},\"id\":\"6e194f66-4175-4984-b873-3929e9e384d8\",\"type\":\"GlyphRenderer\"},{\"attributes\":{\"plot\":{\"id\":\"b54d1169-c443-467e-a1b2-8a966f7eb6cb\",\"subtype\":\"Figure\",\"type\":\"Plot\"}},\"id\":\"12d429fb-a0e9-450a-9e4d-c9e15c5ee879\",\"type\":\"WheelZoomTool\"},{\"attributes\":{\"days\":[1,15]},\"id\":\"4b83af61-7ddf-4cfa-bf99-477deb3310d4\",\"type\":\"DaysTicker\"},{\"attributes\":{},\"id\":\"7af07ae9-5207-4651-a620-3d81559ef4fb\",\"type\":\"BasicTicker\"},{\"attributes\":{\"x\":{\"field\":\"x\"},\"y\":{\"field\":\"y\"}},\"id\":\"fe6b807c-ed14-4eec-b5c5-c50c63d3fd57\",\"type\":\"Line\"},{\"attributes\":{\"active_drag\":\"auto\",\"active_scroll\":\"auto\",\"active_tap\":\"auto\",\"tools\":[{\"id\":\"23e9d502-349c-4234-979c-f099349f8c9f\",\"type\":\"PanTool\"},{\"id\":\"de514e67-888c-4156-8ca0-bfb20e79be56\",\"type\":\"WheelZoomTool\"},{\"id\":\"3c1e1d45-0250-46c3-b969-2f6518004478\",\"type\":\"BoxZoomTool\"},{\"id\":\"d8d2bf48-62b0-43a0-a911-f9dcb99ed53d\",\"type\":\"SaveTool\"},{\"id\":\"10141e48-7e65-41ba-8565-d4c3f4cb0a03\",\"type\":\"ResetTool\"},{\"id\":\"48e275d1-4066-49a7-aed3-dbc95ffd6c0d\",\"type\":\"HelpTool\"}]},\"id\":\"d818a301-544f-4e33-92b5-294280c7b232\",\"type\":\"Toolbar\"},{\"attributes\":{},\"id\":\"b8abbe43-117f-4da7-b55f-1825fe5e7b0e\",\"type\":\"BasicTickFormatter\"},{\"attributes\":{\"callback\":null,\"column_names\":[\"x\",\"y\"],\"data\":{\"x\":{\"__ndarray__\":\"AAAAGfGjdUIAAMB+Q6R1QgAAgOSVpHVCAADAFY2ldUIAAIB736V1QgAAQOExpnVCAAAAR4SmdUIAAADezad1QgAAwEMgqHVCAACAqXKodUIAAEAPxah1QgAAAHUXqXVCAABApg6qdUIAAAAMYap1QgAAwHGzqnVCAACA1wWrdUIAAEA9WKt1QgAAQNShrHVCAAAAOvSsdUI=\",\"dtype\":\"float64\",\"shape\":[19]},\"y\":{\"__ndarray__\":\"mpmZmZlddUAzMzMzMy91QGZmZmZmEnVAZmZmZmbudEAAAAAAAOx0QDMzMzMzv3RAzczMzMykdEAzMzMzM5t0QGZmZmZmnnRAAAAAAADgdEAAAAAAABB1QGZmZmZm/nRAAAAAAAAwdUAzMzMzM0t1QDMzMzMzB3VAmpmZmZlxdEDNzMzMzBR1QAAAAAAASHVAzczMzMz8dEA=\",\"dtype\":\"float64\",\"shape\":[19]}}},\"id\":\"f17e9901-bb97-4972-b457-c8e78a96d4a3\",\"type\":\"ColumnDataSource\"},{\"attributes\":{\"data_source\":{\"id\":\"cb43ae16-c300-49d5-a31b-7b9e19c01d5b\",\"type\":\"ColumnDataSource\"},\"glyph\":{\"id\":\"c06ddd5f-96ec-40c9-8b4f-0047279121f4\",\"type\":\"Line\"},\"hover_glyph\":null,\"nonselection_glyph\":{\"id\":\"9ec6fa40-043b-4c64-980f-e1eea6720bdc\",\"type\":\"Line\"},\"selection_glyph\":null},\"id\":\"168818e2-1a9d-4920-9188-f5070607a97c\",\"type\":\"GlyphRenderer\"},{\"attributes\":{\"data_source\":{\"id\":\"8d0947aa-747e-4d07-83d7-48eaa5093b0d\",\"type\":\"ColumnDataSource\"},\"glyph\":{\"id\":\"9bef1d89-6521-4614-96fd-ccd5c6c481ae\",\"type\":\"Line\"},\"hover_glyph\":null,\"nonselection_glyph\":{\"id\":\"2db54c99-ffaf-4289-8b48-f08cbd30fa0b\",\"type\":\"Line\"},\"selection_glyph\":null},\"id\":\"d419243e-81c5-4641-afdb-57ad154b9f5c\",\"type\":\"GlyphRenderer\"},{\"attributes\":{\"label\":{\"value\":\"High\"},\"renderers\":[{\"id\":\"692a2018-e012-4714-9ccc-1b1c42b2354b\",\"type\":\"GlyphRenderer\"},{\"id\":\"51ced560-fe7a-4826-a2b9-27e15b342667\",\"type\":\"GlyphRenderer\"}]},\"id\":\"dead7a2f-5bf1-44c5-83a8-102861a8d9f0\",\"type\":\"LegendItem\"},{\"attributes\":{\"plot\":{\"id\":\"edf2e3ec-b7d0-43cd-b41a-ae39aff67a86\",\"subtype\":\"Figure\",\"type\":\"Plot\"}},\"id\":\"99bfe5a0-afd8-4cd5-8128-7fdc3b0524e6\",\"type\":\"ResetTool\"},{\"attributes\":{\"days\":[1,4,7,10,13,16,19,22,25,28]},\"id\":\"4ba836b2-d099-416d-abff-f0569d57d8cc\",\"type\":\"DaysTicker\"},{\"attributes\":{\"num_minor_ticks\":5},\"id\":\"912b61dc-1e8f-4d0c-acdd-5c5bd7d57555\",\"type\":\"DatetimeTicker\"},{\"attributes\":{\"callback\":null,\"column_names\":[\"x\",\"y\"],\"data\":{\"x\":{\"__ndarray__\":\"AAAAGfGjdUIAAMB+Q6R1QgAAgOSVpHVCAADAFY2ldUIAAIB736V1QgAAQOExpnVCAAAAR4SmdUIAAADezad1QgAAwEMgqHVCAACAqXKodUIAAEAPxah1QgAAAHUXqXVCAABApg6qdUIAAAAMYap1QgAAwHGzqnVCAACA1wWrdUIAAEA9WKt1QgAAQNShrHVCAAAAOvSsdUI=\",\"dtype\":\"float64\",\"shape\":[19]},\"y\":{\"__ndarray__\":\"mpmZmZlddUAzMzMzMy91QGZmZmZmEnVAZmZmZmbudEAAAAAAAOx0QDMzMzMzv3RAzczMzMykdEAzMzMzM5t0QGZmZmZmnnRAAAAAAADgdEAAAAAAABB1QGZmZmZm/nRAAAAAAAAwdUAzMzMzM0t1QDMzMzMzB3VAmpmZmZlxdEDNzMzMzBR1QAAAAAAASHVAzczMzMz8dEA=\",\"dtype\":\"float64\",\"shape\":[19]}}},\"id\":\"3cbc819f-d733-48e9-a121-df93b01fe03d\",\"type\":\"ColumnDataSource\"},{\"attributes\":{\"label\":{\"value\":\"Open\"},\"renderers\":[{\"id\":\"71cb7588-8346-41bc-b6c8-4780db8d5bcf\",\"type\":\"GlyphRenderer\"}]},\"id\":\"ff110860-99e2-4fe1-ae3c-7d9e433cf7ad\",\"type\":\"LegendItem\"},{\"attributes\":{},\"id\":\"d8c5b08e-4735-4c27-8762-e89b29c6254d\",\"type\":\"DatetimeTickFormatter\"},{\"attributes\":{\"days\":[1,2,3,4,5,6,7,8,9,10,11,12,13,14,15,16,17,18,19,20,21,22,23,24,25,26,27,28,29,30,31]},\"id\":\"00d4981e-6e56-4de2-bdfd-4aafb16b2438\",\"type\":\"DaysTicker\"},{\"attributes\":{\"label\":{\"value\":\"Open\"},\"renderers\":[{\"id\":\"f343a26a-7da3-4306-9bf5-2538990da3f1\",\"type\":\"GlyphRenderer\"}]},\"id\":\"d6d78e9b-f36d-45c8-931e-e9000cf758ae\",\"type\":\"LegendItem\"},{\"attributes\":{\"overlay\":{\"id\":\"7827ceb5-fcd8-4e4e-bd48-08f7edbba2e6\",\"type\":\"BoxAnnotation\"},\"plot\":{\"id\":\"bad3fd3b-905f-43ca-81d5-574d2a2ced82\",\"subtype\":\"Figure\",\"type\":\"Plot\"}},\"id\":\"3c1e1d45-0250-46c3-b969-2f6518004478\",\"type\":\"BoxZoomTool\"},{\"attributes\":{\"line_alpha\":{\"value\":0.1},\"line_color\":{\"value\":\"#1f77b4\"},\"x\":{\"field\":\"x\"},\"y\":{\"field\":\"y\"}},\"id\":\"4223fd74-c6f6-4e94-8440-b4ac4f145eb5\",\"type\":\"Line\"},{\"attributes\":{\"plot\":{\"id\":\"edf2e3ec-b7d0-43cd-b41a-ae39aff67a86\",\"subtype\":\"Figure\",\"type\":\"Plot\"}},\"id\":\"127cd2d3-d6d4-4554-a485-f90d3ecafdf4\",\"type\":\"PanTool\"},{\"attributes\":{\"callback\":null},\"id\":\"0b15fed2-a47c-4a22-84d7-18d058fe655b\",\"type\":\"DataRange1d\"},{\"attributes\":{\"plot\":{\"id\":\"9270e32e-4f6b-4c04-94f2-a47286bbb20b\",\"subtype\":\"Figure\",\"type\":\"Plot\"}},\"id\":\"b0ad304a-fafe-4a79-9438-b0a264c10d25\",\"type\":\"WheelZoomTool\"},{\"attributes\":{\"overlay\":{\"id\":\"b444ddd1-912c-40b3-9920-2fb42ddf3db4\",\"type\":\"BoxAnnotation\"},\"plot\":{\"id\":\"9c93c299-356f-49e1-8bd8-d4a523a4e452\",\"subtype\":\"Figure\",\"type\":\"Plot\"}},\"id\":\"0e3e9bb6-484d-4bfb-9a46-bf72dcda66df\",\"type\":\"BoxZoomTool\"},{\"attributes\":{\"overlay\":{\"id\":\"25a85844-637f-4ed3-8653-32b60e12da98\",\"type\":\"BoxAnnotation\"},\"plot\":{\"id\":\"9270e32e-4f6b-4c04-94f2-a47286bbb20b\",\"subtype\":\"Figure\",\"type\":\"Plot\"}},\"id\":\"bf8c843c-9739-4509-b6e5-aebbda870331\",\"type\":\"BoxZoomTool\"},{\"attributes\":{\"line_alpha\":{\"value\":0.1},\"line_color\":{\"value\":\"#1f77b4\"},\"x\":{\"field\":\"x\"},\"y\":{\"field\":\"y\"}},\"id\":\"dc55e6e2-c0bc-4e24-9ce8-e4305eeeb57e\",\"type\":\"Line\"},{\"attributes\":{\"callback\":null,\"column_names\":[\"x\",\"y\"],\"data\":{\"x\":{\"__ndarray__\":\"AAAAGfGjdUIAAMB+Q6R1QgAAgOSVpHVCAADAFY2ldUIAAIB736V1QgAAQOExpnVCAAAAR4SmdUIAAADezad1QgAAwEMgqHVCAACAqXKodUIAAEAPxah1QgAAAHUXqXVCAABApg6qdUIAAAAMYap1QgAAwHGzqnVCAACA1wWrdUIAAEA9WKt1QgAAQNShrHVCAAAAOvSsdUI=\",\"dtype\":\"float64\",\"shape\":[19]},\"y\":{\"__ndarray__\":\"mpmZmZkFdUBmZmZmZup0QGZmZmZm1nRAZmZmZmZydEDNzMzMzIB0QAAAAAAAaHRAZmZmZmZudEAzMzMzM4N0QJqZmZmZcXRAZmZmZmbSdEAzMzMzM690QGZmZmZm2nRAmpmZmZkldUDNzMzMzPB0QM3MzMzMcHRAmpmZmZlBdEBmZmZmZuZ0QDMzMzMz83RAmpmZmZnJdEA=\",\"dtype\":\"float64\",\"shape\":[19]}}},\"id\":\"e96a887e-de78-4873-b579-84325783f7c5\",\"type\":\"ColumnDataSource\"},{\"attributes\":{},\"id\":\"4fb4a299-572c-4fee-b8ec-af13f71f5417\",\"type\":\"YearsTicker\"},{\"attributes\":{\"overlay\":{\"id\":\"dc16cdfb-14b0-48fe-a02f-5b217582f6e9\",\"type\":\"BoxAnnotation\"},\"plot\":{\"id\":\"73b1094d-193e-4357-a106-81e11fdf05ca\",\"subtype\":\"Figure\",\"type\":\"Plot\"}},\"id\":\"c823cbac-f293-454d-b741-ab1fd9f2bcf3\",\"type\":\"BoxZoomTool\"},{\"attributes\":{\"plot\":null,\"text\":\"NSE/OIL\"},\"id\":\"ea954b92-154f-4a15-b235-6c4c6a924bff\",\"type\":\"Title\"},{\"attributes\":{\"line_alpha\":{\"value\":0.1},\"line_color\":{\"value\":\"#1f77b4\"},\"x\":{\"field\":\"x\"},\"y\":{\"field\":\"y\"}},\"id\":\"5f25dff7-a70b-4a9e-a0bf-b5625d45f777\",\"type\":\"Line\"},{\"attributes\":{\"items\":[{\"id\":\"56730a9f-c9c1-4cd9-9641-e168e024cc25\",\"type\":\"LegendItem\"},{\"id\":\"ff110860-99e2-4fe1-ae3c-7d9e433cf7ad\",\"type\":\"LegendItem\"},{\"id\":\"e83f4c29-7bd2-4843-a2b4-a13d366ce2bc\",\"type\":\"LegendItem\"}],\"plot\":{\"id\":\"9270e32e-4f6b-4c04-94f2-a47286bbb20b\",\"subtype\":\"Figure\",\"type\":\"Plot\"}},\"id\":\"cc028876-0cfc-43eb-a09d-4b7994507494\",\"type\":\"Legend\"},{\"attributes\":{\"line_alpha\":{\"value\":0.1},\"line_color\":{\"value\":\"#1f77b4\"},\"x\":{\"field\":\"x\"},\"y\":{\"field\":\"y\"}},\"id\":\"6478309d-4091-48fc-b32d-1ccf517852e6\",\"type\":\"Line\"},{\"attributes\":{\"label\":{\"value\":\"Close\"},\"renderers\":[{\"id\":\"168818e2-1a9d-4920-9188-f5070607a97c\",\"type\":\"GlyphRenderer\"}]},\"id\":\"1e93267a-5793-4384-8b6d-ac6cde8dde95\",\"type\":\"LegendItem\"},{\"attributes\":{\"months\":[0,1,2,3,4,5,6,7,8,9,10,11]},\"id\":\"f6a2430b-cfbf-4703-b780-ab5511ff3d0f\",\"type\":\"MonthsTicker\"},{\"attributes\":{\"line_alpha\":{\"value\":0.1},\"line_color\":{\"value\":\"#1f77b4\"},\"x\":{\"field\":\"x\"},\"y\":{\"field\":\"y\"}},\"id\":\"e30c9cbc-5405-45ac-bf32-1170d56a7daa\",\"type\":\"Line\"},{\"attributes\":{\"label\":{\"value\":\"Low\"},\"renderers\":[{\"id\":\"a0b91b4c-bf81-45bd-9321-3c7b9fb8c9ac\",\"type\":\"GlyphRenderer\"},{\"id\":\"3a400a78-e902-4c6b-b032-fa2fd3d2495a\",\"type\":\"GlyphRenderer\"}]},\"id\":\"9b9ebe6c-a126-45d2-a590-2ffe8464a256\",\"type\":\"LegendItem\"},{\"attributes\":{\"line_alpha\":{\"value\":0.1},\"line_color\":{\"value\":\"#1f77b4\"},\"x\":{\"field\":\"x\"},\"y\":{\"field\":\"y\"}},\"id\":\"15c97e5d-f9d2-484f-95d9-214b0b466448\",\"type\":\"Line\"},{\"attributes\":{\"plot\":{\"id\":\"73b1094d-193e-4357-a106-81e11fdf05ca\",\"subtype\":\"Figure\",\"type\":\"Plot\"}},\"id\":\"e5158bc5-14ff-4785-bf1d-960fb395bee4\",\"type\":\"WheelZoomTool\"},{\"attributes\":{\"data_source\":{\"id\":\"1c7503da-82c1-469d-bb1e-fe2e569bee53\",\"type\":\"ColumnDataSource\"},\"glyph\":{\"id\":\"0a8dea50-f209-4eaf-90d9-ce0148db8be8\",\"type\":\"Circle\"},\"hover_glyph\":null,\"nonselection_glyph\":{\"id\":\"f2893746-a0c1-44ce-b744-cc775b0096c6\",\"type\":\"Circle\"},\"selection_glyph\":null},\"id\":\"cf0e7100-fa7b-4291-a035-857dcba3f56d\",\"type\":\"GlyphRenderer\"},{\"attributes\":{\"data_source\":{\"id\":\"e96a887e-de78-4873-b579-84325783f7c5\",\"type\":\"ColumnDataSource\"},\"glyph\":{\"id\":\"daff053c-8283-42b7-a6cc-3c297e68a5f0\",\"type\":\"Line\"},\"hover_glyph\":null,\"nonselection_glyph\":{\"id\":\"dc55e6e2-c0bc-4e24-9ce8-e4305eeeb57e\",\"type\":\"Line\"},\"selection_glyph\":null},\"id\":\"77daf937-d237-4120-a673-8f2c12459748\",\"type\":\"GlyphRenderer\"},{\"attributes\":{},\"id\":\"fced06aa-80aa-464b-98a4-067eb4cf33af\",\"type\":\"YearsTicker\"},{\"attributes\":{\"x\":{\"field\":\"x\"},\"y\":{\"field\":\"y\"}},\"id\":\"c06ddd5f-96ec-40c9-8b4f-0047279121f4\",\"type\":\"Line\"},{\"attributes\":{\"active_drag\":\"auto\",\"active_scroll\":\"auto\",\"active_tap\":\"auto\",\"tools\":[{\"id\":\"6cad111f-496e-4702-bb79-40bcf9045ced\",\"type\":\"PanTool\"},{\"id\":\"5408e57d-4151-4a2b-b874-38e561106b6d\",\"type\":\"WheelZoomTool\"},{\"id\":\"0e3e9bb6-484d-4bfb-9a46-bf72dcda66df\",\"type\":\"BoxZoomTool\"},{\"id\":\"9294df76-08a3-4b5b-a857-16ddb61435ea\",\"type\":\"SaveTool\"},{\"id\":\"afd7d1c9-cb7a-4770-a630-18b6397f841b\",\"type\":\"ResetTool\"},{\"id\":\"32ee8cbc-0afe-4aa4-93da-b8f3db06296f\",\"type\":\"HelpTool\"}]},\"id\":\"47cd5a52-f0c2-4055-a717-a3e20b5e8eab\",\"type\":\"Toolbar\"},{\"attributes\":{\"plot\":{\"id\":\"bad3fd3b-905f-43ca-81d5-574d2a2ced82\",\"subtype\":\"Figure\",\"type\":\"Plot\"}},\"id\":\"10141e48-7e65-41ba-8565-d4c3f4cb0a03\",\"type\":\"ResetTool\"},{\"attributes\":{\"fill_color\":{\"value\":\"orange\"},\"line_color\":{\"value\":\"orange\"},\"x\":{\"field\":\"x\"},\"y\":{\"field\":\"y\"}},\"id\":\"24d3fb9d-c9eb-4780-9ebe-1288747a4911\",\"type\":\"Circle\"},{\"attributes\":{\"fill_color\":{\"value\":\"black\"},\"x\":{\"field\":\"x\"},\"y\":{\"field\":\"y\"}},\"id\":\"e4b8aa2d-d535-4073-b100-22470a990189\",\"type\":\"Circle\"},{\"attributes\":{\"fill_color\":{\"value\":\"orange\"},\"line_color\":{\"value\":\"orange\"},\"x\":{\"field\":\"x\"},\"y\":{\"field\":\"y\"}},\"id\":\"1c4c5a17-4789-49c2-8d24-0e6917baf354\",\"type\":\"Circle\"},{\"attributes\":{\"days\":[1,2,3,4,5,6,7,8,9,10,11,12,13,14,15,16,17,18,19,20,21,22,23,24,25,26,27,28,29,30,31]},\"id\":\"aec3ca77-040c-4d10-8d17-b100f9e64472\",\"type\":\"DaysTicker\"},{\"attributes\":{\"max_interval\":500.0,\"num_minor_ticks\":0},\"id\":\"c308d901-1133-44ad-b063-63da5a06481d\",\"type\":\"AdaptiveTicker\"},{\"attributes\":{\"plot\":{\"id\":\"69164c54-c2ef-436c-a3f0-a88b1ad80fbb\",\"subtype\":\"Figure\",\"type\":\"Plot\"},\"ticker\":{\"id\":\"e9067721-f1c2-46f0-ae21-b62e3ca96360\",\"type\":\"DatetimeTicker\"}},\"id\":\"95c9cd8b-1f76-4c2c-a0e1-4823ac5f1e92\",\"type\":\"Grid\"},{\"attributes\":{\"plot\":{\"id\":\"edf2e3ec-b7d0-43cd-b41a-ae39aff67a86\",\"subtype\":\"Figure\",\"type\":\"Plot\"},\"ticker\":{\"id\":\"912b61dc-1e8f-4d0c-acdd-5c5bd7d57555\",\"type\":\"DatetimeTicker\"}},\"id\":\"b0d16b65-8f1f-43a5-94e0-464728770378\",\"type\":\"Grid\"},{\"attributes\":{\"plot\":null,\"text\":\"NSE/OIL\"},\"id\":\"4d362aff-4063-4f2f-b9f0-43af461d740e\",\"type\":\"Title\"},{\"attributes\":{\"max_interval\":500.0,\"num_minor_ticks\":0},\"id\":\"d1299d2a-3748-414b-8975-17a00765637a\",\"type\":\"AdaptiveTicker\"},{\"attributes\":{\"below\":[{\"id\":\"175baed0-512a-44e2-a14a-ed8d604d93ac\",\"type\":\"LinearAxis\"}],\"left\":[{\"id\":\"b6e520f1-a524-48cc-962b-7c2afe96cc49\",\"type\":\"LinearAxis\"}],\"renderers\":[{\"id\":\"175baed0-512a-44e2-a14a-ed8d604d93ac\",\"type\":\"LinearAxis\"},{\"id\":\"7a4e7474-fd73-4cf3-b11f-a46d749cb102\",\"type\":\"Grid\"},{\"id\":\"b6e520f1-a524-48cc-962b-7c2afe96cc49\",\"type\":\"LinearAxis\"},{\"id\":\"22101cac-ad61-4443-a6e0-889016f89c33\",\"type\":\"Grid\"},{\"id\":\"4838943d-510c-4432-b724-788dc23b0299\",\"type\":\"BoxAnnotation\"},{\"id\":\"21cd90d7-b1e1-4441-a066-7aaaafccd1ed\",\"type\":\"GlyphRenderer\"}],\"title\":{\"id\":\"bdd4c496-c021-459e-a9b4-5ff1b1d4623f\",\"type\":\"Title\"},\"tool_events\":{\"id\":\"4f06364d-4bf9-4a25-9ae2-3b69aa9b7c6f\",\"type\":\"ToolEvents\"},\"toolbar\":{\"id\":\"7c69bab5-962a-4655-9caf-d8f873b388d1\",\"type\":\"Toolbar\"},\"x_range\":{\"id\":\"50600658-944f-4a5d-b0d8-d086cdc8f118\",\"type\":\"DataRange1d\"},\"y_range\":{\"id\":\"df33f25a-1385-4412-8763-f13cabbb1a32\",\"type\":\"DataRange1d\"}},\"id\":\"b54d1169-c443-467e-a1b2-8a966f7eb6cb\",\"subtype\":\"Figure\",\"type\":\"Plot\"},{\"attributes\":{\"months\":[0,1,2,3,4,5,6,7,8,9,10,11]},\"id\":\"ee4ac5d3-22e5-4a1c-a192-40805a68418a\",\"type\":\"MonthsTicker\"},{\"attributes\":{\"line_alpha\":{\"value\":0.1},\"line_color\":{\"value\":\"#1f77b4\"},\"x\":{\"field\":\"x\"},\"y\":{\"field\":\"y\"}},\"id\":\"53a43b37-1414-42a3-ab26-5cecad36518f\",\"type\":\"Line\"},{\"attributes\":{\"base\":60,\"mantissas\":[1,2,5,10,15,20,30],\"max_interval\":1800000.0,\"min_interval\":1000.0,\"num_minor_ticks\":0},\"id\":\"343289f0-2e7b-4976-b61f-5c33f0c21a35\",\"type\":\"AdaptiveTicker\"},{\"attributes\":{\"data_source\":{\"id\":\"0717595a-1392-4f21-8a83-a41cef258f6d\",\"type\":\"ColumnDataSource\"},\"glyph\":{\"id\":\"51781648-b247-45f6-ba91-bfaac6d18fdb\",\"type\":\"Line\"},\"hover_glyph\":null,\"nonselection_glyph\":{\"id\":\"4223fd74-c6f6-4e94-8440-b4ac4f145eb5\",\"type\":\"Line\"},\"selection_glyph\":null},\"id\":\"75c65025-b160-4e7d-9a5e-bf2573c53ede\",\"type\":\"GlyphRenderer\"},{\"attributes\":{\"label\":{\"value\":\"Open\"},\"renderers\":[{\"id\":\"ab1e90a2-1e8e-4c08-be47-33e27f8f2f32\",\"type\":\"GlyphRenderer\"}]},\"id\":\"acdfee79-87a4-486f-9cb0-77243fb97f93\",\"type\":\"LegendItem\"},{\"attributes\":{\"max_interval\":500.0,\"num_minor_ticks\":0},\"id\":\"6b93563a-3987-4f68-96b9-eda855cee7d7\",\"type\":\"AdaptiveTicker\"},{\"attributes\":{\"callback\":null},\"id\":\"f5e388d9-1857-4108-b32b-f8da53fff685\",\"type\":\"DataRange1d\"},{\"attributes\":{\"line_alpha\":{\"value\":0.1},\"line_color\":{\"value\":\"#1f77b4\"},\"x\":{\"field\":\"x\"},\"y\":{\"field\":\"y\"}},\"id\":\"99621f6e-21d6-4380-8ee6-08f4ce67dccc\",\"type\":\"Line\"},{\"attributes\":{\"base\":24,\"mantissas\":[1,2,4,6,8,12],\"max_interval\":43200000.0,\"min_interval\":3600000.0,\"num_minor_ticks\":0},\"id\":\"4247b577-9ea8-4180-b064-d5534ea1a4ec\",\"type\":\"AdaptiveTicker\"},{\"attributes\":{\"items\":[{\"id\":\"6964246b-41c0-4a29-9018-bcf8b175de73\",\"type\":\"LegendItem\"},{\"id\":\"92182ad8-f2f6-4fda-b06f-c18a01d3e0f3\",\"type\":\"LegendItem\"},{\"id\":\"0f02f7e5-014d-43ee-bfac-758755195ae4\",\"type\":\"LegendItem\"}],\"plot\":{\"id\":\"73b1094d-193e-4357-a106-81e11fdf05ca\",\"subtype\":\"Figure\",\"type\":\"Plot\"}},\"id\":\"545eea60-85fe-4a1a-9735-8782ab6e2012\",\"type\":\"Legend\"},{\"attributes\":{\"days\":[1,8,15,22]},\"id\":\"f365884e-cf61-44d9-a66d-76a628ebc722\",\"type\":\"DaysTicker\"},{\"attributes\":{},\"id\":\"ea73b09f-a973-451f-906f-a077ee902621\",\"type\":\"YearsTicker\"},{\"attributes\":{\"months\":[0,6]},\"id\":\"b5013b2c-539e-4860-a891-bd12c22d8ad2\",\"type\":\"MonthsTicker\"},{\"attributes\":{\"formatter\":{\"id\":\"3dd5dd33-6424-4902-ace9-5decc3e2d1f3\",\"type\":\"BasicTickFormatter\"},\"plot\":{\"id\":\"b54d1169-c443-467e-a1b2-8a966f7eb6cb\",\"subtype\":\"Figure\",\"type\":\"Plot\"},\"ticker\":{\"id\":\"b2cdd668-ab18-478d-9be7-09892412a491\",\"type\":\"BasicTicker\"}},\"id\":\"b6e520f1-a524-48cc-962b-7c2afe96cc49\",\"type\":\"LinearAxis\"},{\"attributes\":{},\"id\":\"adc4bdcc-e24c-467c-9757-f7d7d6e69592\",\"type\":\"ToolEvents\"},{\"attributes\":{\"plot\":{\"id\":\"bad3fd3b-905f-43ca-81d5-574d2a2ced82\",\"subtype\":\"Figure\",\"type\":\"Plot\"}},\"id\":\"de514e67-888c-4156-8ca0-bfb20e79be56\",\"type\":\"WheelZoomTool\"},{\"attributes\":{\"callback\":null},\"id\":\"32dec3ef-754c-4793-a6ee-46862fad72de\",\"type\":\"DataRange1d\"},{\"attributes\":{\"months\":[0,4,8]},\"id\":\"6e904e70-1bcb-4c07-bff0-2ee47ea38750\",\"type\":\"MonthsTicker\"},{\"attributes\":{\"below\":[{\"id\":\"caa3ae4d-470f-44e4-9125-c79019f0d912\",\"type\":\"DatetimeAxis\"}],\"left\":[{\"id\":\"90f3a26b-0b6a-4900-a236-d7c742da17e0\",\"type\":\"LinearAxis\"}],\"renderers\":[{\"id\":\"caa3ae4d-470f-44e4-9125-c79019f0d912\",\"type\":\"DatetimeAxis\"},{\"id\":\"303780e0-e342-4529-81c3-5e46db4b5cd0\",\"type\":\"Grid\"},{\"id\":\"90f3a26b-0b6a-4900-a236-d7c742da17e0\",\"type\":\"LinearAxis\"},{\"id\":\"5b85b86c-a15d-45d3-b0aa-6e7917ee38ab\",\"type\":\"Grid\"},{\"id\":\"7827ceb5-fcd8-4e4e-bd48-08f7edbba2e6\",\"type\":\"BoxAnnotation\"},{\"id\":\"c3aab240-f2eb-455e-bc5d-deb2999b2246\",\"type\":\"Legend\"},{\"id\":\"6e194f66-4175-4984-b873-3929e9e384d8\",\"type\":\"GlyphRenderer\"},{\"id\":\"ab1e90a2-1e8e-4c08-be47-33e27f8f2f32\",\"type\":\"GlyphRenderer\"},{\"id\":\"c9e7e25a-b5fc-4ac0-93ef-250fcd134bff\",\"type\":\"GlyphRenderer\"}],\"title\":{\"id\":\"efda5ee3-c491-49ea-8ac7-0e048c59fae9\",\"type\":\"Title\"},\"tool_events\":{\"id\":\"a7c8a860-a662-4825-946a-6619864dee25\",\"type\":\"ToolEvents\"},\"toolbar\":{\"id\":\"d818a301-544f-4e33-92b5-294280c7b232\",\"type\":\"Toolbar\"},\"x_range\":{\"id\":\"294f7ac6-6cd3-4cd8-a9ed-ee01aa93553d\",\"type\":\"DataRange1d\"},\"y_range\":{\"id\":\"b94fb597-af25-47c0-bba2-d20a541f10ab\",\"type\":\"DataRange1d\"}},\"id\":\"bad3fd3b-905f-43ca-81d5-574d2a2ced82\",\"subtype\":\"Figure\",\"type\":\"Plot\"},{\"attributes\":{},\"id\":\"1b2b5170-ff8d-4f73-bed4-7a11e14cb060\",\"type\":\"DatetimeTickFormatter\"},{\"attributes\":{\"plot\":{\"id\":\"586def4c-f6f5-40dc-b8ac-79b78a650045\",\"subtype\":\"Figure\",\"type\":\"Plot\"}},\"id\":\"401afb04-c7d0-4b02-833e-56a0691ac1a7\",\"type\":\"PanTool\"},{\"attributes\":{\"callback\":null,\"column_names\":[\"y\",\"x\"],\"data\":{\"x\":{\"__ndarray__\":\"AAAAGfGjdUIAAMB+Q6R1QgAAgOSVpHVCAADAFY2ldUIAAIB736V1QgAAQOExpnVCAAAAR4SmdUIAAADezad1QgAAwEMgqHVCAACAqXKodUIAAEAPxah1QgAAAHUXqXVCAABApg6qdUIAAAAMYap1QgAAwHGzqnVCAACA1wWrdUIAAEA9WKt1QgAAQNShrHVCAAAAOvSsdUI=\",\"dtype\":\"float64\",\"shape\":[19]},\"y\":{\"__ndarray__\":\"mpmZmZkFdUBmZmZmZup0QGZmZmZm1nRAZmZmZmZydEDNzMzMzIB0QAAAAAAAaHRAZmZmZmZudEAzMzMzM4N0QJqZmZmZcXRAZmZmZmbSdEAzMzMzM690QGZmZmZm2nRAmpmZmZkldUDNzMzMzPB0QM3MzMzMcHRAmpmZmZlBdEBmZmZmZuZ0QDMzMzMz83RAmpmZmZnJdEA=\",\"dtype\":\"float64\",\"shape\":[19]}}},\"id\":\"a7fdfa35-f5e2-4455-8056-0cc9a1a6324a\",\"type\":\"ColumnDataSource\"},{\"attributes\":{\"days\":[1,8,15,22]},\"id\":\"6cc346c8-f0d3-4e7f-994b-01e70b480076\",\"type\":\"DaysTicker\"},{\"attributes\":{\"data_source\":{\"id\":\"d6d2db31-824a-4fe9-9c93-bf9d0d0c162f\",\"type\":\"ColumnDataSource\"},\"glyph\":{\"id\":\"3edd990f-954c-4af3-aba3-ad184e49a9a1\",\"type\":\"Circle\"},\"hover_glyph\":null,\"nonselection_glyph\":{\"id\":\"3a305084-a7f2-4b1b-8178-f6e032475b93\",\"type\":\"Circle\"},\"selection_glyph\":null},\"id\":\"edfd05bb-fbbc-4ee5-aa91-70057cc7b040\",\"type\":\"GlyphRenderer\"},{\"attributes\":{\"items\":[{\"id\":\"1e93267a-5793-4384-8b6d-ac6cde8dde95\",\"type\":\"LegendItem\"},{\"id\":\"62d433c2-a433-4936-8469-c0ef38803bc5\",\"type\":\"LegendItem\"},{\"id\":\"e3ce7935-2ddc-44ee-90ad-51dcadaa2989\",\"type\":\"LegendItem\"}],\"plot\":{\"id\":\"edf2e3ec-b7d0-43cd-b41a-ae39aff67a86\",\"subtype\":\"Figure\",\"type\":\"Plot\"}},\"id\":\"80047daa-586b-4b3e-8df1-06cd4cb09824\",\"type\":\"Legend\"},{\"attributes\":{\"fill_alpha\":{\"value\":0.1},\"fill_color\":{\"value\":\"#1f77b4\"},\"line_alpha\":{\"value\":0.1},\"line_color\":{\"value\":\"#1f77b4\"},\"x\":{\"field\":\"x\"},\"y\":{\"field\":\"y\"}},\"id\":\"f2893746-a0c1-44ce-b744-cc775b0096c6\",\"type\":\"Circle\"},{\"attributes\":{\"data_source\":{\"id\":\"6c237b51-2f2d-486c-a1a0-2251d8badb20\",\"type\":\"ColumnDataSource\"},\"glyph\":{\"id\":\"a5d3f9b1-ffa8-4b05-927c-1dcb3af408bf\",\"type\":\"Line\"},\"hover_glyph\":null,\"nonselection_glyph\":{\"id\":\"37d33e59-962f-4e81-b3a9-1c4d948b5cfc\",\"type\":\"Line\"},\"selection_glyph\":null},\"id\":\"090916c5-2dc6-4997-9bf9-4386f2845ddd\",\"type\":\"GlyphRenderer\"},{\"attributes\":{\"label\":{\"value\":\"Open\"},\"renderers\":[{\"id\":\"e485dc32-5112-47a6-8a60-2251e1d64fe3\",\"type\":\"GlyphRenderer\"},{\"id\":\"83b1e5d5-9112-4372-81a7-15a99ac4286a\",\"type\":\"GlyphRenderer\"}]},\"id\":\"543895f2-7517-40de-82ca-3dcaee0229cd\",\"type\":\"LegendItem\"},{\"attributes\":{\"label\":{\"value\":\"High\"},\"renderers\":[{\"id\":\"7370d9c0-81d5-421d-b084-731b9621e888\",\"type\":\"GlyphRenderer\"}]},\"id\":\"0f02f7e5-014d-43ee-bfac-758755195ae4\",\"type\":\"LegendItem\"},{\"attributes\":{\"plot\":{\"id\":\"b54d1169-c443-467e-a1b2-8a966f7eb6cb\",\"subtype\":\"Figure\",\"type\":\"Plot\"}},\"id\":\"b90ebbb0-1f5d-41ec-a78d-4d300ca2befb\",\"type\":\"ResetTool\"},{\"attributes\":{\"below\":[{\"id\":\"3fef1e2a-f254-445b-a8f7-8f09a7b597fc\",\"type\":\"DatetimeAxis\"}],\"left\":[{\"id\":\"eafa07d7-db39-413d-9878-bd0960d74200\",\"type\":\"LinearAxis\"}],\"renderers\":[{\"id\":\"3fef1e2a-f254-445b-a8f7-8f09a7b597fc\",\"type\":\"DatetimeAxis\"},{\"id\":\"6c156fc0-3ff2-4074-b886-538043650dfc\",\"type\":\"Grid\"},{\"id\":\"eafa07d7-db39-413d-9878-bd0960d74200\",\"type\":\"LinearAxis\"},{\"id\":\"3995f3a7-26b0-4ca4-b1ea-8f9b6f950798\",\"type\":\"Grid\"},{\"id\":\"7a464894-879e-4c0f-ac76-cc988b984c9e\",\"type\":\"BoxAnnotation\"},{\"id\":\"35cd22f0-257b-4288-b82e-23e3dfdec534\",\"type\":\"Legend\"},{\"id\":\"1f943ce4-e864-4b06-943a-33e65618e8d3\",\"type\":\"GlyphRenderer\"},{\"id\":\"7900cf66-a821-44e7-951c-eee7f930659e\",\"type\":\"GlyphRenderer\"},{\"id\":\"a0b91b4c-bf81-45bd-9321-3c7b9fb8c9ac\",\"type\":\"GlyphRenderer\"},{\"id\":\"3a400a78-e902-4c6b-b032-fa2fd3d2495a\",\"type\":\"GlyphRenderer\"},{\"id\":\"fb931d72-b59b-4051-952f-9c735ce8f66b\",\"type\":\"GlyphRenderer\"},{\"id\":\"edfd05bb-fbbc-4ee5-aa91-70057cc7b040\",\"type\":\"GlyphRenderer\"}],\"title\":{\"id\":\"dfcbcdec-8f6e-42c6-af37-bb7b4dd73c13\",\"type\":\"Title\"},\"tool_events\":{\"id\":\"d44f1e28-70f2-4176-a7a7-7e070a74ad66\",\"type\":\"ToolEvents\"},\"toolbar\":{\"id\":\"f41fce0d-b81a-4685-86eb-c226a42c4a15\",\"type\":\"Toolbar\"},\"x_range\":{\"id\":\"4b361986-881f-48f1-b24e-7e948df07eca\",\"type\":\"DataRange1d\"},\"y_range\":{\"id\":\"4e6d2fc3-5004-4347-b0ed-1175f5e0a3eb\",\"type\":\"DataRange1d\"}},\"id\":\"586def4c-f6f5-40dc-b8ac-79b78a650045\",\"subtype\":\"Figure\",\"type\":\"Plot\"},{\"attributes\":{\"line_color\":{\"value\":\"orange\"},\"x\":{\"field\":\"x\"},\"y\":{\"field\":\"y\"}},\"id\":\"078b0458-3aa6-4c40-9176-4046f0f4169f\",\"type\":\"Line\"},{\"attributes\":{\"days\":[1,15]},\"id\":\"47691fb3-e16e-4df0-9c6f-bd31421e60b4\",\"type\":\"DaysTicker\"},{\"attributes\":{\"months\":[0,4,8]},\"id\":\"f2a9de81-f0ec-421d-baa7-64d60a1e1a93\",\"type\":\"MonthsTicker\"},{\"attributes\":{\"days\":[1,2,3,4,5,6,7,8,9,10,11,12,13,14,15,16,17,18,19,20,21,22,23,24,25,26,27,28,29,30,31]},\"id\":\"ef63bdf9-135e-4aba-9dea-24b5798d22a7\",\"type\":\"DaysTicker\"},{\"attributes\":{\"line_alpha\":{\"value\":0.1},\"line_color\":{\"value\":\"#1f77b4\"},\"x\":{\"field\":\"x\"},\"y\":{\"field\":\"y\"}},\"id\":\"d25de65a-08e6-41fc-92aa-c21fc6ec3c58\",\"type\":\"Line\"},{\"attributes\":{\"overlay\":{\"id\":\"c0b2d691-d73b-4926-816e-55cc0eeafb6e\",\"type\":\"BoxAnnotation\"},\"plot\":{\"id\":\"7f4f95f8-f84e-4148-a7d6-2e42e5bfb8e6\",\"subtype\":\"Figure\",\"type\":\"Plot\"}},\"id\":\"69bdd560-74c5-4739-b606-930be0cfbd6c\",\"type\":\"BoxZoomTool\"},{\"attributes\":{\"max_interval\":500.0,\"num_minor_ticks\":0},\"id\":\"658f37b8-baba-45a9-99fb-2d2d3b75cf41\",\"type\":\"AdaptiveTicker\"},{\"attributes\":{\"line_color\":{\"value\":\"#1f77b4\"},\"x\":{\"field\":\"x\"},\"y\":{\"field\":\"y\"}},\"id\":\"6239a7c1-aaa3-4ea7-9f85-ea9394a87ca6\",\"type\":\"Line\"},{\"attributes\":{\"callback\":null,\"column_names\":[\"x\",\"y\"],\"data\":{\"x\":{\"__ndarray__\":\"AAAAGfGjdUIAAMB+Q6R1QgAAgOSVpHVCAADAFY2ldUIAAIB736V1QgAAQOExpnVCAAAAR4SmdUIAAADezad1QgAAwEMgqHVCAACAqXKodUIAAEAPxah1QgAAAHUXqXVCAABApg6qdUIAAAAMYap1QgAAwHGzqnVCAACA1wWrdUIAAEA9WKt1QgAAQNShrHVCAAAAOvSsdUI=\",\"dtype\":\"float64\",\"shape\":[19]},\"y\":{\"__ndarray__\":\"MzMzMzMDdUBmZmZmZgZ1QGZmZmZmEnVAAAAAAADodEAAAAAAAGB0QJqZmZmZrXRAMzMzMzNrdECamZmZmWV0QJqZmZmZnXRAmpmZmZmpdEAzMzMzM/t0QAAAAAAAsHRAmpmZmZnldEAAAAAAAEB1QM3MzMzM8HRAzczMzMxwdEAAAAAAAFB0QDMzMzMzE3VAmpmZmZnhdEA=\",\"dtype\":\"float64\",\"shape\":[19]}}},\"id\":\"6c237b51-2f2d-486c-a1a0-2251d8badb20\",\"type\":\"ColumnDataSource\"},{\"attributes\":{\"num_minor_ticks\":5},\"id\":\"c9cb73de-ba36-4fe9-b097-efbc7d7b7c74\",\"type\":\"DatetimeTicker\"},{\"attributes\":{\"below\":[{\"id\":\"a070c5e8-3306-4a07-9ac6-6362d6af3ad7\",\"type\":\"DatetimeAxis\"}],\"left\":[{\"id\":\"18b7d262-8a79-4431-b3aa-45ed54b886f2\",\"type\":\"LinearAxis\"}],\"renderers\":[{\"id\":\"a070c5e8-3306-4a07-9ac6-6362d6af3ad7\",\"type\":\"DatetimeAxis\"},{\"id\":\"8c3b0048-9dd0-4a9c-98dd-945ba673c05e\",\"type\":\"Grid\"},{\"id\":\"18b7d262-8a79-4431-b3aa-45ed54b886f2\",\"type\":\"LinearAxis\"},{\"id\":\"aa1df976-73dd-45b0-aa0b-735ceff3ff5f\",\"type\":\"Grid\"},{\"id\":\"b444ddd1-912c-40b3-9920-2fb42ddf3db4\",\"type\":\"BoxAnnotation\"},{\"id\":\"54ce976e-8f92-4d6c-8a9b-ffd03f6aeb97\",\"type\":\"GlyphRenderer\"}],\"title\":{\"id\":\"4d362aff-4063-4f2f-b9f0-43af461d740e\",\"type\":\"Title\"},\"tool_events\":{\"id\":\"9df5429c-9ce1-40da-a2f6-03b01641f247\",\"type\":\"ToolEvents\"},\"toolbar\":{\"id\":\"47cd5a52-f0c2-4055-a717-a3e20b5e8eab\",\"type\":\"Toolbar\"},\"x_range\":{\"id\":\"79b37963-abd3-4ffb-9a02-a8ad4ad7b8a8\",\"type\":\"DataRange1d\"},\"y_range\":{\"id\":\"d005a9b7-d638-4162-922e-71e5ce48090f\",\"type\":\"DataRange1d\"}},\"id\":\"9c93c299-356f-49e1-8bd8-d4a523a4e452\",\"subtype\":\"Figure\",\"type\":\"Plot\"},{\"attributes\":{},\"id\":\"1e977440-f494-4321-99d9-d151d7430575\",\"type\":\"DatetimeTickFormatter\"},{\"attributes\":{\"days\":[1,4,7,10,13,16,19,22,25,28]},\"id\":\"2bad546d-e4b5-4176-8381-41fe9a194d1c\",\"type\":\"DaysTicker\"},{\"attributes\":{\"label\":{\"value\":\"High\"},\"renderers\":[{\"id\":\"79ee1431-904b-42ac-89a3-12c4622ab460\",\"type\":\"GlyphRenderer\"}]},\"id\":\"e3ce7935-2ddc-44ee-90ad-51dcadaa2989\",\"type\":\"LegendItem\"},{\"attributes\":{\"callback\":null,\"column_names\":[\"x\",\"y\"],\"data\":{\"x\":{\"__ndarray__\":\"AAAAGfGjdUIAAMB+Q6R1QgAAgOSVpHVCAADAFY2ldUIAAIB736V1QgAAQOExpnVCAAAAR4SmdUIAAADezad1QgAAwEMgqHVCAACAqXKodUIAAEAPxah1QgAAAHUXqXVCAABApg6qdUIAAAAMYap1QgAAwHGzqnVCAACA1wWrdUIAAEA9WKt1QgAAQNShrHVCAAAAOvSsdUI=\",\"dtype\":\"float64\",\"shape\":[19]},\"y\":{\"__ndarray__\":\"MzMzMzMDdUBmZmZmZgZ1QGZmZmZmEnVAAAAAAADodEAAAAAAAGB0QJqZmZmZrXRAMzMzMzNrdECamZmZmWV0QJqZmZmZnXRAmpmZmZmpdEAzMzMzM/t0QAAAAAAAsHRAmpmZmZnldEAAAAAAAEB1QM3MzMzM8HRAzczMzMxwdEAAAAAAAFB0QDMzMzMzE3VAmpmZmZnhdEA=\",\"dtype\":\"float64\",\"shape\":[19]}}},\"id\":\"8d0947aa-747e-4d07-83d7-48eaa5093b0d\",\"type\":\"ColumnDataSource\"},{\"attributes\":{\"plot\":null,\"text\":\"NSE/OIL\"},\"id\":\"efda5ee3-c491-49ea-8ac7-0e048c59fae9\",\"type\":\"Title\"},{\"attributes\":{\"plot\":{\"id\":\"9c93c299-356f-49e1-8bd8-d4a523a4e452\",\"subtype\":\"Figure\",\"type\":\"Plot\"}},\"id\":\"afd7d1c9-cb7a-4770-a630-18b6397f841b\",\"type\":\"ResetTool\"},{\"attributes\":{},\"id\":\"4d3a2171-2959-4353-b1c1-6a3db62c36db\",\"type\":\"BasicTicker\"},{\"attributes\":{\"line_alpha\":{\"value\":0.1},\"line_color\":{\"value\":\"#1f77b4\"},\"x\":{\"field\":\"x\"},\"y\":{\"field\":\"y\"}},\"id\":\"9ec6fa40-043b-4c64-980f-e1eea6720bdc\",\"type\":\"Line\"},{\"attributes\":{\"bottom_units\":\"screen\",\"fill_alpha\":{\"value\":0.5},\"fill_color\":{\"value\":\"lightgrey\"},\"left_units\":\"screen\",\"level\":\"overlay\",\"line_alpha\":{\"value\":1.0},\"line_color\":{\"value\":\"black\"},\"line_dash\":[4,4],\"line_width\":{\"value\":2},\"plot\":null,\"render_mode\":\"css\",\"right_units\":\"screen\",\"top_units\":\"screen\"},\"id\":\"dc16cdfb-14b0-48fe-a02f-5b217582f6e9\",\"type\":\"BoxAnnotation\"},{\"attributes\":{\"days\":[1,15]},\"id\":\"c6b765b7-2b18-4e91-a00e-48eef6590373\",\"type\":\"DaysTicker\"},{\"attributes\":{\"dimension\":1,\"plot\":{\"id\":\"9270e32e-4f6b-4c04-94f2-a47286bbb20b\",\"subtype\":\"Figure\",\"type\":\"Plot\"},\"ticker\":{\"id\":\"624ea5d7-7f78-4d03-acaf-fd94ac34b238\",\"type\":\"BasicTicker\"}},\"id\":\"a223a486-23d9-433e-b85a-e86762253928\",\"type\":\"Grid\"},{\"attributes\":{\"months\":[0,1,2,3,4,5,6,7,8,9,10,11]},\"id\":\"3668ed06-990b-4f9d-981d-d13601c28762\",\"type\":\"MonthsTicker\"},{\"attributes\":{\"base\":24,\"mantissas\":[1,2,4,6,8,12],\"max_interval\":43200000.0,\"min_interval\":3600000.0,\"num_minor_ticks\":0},\"id\":\"9deff10b-b6b1-47f7-862b-8f74ba9f60aa\",\"type\":\"AdaptiveTicker\"},{\"attributes\":{\"items\":[{\"id\":\"7daede03-a7f4-41fb-a8d1-6793555fb29e\",\"type\":\"LegendItem\"},{\"id\":\"543895f2-7517-40de-82ca-3dcaee0229cd\",\"type\":\"LegendItem\"},{\"id\":\"dead7a2f-5bf1-44c5-83a8-102861a8d9f0\",\"type\":\"LegendItem\"}],\"plot\":{\"id\":\"69164c54-c2ef-436c-a3f0-a88b1ad80fbb\",\"subtype\":\"Figure\",\"type\":\"Plot\"}},\"id\":\"d41b7d62-34bc-4d67-9c4e-dd896e6b5c8f\",\"type\":\"Legend\"},{\"attributes\":{\"dimension\":1,\"plot\":{\"id\":\"b54d1169-c443-467e-a1b2-8a966f7eb6cb\",\"subtype\":\"Figure\",\"type\":\"Plot\"},\"ticker\":{\"id\":\"b2cdd668-ab18-478d-9be7-09892412a491\",\"type\":\"BasicTicker\"}},\"id\":\"22101cac-ad61-4443-a6e0-889016f89c33\",\"type\":\"Grid\"},{\"attributes\":{\"line_alpha\":{\"value\":0.1},\"line_color\":{\"value\":\"#1f77b4\"},\"x\":{\"field\":\"x\"},\"y\":{\"field\":\"y\"}},\"id\":\"8b218ed2-7b07-4a93-a0f3-6b3c4ae92164\",\"type\":\"Line\"},{\"attributes\":{\"months\":[0,2,4,6,8,10]},\"id\":\"dce75cd5-2aa0-4d03-b999-3dd3947a6ccf\",\"type\":\"MonthsTicker\"},{\"attributes\":{\"callback\":null},\"id\":\"7f5da38a-5896-439e-b513-4ee0d7fd0951\",\"type\":\"DataRange1d\"},{\"attributes\":{},\"id\":\"99385749-47c8-4d6d-a85c-43ca9cc54c1e\",\"type\":\"DatetimeTickFormatter\"},{\"attributes\":{\"line_color\":{\"value\":\"#1f77b4\"},\"x\":{\"field\":\"x\"},\"y\":{\"field\":\"y\"}},\"id\":\"a8ca2795-fd69-45df-820e-4876eea9643b\",\"type\":\"Line\"},{\"attributes\":{\"line_alpha\":{\"value\":0.1},\"line_color\":{\"value\":\"#1f77b4\"},\"x\":{\"field\":\"x\"},\"y\":{\"field\":\"y\"}},\"id\":\"3547b3c7-e031-4802-8dfd-981db8599c24\",\"type\":\"Line\"},{\"attributes\":{\"callback\":null,\"column_names\":[\"x\",\"y\"],\"data\":{\"x\":{\"__ndarray__\":\"AAAAGfGjdUIAAMB+Q6R1QgAAgOSVpHVCAADAFY2ldUIAAIB736V1QgAAQOExpnVCAAAAR4SmdUIAAADezad1QgAAwEMgqHVCAACAqXKodUIAAEAPxah1QgAAAHUXqXVCAABApg6qdUIAAAAMYap1QgAAwHGzqnVCAACA1wWrdUIAAEA9WKt1QgAAQNShrHVCAAAAOvSsdUI=\",\"dtype\":\"float64\",\"shape\":[19]},\"y\":{\"__ndarray__\":\"mpmZmZlddUAzMzMzMy91QGZmZmZmEnVAZmZmZmbudEAAAAAAAOx0QDMzMzMzv3RAzczMzMykdEAzMzMzM5t0QGZmZmZmnnRAAAAAAADgdEAAAAAAABB1QGZmZmZm/nRAAAAAAAAwdUAzMzMzM0t1QDMzMzMzB3VAmpmZmZlxdEDNzMzMzBR1QAAAAAAASHVAzczMzMz8dEA=\",\"dtype\":\"float64\",\"shape\":[19]}}},\"id\":\"8c98cd73-443e-4125-afd3-d1c7f20fd33d\",\"type\":\"ColumnDataSource\"},{\"attributes\":{\"plot\":{\"id\":\"9c93c299-356f-49e1-8bd8-d4a523a4e452\",\"subtype\":\"Figure\",\"type\":\"Plot\"},\"ticker\":{\"id\":\"c77b752d-0dd3-4901-b57c-3e0bc221e818\",\"type\":\"DatetimeTicker\"}},\"id\":\"8c3b0048-9dd0-4a9c-98dd-945ba673c05e\",\"type\":\"Grid\"},{\"attributes\":{\"line_alpha\":{\"value\":0.1},\"line_color\":{\"value\":\"#1f77b4\"},\"x\":{\"field\":\"x\"},\"y\":{\"field\":\"y\"}},\"id\":\"37d33e59-962f-4e81-b3a9-1c4d948b5cfc\",\"type\":\"Line\"},{\"attributes\":{\"data_source\":{\"id\":\"8c98cd73-443e-4125-afd3-d1c7f20fd33d\",\"type\":\"ColumnDataSource\"},\"glyph\":{\"id\":\"7194a5fd-b6c9-4985-ac4a-97fcec93e095\",\"type\":\"Line\"},\"hover_glyph\":null,\"nonselection_glyph\":{\"id\":\"d25de65a-08e6-41fc-92aa-c21fc6ec3c58\",\"type\":\"Line\"},\"selection_glyph\":null},\"id\":\"c9e7e25a-b5fc-4ac0-93ef-250fcd134bff\",\"type\":\"GlyphRenderer\"},{\"attributes\":{\"days\":[1,15]},\"id\":\"e970cacc-1e6e-4d75-9aa2-66ae4054c0ef\",\"type\":\"DaysTicker\"},{\"attributes\":{\"callback\":null,\"column_names\":[\"x\",\"y\"],\"data\":{\"x\":{\"__ndarray__\":\"AAAAGfGjdUIAAMB+Q6R1QgAAgOSVpHVCAADAFY2ldUIAAIB736V1QgAAQOExpnVCAAAAR4SmdUIAAADezad1QgAAwEMgqHVCAACAqXKodUIAAEAPxah1QgAAAHUXqXVCAABApg6qdUIAAAAMYap1QgAAwHGzqnVCAACA1wWrdUIAAEA9WKt1QgAAQNShrHVCAAAAOvSsdUI=\",\"dtype\":\"float64\",\"shape\":[19]},\"y\":{\"__ndarray__\":\"mpmZmZkFdUBmZmZmZup0QGZmZmZm1nRAZmZmZmZydEDNzMzMzIB0QAAAAAAAaHRAZmZmZmZudEAzMzMzM4N0QJqZmZmZcXRAZmZmZmbSdEAzMzMzM690QGZmZmZm2nRAmpmZmZkldUDNzMzMzPB0QM3MzMzMcHRAmpmZmZlBdEBmZmZmZuZ0QDMzMzMz83RAmpmZmZnJdEA=\",\"dtype\":\"float64\",\"shape\":[19]}}},\"id\":\"03357813-99dc-41fb-be7a-d39d60d9b264\",\"type\":\"ColumnDataSource\"},{\"attributes\":{},\"id\":\"9df5429c-9ce1-40da-a2f6-03b01641f247\",\"type\":\"ToolEvents\"},{\"attributes\":{\"plot\":{\"id\":\"7f4f95f8-f84e-4148-a7d6-2e42e5bfb8e6\",\"subtype\":\"Figure\",\"type\":\"Plot\"}},\"id\":\"d9529acc-4a3b-4b89-b063-204dd8e2c916\",\"type\":\"PanTool\"},{\"attributes\":{\"dimension\":1,\"plot\":{\"id\":\"edf2e3ec-b7d0-43cd-b41a-ae39aff67a86\",\"subtype\":\"Figure\",\"type\":\"Plot\"},\"ticker\":{\"id\":\"7da9e211-8059-4d67-a287-daccd3fdd618\",\"type\":\"BasicTicker\"}},\"id\":\"94cddefe-cbef-4f67-9404-475a14e9cc63\",\"type\":\"Grid\"},{\"attributes\":{\"plot\":{\"id\":\"69164c54-c2ef-436c-a3f0-a88b1ad80fbb\",\"subtype\":\"Figure\",\"type\":\"Plot\"}},\"id\":\"28d64d31-5769-465a-90bc-fe2483d7e6e0\",\"type\":\"SaveTool\"},{\"attributes\":{\"label\":{\"value\":\"High\"},\"renderers\":[{\"id\":\"c9e7e25a-b5fc-4ac0-93ef-250fcd134bff\",\"type\":\"GlyphRenderer\"}]},\"id\":\"daebcea2-7ab6-4518-97e7-cb295e251bda\",\"type\":\"LegendItem\"},{\"attributes\":{\"data_source\":{\"id\":\"a7fdfa35-f5e2-4455-8056-0cc9a1a6324a\",\"type\":\"ColumnDataSource\"},\"glyph\":{\"id\":\"6239a7c1-aaa3-4ea7-9f85-ea9394a87ca6\",\"type\":\"Line\"},\"hover_glyph\":null,\"nonselection_glyph\":{\"id\":\"aaff019b-2dc0-43a3-aab1-7d3cd1c33074\",\"type\":\"Line\"},\"selection_glyph\":null},\"id\":\"21cd90d7-b1e1-4441-a066-7aaaafccd1ed\",\"type\":\"GlyphRenderer\"},{\"attributes\":{\"data_source\":{\"id\":\"4157f6cb-192e-4bd1-adbf-87b9f7d98052\",\"type\":\"ColumnDataSource\"},\"glyph\":{\"id\":\"ed8badf7-065e-4b0b-a898-5695fdb194b1\",\"type\":\"Line\"},\"hover_glyph\":null,\"nonselection_glyph\":{\"id\":\"6478309d-4091-48fc-b32d-1ccf517852e6\",\"type\":\"Line\"},\"selection_glyph\":null},\"id\":\"79ee1431-904b-42ac-89a3-12c4622ab460\",\"type\":\"GlyphRenderer\"},{\"attributes\":{\"label\":{\"value\":\"Close\"},\"renderers\":[{\"id\":\"75c65025-b160-4e7d-9a5e-bf2573c53ede\",\"type\":\"GlyphRenderer\"}]},\"id\":\"56730a9f-c9c1-4cd9-9641-e168e024cc25\",\"type\":\"LegendItem\"},{\"attributes\":{},\"id\":\"4f06364d-4bf9-4a25-9ae2-3b69aa9b7c6f\",\"type\":\"ToolEvents\"},{\"attributes\":{\"line_color\":{\"value\":\"orange\"},\"x\":{\"field\":\"x\"},\"y\":{\"field\":\"y\"}},\"id\":\"a5d3f9b1-ffa8-4b05-927c-1dcb3af408bf\",\"type\":\"Line\"},{\"attributes\":{},\"id\":\"ba0f65f6-6ce0-4ba1-9452-50ffd85d8b4f\",\"type\":\"BasicTickFormatter\"},{\"attributes\":{\"callback\":null,\"column_names\":[\"x\",\"y\"],\"data\":{\"x\":{\"__ndarray__\":\"AAAAGfGjdUIAAMB+Q6R1QgAAgOSVpHVCAADAFY2ldUIAAIB736V1QgAAQOExpnVCAAAAR4SmdUIAAADezad1QgAAwEMgqHVCAACAqXKodUIAAEAPxah1QgAAAHUXqXVCAABApg6qdUIAAAAMYap1QgAAwHGzqnVCAACA1wWrdUIAAEA9WKt1QgAAQNShrHVCAAAAOvSsdUI=\",\"dtype\":\"float64\",\"shape\":[19]},\"y\":{\"__ndarray__\":\"MzMzMzMDdUBmZmZmZgZ1QGZmZmZmEnVAAAAAAADodEAAAAAAAGB0QJqZmZmZrXRAMzMzMzNrdECamZmZmWV0QJqZmZmZnXRAmpmZmZmpdEAzMzMzM/t0QAAAAAAAsHRAmpmZmZnldEAAAAAAAEB1QM3MzMzM8HRAzczMzMxwdEAAAAAAAFB0QDMzMzMzE3VAmpmZmZnhdEA=\",\"dtype\":\"float64\",\"shape\":[19]}}},\"id\":\"c9768d3a-2125-499e-9fc5-7e6248e66448\",\"type\":\"ColumnDataSource\"},{\"attributes\":{\"data_source\":{\"id\":\"1548049c-cb0b-4e8c-9d73-a1c84f768b16\",\"type\":\"ColumnDataSource\"},\"glyph\":{\"id\":\"b617108a-3e30-48de-aaf7-a2b4d24010e5\",\"type\":\"Line\"},\"hover_glyph\":null,\"nonselection_glyph\":{\"id\":\"52ab7ab9-2ab0-4d15-89d5-17a352bb0a81\",\"type\":\"Line\"},\"selection_glyph\":null},\"id\":\"fb931d72-b59b-4051-952f-9c735ce8f66b\",\"type\":\"GlyphRenderer\"},{\"attributes\":{\"months\":[0,4,8]},\"id\":\"a7e8e337-7b52-4735-993a-89948d440138\",\"type\":\"MonthsTicker\"},{\"attributes\":{\"months\":[0,6]},\"id\":\"06d9ea1d-fa0d-4e3b-b4c4-12dcff161cbb\",\"type\":\"MonthsTicker\"},{\"attributes\":{\"callback\":null,\"column_names\":[\"x\",\"y\"],\"data\":{\"x\":{\"__ndarray__\":\"AAAAGfGjdUIAAMB+Q6R1QgAAgOSVpHVCAADAFY2ldUIAAIB736V1QgAAQOExpnVCAAAAR4SmdUIAAADezad1QgAAwEMgqHVCAACAqXKodUIAAEAPxah1QgAAAHUXqXVCAABApg6qdUIAAAAMYap1QgAAwHGzqnVCAACA1wWrdUIAAEA9WKt1QgAAQNShrHVCAAAAOvSsdUI=\",\"dtype\":\"float64\",\"shape\":[19]},\"y\":{\"__ndarray__\":\"mpmZmZkFdUBmZmZmZup0QGZmZmZm1nRAZmZmZmZydEDNzMzMzIB0QAAAAAAAaHRAZmZmZmZudEAzMzMzM4N0QJqZmZmZcXRAZmZmZmbSdEAzMzMzM690QGZmZmZm2nRAmpmZmZkldUDNzMzMzPB0QM3MzMzMcHRAmpmZmZlBdEBmZmZmZuZ0QDMzMzMz83RAmpmZmZnJdEA=\",\"dtype\":\"float64\",\"shape\":[19]}}},\"id\":\"5fd22318-7fc6-4b9a-87d5-23ab8018b216\",\"type\":\"ColumnDataSource\"},{\"attributes\":{\"bottom_units\":\"screen\",\"fill_alpha\":{\"value\":0.5},\"fill_color\":{\"value\":\"lightgrey\"},\"left_units\":\"screen\",\"level\":\"overlay\",\"line_alpha\":{\"value\":1.0},\"line_color\":{\"value\":\"black\"},\"line_dash\":[4,4],\"line_width\":{\"value\":2},\"plot\":null,\"render_mode\":\"css\",\"right_units\":\"screen\",\"top_units\":\"screen\"},\"id\":\"25a85844-637f-4ed3-8653-32b60e12da98\",\"type\":\"BoxAnnotation\"},{\"attributes\":{\"plot\":null,\"text\":\"NSE/OIL\"},\"id\":\"dfcbcdec-8f6e-42c6-af37-bb7b4dd73c13\",\"type\":\"Title\"},{\"attributes\":{\"line_color\":{\"field\":\"orenge\"},\"x\":{\"field\":\"x\"},\"y\":{\"field\":\"y\"}},\"id\":\"6154c1c3-760e-4530-9908-f74fc3dae818\",\"type\":\"Line\"},{\"attributes\":{\"plot\":null,\"text\":\"NSE/OIL\"},\"id\":\"e0b3330d-2b7e-4fe2-9da6-3dfdd497b6c9\",\"type\":\"Title\"},{\"attributes\":{\"x\":{\"field\":\"x\"},\"y\":{\"field\":\"y\"}},\"id\":\"daff053c-8283-42b7-a6cc-3c297e68a5f0\",\"type\":\"Line\"},{\"attributes\":{\"plot\":{\"id\":\"9270e32e-4f6b-4c04-94f2-a47286bbb20b\",\"subtype\":\"Figure\",\"type\":\"Plot\"}},\"id\":\"a576ced4-c248-4641-8a48-6fd41806e8a2\",\"type\":\"ResetTool\"},{\"attributes\":{\"plot\":{\"id\":\"bad3fd3b-905f-43ca-81d5-574d2a2ced82\",\"subtype\":\"Figure\",\"type\":\"Plot\"}},\"id\":\"48e275d1-4066-49a7-aed3-dbc95ffd6c0d\",\"type\":\"HelpTool\"},{\"attributes\":{\"months\":[0,6]},\"id\":\"9d18e742-1279-48d6-8935-90bd75368a05\",\"type\":\"MonthsTicker\"},{\"attributes\":{\"plot\":{\"id\":\"586def4c-f6f5-40dc-b8ac-79b78a650045\",\"subtype\":\"Figure\",\"type\":\"Plot\"},\"ticker\":{\"id\":\"251a2074-e979-41e6-b877-cee66560c505\",\"type\":\"DatetimeTicker\"}},\"id\":\"6c156fc0-3ff2-4074-b886-538043650dfc\",\"type\":\"Grid\"},{\"attributes\":{\"callback\":null,\"column_names\":[\"y\",\"x\"],\"data\":{\"x\":{\"__ndarray__\":\"AAAAGfGjdUIAAMB+Q6R1QgAAgOSVpHVCAADAFY2ldUIAAIB736V1QgAAQOExpnVCAAAAR4SmdUIAAADezad1QgAAwEMgqHVCAACAqXKodUIAAEAPxah1QgAAAHUXqXVCAABApg6qdUIAAAAMYap1QgAAwHGzqnVCAACA1wWrdUIAAEA9WKt1QgAAQNShrHVCAAAAOvSsdUI=\",\"dtype\":\"float64\",\"shape\":[19]},\"y\":{\"__ndarray__\":\"mpmZmZkFdUBmZmZmZup0QGZmZmZm1nRAZmZmZmZydEDNzMzMzIB0QAAAAAAAaHRAZmZmZmZudEAzMzMzM4N0QJqZmZmZcXRAZmZmZmbSdEAzMzMzM690QGZmZmZm2nRAmpmZmZkldUDNzMzMzPB0QM3MzMzMcHRAmpmZmZlBdEBmZmZmZuZ0QDMzMzMz83RAmpmZmZnJdEA=\",\"dtype\":\"float64\",\"shape\":[19]}}},\"id\":\"4679aee3-41af-458b-8fbf-9252588f95cb\",\"type\":\"ColumnDataSource\"},{\"attributes\":{\"items\":[{\"id\":\"f8fd96fa-7268-41d1-ac7a-d8e459dfd9e0\",\"type\":\"LegendItem\"},{\"id\":\"d6d78e9b-f36d-45c8-931e-e9000cf758ae\",\"type\":\"LegendItem\"},{\"id\":\"70bc7900-d598-453f-9bd1-3adc72b6b87e\",\"type\":\"LegendItem\"}],\"plot\":{\"id\":\"7f4f95f8-f84e-4148-a7d6-2e42e5bfb8e6\",\"subtype\":\"Figure\",\"type\":\"Plot\"}},\"id\":\"425e13e3-4ec1-4419-a57b-072afd95a9a5\",\"type\":\"Legend\"},{\"attributes\":{\"plot\":{\"id\":\"69164c54-c2ef-436c-a3f0-a88b1ad80fbb\",\"subtype\":\"Figure\",\"type\":\"Plot\"}},\"id\":\"a523bdb0-472f-47c6-b086-3d5efeba8be3\",\"type\":\"HelpTool\"},{\"attributes\":{\"callback\":null,\"column_names\":[\"x\",\"y\"],\"data\":{\"x\":{\"__ndarray__\":\"AAAAGfGjdUIAAMB+Q6R1QgAAgOSVpHVCAADAFY2ldUIAAIB736V1QgAAQOExpnVCAAAAR4SmdUIAAADezad1QgAAwEMgqHVCAACAqXKodUIAAEAPxah1QgAAAHUXqXVCAABApg6qdUIAAAAMYap1QgAAwHGzqnVCAACA1wWrdUIAAEA9WKt1QgAAQNShrHVCAAAAOvSsdUI=\",\"dtype\":\"float64\",\"shape\":[19]},\"y\":{\"__ndarray__\":\"mpmZmZlddUAzMzMzMy91QGZmZmZmEnVAZmZmZmbudEAAAAAAAOx0QDMzMzMzv3RAzczMzMykdEAzMzMzM5t0QGZmZmZmnnRAAAAAAADgdEAAAAAAABB1QGZmZmZm/nRAAAAAAAAwdUAzMzMzM0t1QDMzMzMzB3VAmpmZmZlxdEDNzMzMzBR1QAAAAAAASHVAzczMzMz8dEA=\",\"dtype\":\"float64\",\"shape\":[19]}}},\"id\":\"1548049c-cb0b-4e8c-9d73-a1c84f768b16\",\"type\":\"ColumnDataSource\"},{\"attributes\":{},\"id\":\"d8d5d1c7-1666-43d3-9f23-e832cf2a3564\",\"type\":\"YearsTicker\"},{\"attributes\":{\"days\":[1,15]},\"id\":\"a193e262-fcd4-4ca5-b3c3-512b127a253a\",\"type\":\"DaysTicker\"},{\"attributes\":{\"months\":[0,1,2,3,4,5,6,7,8,9,10,11]},\"id\":\"1223e19e-8f76-4fa6-b272-8337553d0b89\",\"type\":\"MonthsTicker\"},{\"attributes\":{},\"id\":\"bbe3ca14-2c59-4298-a9c8-2e3e8f57aed7\",\"type\":\"BasicTickFormatter\"},{\"attributes\":{\"active_drag\":\"auto\",\"active_scroll\":\"auto\",\"active_tap\":\"auto\",\"tools\":[{\"id\":\"401afb04-c7d0-4b02-833e-56a0691ac1a7\",\"type\":\"PanTool\"},{\"id\":\"84fbce0a-3b95-4e83-a37b-1b9e1e6d7789\",\"type\":\"WheelZoomTool\"},{\"id\":\"495f71f8-d532-4da2-b73a-3ace96bfd42c\",\"type\":\"BoxZoomTool\"},{\"id\":\"9b520de5-8d97-4ec2-b0c3-052d0bce2841\",\"type\":\"SaveTool\"},{\"id\":\"7a0577f8-c64c-45b7-9227-e0fd0c7d5e9d\",\"type\":\"ResetTool\"},{\"id\":\"0064c21a-9e93-42ab-9b92-7fb72342518c\",\"type\":\"HelpTool\"}]},\"id\":\"f41fce0d-b81a-4685-86eb-c226a42c4a15\",\"type\":\"Toolbar\"},{\"attributes\":{\"callback\":null,\"column_names\":[\"x\",\"y\"],\"data\":{\"x\":{\"__ndarray__\":\"AAAAGfGjdUIAAMB+Q6R1QgAAgOSVpHVCAADAFY2ldUIAAIB736V1QgAAQOExpnVCAAAAR4SmdUIAAADezad1QgAAwEMgqHVCAACAqXKodUIAAEAPxah1QgAAAHUXqXVCAABApg6qdUIAAAAMYap1QgAAwHGzqnVCAACA1wWrdUIAAEA9WKt1QgAAQNShrHVCAAAAOvSsdUI=\",\"dtype\":\"float64\",\"shape\":[19]},\"y\":{\"__ndarray__\":\"mpmZmZkFdUBmZmZmZup0QGZmZmZm1nRAZmZmZmZydEDNzMzMzIB0QAAAAAAAaHRAZmZmZmZudEAzMzMzM4N0QJqZmZmZcXRAZmZmZmbSdEAzMzMzM690QGZmZmZm2nRAmpmZmZkldUDNzMzMzPB0QM3MzMzMcHRAmpmZmZlBdEBmZmZmZuZ0QDMzMzMz83RAmpmZmZnJdEA=\",\"dtype\":\"float64\",\"shape\":[19]}}},\"id\":\"b0d03da1-e949-4ab8-8f2e-5c19aba484bb\",\"type\":\"ColumnDataSource\"},{\"attributes\":{\"callback\":null},\"id\":\"2e161b14-8eb6-45f5-9929-db79c9563992\",\"type\":\"DataRange1d\"},{\"attributes\":{\"label\":{\"value\":\"Close\"},\"renderers\":[{\"id\":\"c089b56c-a0c4-4641-bb9d-1125a87e7700\",\"type\":\"GlyphRenderer\"}]},\"id\":\"f8fd96fa-7268-41d1-ac7a-d8e459dfd9e0\",\"type\":\"LegendItem\"},{\"attributes\":{\"days\":[1,8,15,22]},\"id\":\"659a8a96-c383-48d3-a002-ccbd3cb3b46b\",\"type\":\"DaysTicker\"},{\"attributes\":{\"plot\":{\"id\":\"9270e32e-4f6b-4c04-94f2-a47286bbb20b\",\"subtype\":\"Figure\",\"type\":\"Plot\"}},\"id\":\"be3e3d10-8a3a-469f-a011-c044608c0498\",\"type\":\"HelpTool\"},{\"attributes\":{\"formatter\":{\"id\":\"b8abbe43-117f-4da7-b55f-1825fe5e7b0e\",\"type\":\"BasicTickFormatter\"},\"plot\":{\"id\":\"9c93c299-356f-49e1-8bd8-d4a523a4e452\",\"subtype\":\"Figure\",\"type\":\"Plot\"},\"ticker\":{\"id\":\"4d3a2171-2959-4353-b1c1-6a3db62c36db\",\"type\":\"BasicTicker\"}},\"id\":\"18b7d262-8a79-4431-b3aa-45ed54b886f2\",\"type\":\"LinearAxis\"}],\"root_ids\":[\"b54d1169-c443-467e-a1b2-8a966f7eb6cb\",\"9c93c299-356f-49e1-8bd8-d4a523a4e452\",\"9270e32e-4f6b-4c04-94f2-a47286bbb20b\",\"7f4f95f8-f84e-4148-a7d6-2e42e5bfb8e6\",\"edf2e3ec-b7d0-43cd-b41a-ae39aff67a86\",\"bad3fd3b-905f-43ca-81d5-574d2a2ced82\",\"73b1094d-193e-4357-a106-81e11fdf05ca\",\"69164c54-c2ef-436c-a3f0-a88b1ad80fbb\",\"586def4c-f6f5-40dc-b8ac-79b78a650045\"]},\"title\":\"Bokeh Application\",\"version\":\"0.12.4\"}};\\n      var render_items = [{\"docid\":\"58ccef22-7fb8-444d-8a1e-56661113cd97\",\"elementid\":\"4dbc5253-fe81-443b-91f2-14ff3f9666d1\",\"modelid\":\"586def4c-f6f5-40dc-b8ac-79b78a650045\"}];\\n      \\n      Bokeh.embed.embed_items(docs_json, render_items);\\n    });\\n  };\\n  if (document.readyState != \"loading\") fn();\\n  else document.addEventListener(\"DOMContentLoaded\", fn);\\n})();\\n\\n</script>'"
      ]
     },
     "execution_count": 96,
     "metadata": {},
     "output_type": "execute_result"
    }
   ],
   "source": [
    "str(script)"
   ]
  },
  {
   "cell_type": "code",
   "execution_count": 107,
   "metadata": {
    "collapsed": true
   },
   "outputs": [],
   "source": [
    "result = {'data': myData.to_json(), 'div': str(div), 'script': str(script)}"
   ]
  },
  {
   "cell_type": "code",
   "execution_count": 104,
   "metadata": {
    "collapsed": true
   },
   "outputs": [],
   "source": [
    "import json"
   ]
  },
  {
   "cell_type": "code",
   "execution_count": 108,
   "metadata": {
    "collapsed": false
   },
   "outputs": [
    {
     "data": {
      "text/plain": [
       "'{\"ticker\":{\"0\":\"GOOG\",\"1\":\"GOOG\",\"2\":\"GOOG\",\"3\":\"GOOG\",\"4\":\"GOOG\",\"5\":\"GOOG\",\"6\":\"GOOG\",\"7\":\"GOOG\",\"8\":\"GOOG\",\"9\":\"GOOG\",\"10\":\"GOOG\",\"11\":\"GOOG\",\"12\":\"GOOG\",\"13\":\"GOOG\",\"14\":\"GOOG\",\"15\":\"GOOG\",\"16\":\"GOOG\",\"17\":\"GOOG\",\"18\":\"GOOG\",\"19\":\"GOOG\"},\"date\":{\"0\":1487116800000,\"1\":1487203200000,\"2\":1487289600000,\"3\":1487635200000,\"4\":1487721600000,\"5\":1487808000000,\"6\":1487894400000,\"7\":1488153600000,\"8\":1488240000000,\"9\":1488326400000,\"10\":1488412800000,\"11\":1488499200000,\"12\":1488758400000,\"13\":1488844800000,\"14\":1488931200000,\"15\":1489017600000,\"16\":1489104000000,\"17\":1489363200000,\"18\":1489449600000,\"19\":1489536000000},\"close\":{\"0\":818.98,\"1\":824.16,\"2\":828.07,\"3\":831.66,\"4\":830.76,\"5\":831.33,\"6\":828.64,\"7\":829.28,\"8\":823.21,\"9\":835.24,\"10\":830.63,\"11\":829.08,\"12\":827.78,\"13\":831.91,\"14\":835.37,\"15\":838.68,\"16\":843.25,\"17\":845.54,\"18\":845.62,\"19\":847.2}}'"
      ]
     },
     "execution_count": 108,
     "metadata": {},
     "output_type": "execute_result"
    }
   ],
   "source": [
    "result['data']"
   ]
  },
  {
   "cell_type": "code",
   "execution_count": 127,
   "metadata": {
    "collapsed": false
   },
   "outputs": [],
   "source": [
    "tickers = quandl.get_table(\"WIKI/PRICES\",\n",
    "                          qopts={\"columns\":[\"ticker\"]},\n",
    "                          ticker=['sdcsdc'])"
   ]
  },
  {
   "cell_type": "code",
   "execution_count": 129,
   "metadata": {
    "collapsed": false
   },
   "outputs": [
    {
     "data": {
      "text/html": [
       "<div>\n",
       "<table border=\"1\" class=\"dataframe\">\n",
       "  <thead>\n",
       "    <tr style=\"text-align: right;\">\n",
       "      <th></th>\n",
       "      <th>ticker</th>\n",
       "    </tr>\n",
       "    <tr>\n",
       "      <th>None</th>\n",
       "      <th></th>\n",
       "    </tr>\n",
       "  </thead>\n",
       "  <tbody>\n",
       "  </tbody>\n",
       "</table>\n",
       "</div>"
      ],
      "text/plain": [
       "Empty DataFrame\n",
       "Columns: [ticker]\n",
       "Index: []"
      ]
     },
     "execution_count": 129,
     "metadata": {},
     "output_type": "execute_result"
    }
   ],
   "source": [
    "tickers"
   ]
  },
  {
   "cell_type": "code",
   "execution_count": null,
   "metadata": {
    "collapsed": true
   },
   "outputs": [],
   "source": []
  }
 ],
 "metadata": {
  "kernelspec": {
   "display_name": "Python 2",
   "language": "python",
   "name": "python2"
  },
  "language_info": {
   "codemirror_mode": {
    "name": "ipython",
    "version": 2
   },
   "file_extension": ".py",
   "mimetype": "text/x-python",
   "name": "python",
   "nbconvert_exporter": "python",
   "pygments_lexer": "ipython2",
   "version": "2.7.13"
  }
 },
 "nbformat": 4,
 "nbformat_minor": 2
}
